{
 "cells": [
  {
   "cell_type": "code",
   "execution_count": 36,
   "metadata": {
    "collapsed": true
   },
   "outputs": [],
   "source": [
    "# Celda para importar librerías, costantes, etc.\n",
    "import tensorflow as tf\n",
    "import pandas as pd\n",
    "import numpy as np\n",
    "import soundfile as sf\n",
    "import librosa\n",
    "import mido\n",
    "import math\n",
    "import copy\n",
    "\n",
    "from matplotlib import pyplot as plt\n",
    "from IPython import display\n",
    "from tqdm import tqdm\n",
    "\n",
    "plt.rcParams['text.usetex'] = True\n",
    "\n",
    "# Para entrenarlo en mi equipor personal:\n",
    "PATH = '/Volumes/TheVault/Documentos Mac/Documentos Universidad/4o Curso/2o Cuatrimestre/Trabajo de Fin de Grado/maestro-v3.0.0/'"
   ]
  },
  {
   "cell_type": "code",
   "execution_count": 6,
   "outputs": [],
   "source": [
    "def get_dataframe(path=PATH + 'maestro-v3.0.0.csv'):\n",
    "    return pd.read_csv(path)\n",
    "\n",
    "def set_dataframe(df, path=PATH + 'maestro-v3.0.0.csv'):\n",
    "    df.to_csv(path, index=False)\n",
    "\n",
    "SAMPLING_RATE = 16000"
   ],
   "metadata": {
    "collapsed": false,
    "pycharm": {
     "name": "#%%\n"
    }
   }
  },
  {
   "cell_type": "code",
   "execution_count": 5,
   "outputs": [
    {
     "data": {
      "text/plain": "   Unnamed: 0  canonical_composer                canonical_title       split  \\\n0           0          Alban Berg                   Sonata Op. 1       train   \n1           1          Alban Berg                   Sonata Op. 1       train   \n2           2          Alban Berg                   Sonata Op. 1       train   \n3           3  Alexander Scriabin  24 Preludes Op. 11, No. 13-24       train   \n4           4  Alexander Scriabin               3 Etudes, Op. 65  validation   \n\n   year                                      midi_filename  \\\n0  2018  2018/MIDI-Unprocessed_Chamber3_MID--AUDIO_10_R...   \n1  2008  2008/MIDI-Unprocessed_03_R2_2008_01-03_ORIG_MI...   \n2  2017  2017/MIDI-Unprocessed_066_PIANO066_MID--AUDIO-...   \n3  2004  2004/MIDI-Unprocessed_XP_21_R1_2004_01_ORIG_MI...   \n4  2006  2006/MIDI-Unprocessed_17_R1_2006_01-06_ORIG_MI...   \n\n                                      audio_filename    duration  data_cached  \\\n0  2018/MIDI-Unprocessed_Chamber3_MID--AUDIO_10_R...  698.661160         True   \n1  2008/MIDI-Unprocessed_03_R2_2008_01-03_ORIG_MI...  759.518471         True   \n2  2017/MIDI-Unprocessed_066_PIANO066_MID--AUDIO-...  464.649433         True   \n3  2004/MIDI-Unprocessed_XP_21_R1_2004_01_ORIG_MI...  872.640588         True   \n4  2006/MIDI-Unprocessed_17_R1_2006_01-06_ORIG_MI...  397.857508         True   \n\n   epochs_trained  \n0               0  \n1               0  \n2               0  \n3               0  \n4               0  ",
      "text/html": "<div>\n<style scoped>\n    .dataframe tbody tr th:only-of-type {\n        vertical-align: middle;\n    }\n\n    .dataframe tbody tr th {\n        vertical-align: top;\n    }\n\n    .dataframe thead th {\n        text-align: right;\n    }\n</style>\n<table border=\"1\" class=\"dataframe\">\n  <thead>\n    <tr style=\"text-align: right;\">\n      <th></th>\n      <th>Unnamed: 0</th>\n      <th>canonical_composer</th>\n      <th>canonical_title</th>\n      <th>split</th>\n      <th>year</th>\n      <th>midi_filename</th>\n      <th>audio_filename</th>\n      <th>duration</th>\n      <th>data_cached</th>\n      <th>epochs_trained</th>\n    </tr>\n  </thead>\n  <tbody>\n    <tr>\n      <th>0</th>\n      <td>0</td>\n      <td>Alban Berg</td>\n      <td>Sonata Op. 1</td>\n      <td>train</td>\n      <td>2018</td>\n      <td>2018/MIDI-Unprocessed_Chamber3_MID--AUDIO_10_R...</td>\n      <td>2018/MIDI-Unprocessed_Chamber3_MID--AUDIO_10_R...</td>\n      <td>698.661160</td>\n      <td>True</td>\n      <td>0</td>\n    </tr>\n    <tr>\n      <th>1</th>\n      <td>1</td>\n      <td>Alban Berg</td>\n      <td>Sonata Op. 1</td>\n      <td>train</td>\n      <td>2008</td>\n      <td>2008/MIDI-Unprocessed_03_R2_2008_01-03_ORIG_MI...</td>\n      <td>2008/MIDI-Unprocessed_03_R2_2008_01-03_ORIG_MI...</td>\n      <td>759.518471</td>\n      <td>True</td>\n      <td>0</td>\n    </tr>\n    <tr>\n      <th>2</th>\n      <td>2</td>\n      <td>Alban Berg</td>\n      <td>Sonata Op. 1</td>\n      <td>train</td>\n      <td>2017</td>\n      <td>2017/MIDI-Unprocessed_066_PIANO066_MID--AUDIO-...</td>\n      <td>2017/MIDI-Unprocessed_066_PIANO066_MID--AUDIO-...</td>\n      <td>464.649433</td>\n      <td>True</td>\n      <td>0</td>\n    </tr>\n    <tr>\n      <th>3</th>\n      <td>3</td>\n      <td>Alexander Scriabin</td>\n      <td>24 Preludes Op. 11, No. 13-24</td>\n      <td>train</td>\n      <td>2004</td>\n      <td>2004/MIDI-Unprocessed_XP_21_R1_2004_01_ORIG_MI...</td>\n      <td>2004/MIDI-Unprocessed_XP_21_R1_2004_01_ORIG_MI...</td>\n      <td>872.640588</td>\n      <td>True</td>\n      <td>0</td>\n    </tr>\n    <tr>\n      <th>4</th>\n      <td>4</td>\n      <td>Alexander Scriabin</td>\n      <td>3 Etudes, Op. 65</td>\n      <td>validation</td>\n      <td>2006</td>\n      <td>2006/MIDI-Unprocessed_17_R1_2006_01-06_ORIG_MI...</td>\n      <td>2006/MIDI-Unprocessed_17_R1_2006_01-06_ORIG_MI...</td>\n      <td>397.857508</td>\n      <td>True</td>\n      <td>0</td>\n    </tr>\n  </tbody>\n</table>\n</div>"
     },
     "execution_count": 5,
     "metadata": {},
     "output_type": "execute_result"
    }
   ],
   "source": [
    "df = get_dataframe()\n",
    "df.head()"
   ],
   "metadata": {
    "collapsed": false,
    "pycharm": {
     "name": "#%%\n"
    }
   }
  },
  {
   "cell_type": "code",
   "execution_count": 17,
   "outputs": [
    {
     "name": "stderr",
     "output_type": "stream",
     "text": [
      "100%|██████████| 1276/1276 [7:01:27<00:00, 19.82s/it]  \n"
     ]
    }
   ],
   "source": [
    "levels = []\n",
    "time_length = 5\n",
    "n_items = time_length * SAMPLING_RATE # ~ 10 segundos\n",
    "\n",
    "for file in tqdm(df['audio_filename']):\n",
    "    path = PATH + file\n",
    "    data, sr = librosa.load(path, sr=SAMPLING_RATE)\n",
    "    levels.append(data[0:n_items])"
   ],
   "metadata": {
    "collapsed": false,
    "pycharm": {
     "name": "#%%\n"
    }
   }
  },
  {
   "cell_type": "code",
   "execution_count": 113,
   "outputs": [
    {
     "data": {
      "text/plain": "(160000, 1276)"
     },
     "execution_count": 113,
     "metadata": {},
     "output_type": "execute_result"
    }
   ],
   "source": [
    "levels_np = np.array(levels)\n",
    "levels_np = levels_np.T\n",
    "levels_np.shape"
   ],
   "metadata": {
    "collapsed": false,
    "pycharm": {
     "name": "#%%\n"
    }
   }
  },
  {
   "cell_type": "code",
   "execution_count": 139,
   "outputs": [],
   "source": [
    "SAMPLING_PERIOD = 1 / 4\n",
    "statistic_window = SAMPLING_PERIOD * SAMPLING_RATE\n",
    "iters = int(levels_np.shape[0] / statistic_window)\n",
    "\n",
    "statistics = []\n",
    "\n",
    "for i in range(iters):\n",
    "    idx1, idx2 = int(i * statistic_window), int((i+1) * statistic_window)\n",
    "    statistics.append(np.hstack(levels_np[idx1:idx2]))"
   ],
   "metadata": {
    "collapsed": false,
    "pycharm": {
     "name": "#%%\n"
    }
   }
  },
  {
   "cell_type": "code",
   "execution_count": 145,
   "outputs": [
    {
     "data": {
      "text/plain": "<Figure size 288x198 with 1 Axes>",
      "image/png": "[encoded data removed]"
     },
     "metadata": {
      "needs_background": "light"
     },
     "output_type": "display_data"
    }
   ],
   "source": [
    "FILE=True\n",
    "plt.figure(figsize=(4,2.75))\n",
    "\n",
    "# Creating plot\n",
    "plt.boxplot(statistics, 0, '')\n",
    "plt.ylim(-0.1, 0.1)\n",
    "plt.xlim(0, time_length * (1/SAMPLING_PERIOD))\n",
    "plt.xlabel('$t(s)$')\n",
    "plt.ylabel('$\\Delta$')\n",
    "plt.title('Distribución de las amplitudes en el tiempo')\n",
    "plt.xticks(range(len(statistics)), ['$' + str(i) + '$' for i in np.arange(0, time_length, SAMPLING_PERIOD)], rotation=90)\n",
    "plt.grid(axis='both', which='major', color='#DDDDDD', linewidth=0.8)\n",
    "plt.grid(axis='x', which='minor', color='#EEEEEE', linestyle=':', linewidth=0.5)\n",
    "\n",
    "# Outputing the plot to an image or showning it\n",
    "if FILE:\n",
    "    plt.savefig('meds&stds.png', bbox_inches='tight', dpi=600)\n",
    "else:\n",
    "    plt.show()"
   ],
   "metadata": {
    "collapsed": false,
    "pycharm": {
     "name": "#%%\n"
    }
   }
  },
  {
   "cell_type": "code",
   "execution_count": null,
   "outputs": [],
   "source": [],
   "metadata": {
    "collapsed": false,
    "pycharm": {
     "name": "#%%\n"
    }
   }
  },
  {
   "cell_type": "code",
   "execution_count": 117,
   "outputs": [],
   "source": [
    "levels_np = levels_np[0:int(levels_np.shape[0]/2), :]"
   ],
   "metadata": {
    "collapsed": false,
    "pycharm": {
     "name": "#%%\n"
    }
   }
  },
  {
   "cell_type": "code",
   "execution_count": 140,
   "outputs": [],
   "source": [],
   "metadata": {
    "collapsed": false,
    "pycharm": {
     "name": "#%%\n"
    }
   }
  },
  {
   "cell_type": "code",
   "execution_count": 140,
   "outputs": [],
   "source": [],
   "metadata": {
    "collapsed": false,
    "pycharm": {
     "name": "#%%\n"
    }
   }
  },
  {
   "cell_type": "code",
   "execution_count": null,
   "outputs": [],
   "source": [],
   "metadata": {
    "collapsed": false,
    "pycharm": {
     "name": "#%%\n"
    }
   }
  }
 ],
 "metadata": {
  "kernelspec": {
   "display_name": "Python 3",
   "language": "python",
   "name": "python3"
  },
  "language_info": {
   "codemirror_mode": {
    "name": "ipython",
    "version": 2
   },
   "file_extension": ".py",
   "mimetype": "text/x-python",
   "name": "python",
   "nbconvert_exporter": "python",
   "pygments_lexer": "ipython2",
   "version": "2.7.6"
  }
 },
 "nbformat": 4,
 "nbformat_minor": 0
}