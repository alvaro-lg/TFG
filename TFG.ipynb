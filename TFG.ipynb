{
 "cells": [
  {
   "cell_type": "markdown",
   "id": "1c79e3bf",
   "metadata": {
    "id": "1c79e3bf"
   },
   "source": [
    "# Interpretación de música de piano usando técnicas de Deep Learning.\n",
    "## Trabajo de Fin de Grado.\n",
    "### Facultad de Ciencias - Universidad de Cantabria.\n",
    "**Autor:** Álvaro López García. <br>\n",
    "**Tutor:** Cristina Tirnauca."
   ]
  },
  {
   "cell_type": "code",
   "execution_count": 1,
   "id": "64c0a123",
   "metadata": {
    "colab": {
     "base_uri": "https://localhost:8080/"
    },
    "executionInfo": {
     "elapsed": 25146,
     "status": "ok",
     "timestamp": 1658472759485,
     "user": {
      "displayName": "Alvaro Lopez Garcia",
      "userId": "08444033500803305702"
     },
     "user_tz": -120
    },
    "id": "64c0a123",
    "outputId": "0b53ab4a-3954-40de-f6ef-7375cb591a5d"
   },
   "outputs": [
    {
     "data": {
      "text/plain": [
       "\"from google.colab import drive\\ndrive.mount('/content/drive')\\n!pip install mido\\n%cd drive/MyDrive/Colab\\\\ Notebooks/TFG/\""
      ]
     },
     "execution_count": 1,
     "metadata": {},
     "output_type": "execute_result"
    }
   ],
   "source": [
    "# Colab-only\n",
    "'''from google.colab import drive\n",
    "drive.mount('/content/drive')\n",
    "!pip install mido\n",
    "%cd drive/MyDrive/Colab\\ Notebooks/TFG/'''"
   ]
  },
  {
   "cell_type": "code",
   "execution_count": 2,
   "id": "e19ac735",
   "metadata": {
    "colab": {
     "base_uri": "https://localhost:8080/",
     "height": 71
    },
    "executionInfo": {
     "elapsed": 17728,
     "status": "ok",
     "timestamp": 1658472777203,
     "user": {
      "displayName": "Alvaro Lopez Garcia",
      "userId": "08444033500803305702"
     },
     "user_tz": -120
    },
    "id": "e19ac735",
    "outputId": "e3ab202f-0edc-42d4-fe3f-80e8cb8f78ae"
   },
   "outputs": [
    {
     "data": {
      "text/html": [
       "<style>.container { width:70% !important; }</style>"
      ],
      "text/plain": [
       "<IPython.core.display.HTML object>"
      ]
     },
     "metadata": {},
     "output_type": "display_data"
    }
   ],
   "source": [
    "# Celda para importar librerías, costantes, etc.\n",
    "import tensorflow as tf\n",
    "import pandas as pd\n",
    "import numpy as np\n",
    "import soundfile as sf\n",
    "import librosa\n",
    "import gc\n",
    "import mido\n",
    "import math\n",
    "import copy\n",
    "\n",
    "from matplotlib import pyplot as plt\n",
    "from IPython import display\n",
    "from tqdm import tqdm\n",
    "\n",
    "from IPython.display import display, HTML\n",
    "display(HTML(\"<style>.container { width:70% !important; }</style>\"))\n",
    "\n",
    "# Para entrenarlo en mi equipor personal:\n",
    "PATH = '/Volumes/TheVault/Documentos Mac/Documentos Universidad/4o Curso/2o Cuatrimestre/Trabajo de Fin de Grado/maestro-v3.0.0/'\n",
    "# PATH = '../maestro-v3.0.0/'"
   ]
  },
  {
   "cell_type": "markdown",
   "id": "95b2a31c",
   "metadata": {
    "id": "95b2a31c"
   },
   "source": [
    "### Creación del dataframe"
   ]
  },
  {
   "cell_type": "code",
   "execution_count": 3,
   "id": "8a188a22",
   "metadata": {
    "executionInfo": {
     "elapsed": 12,
     "status": "ok",
     "timestamp": 1658472777204,
     "user": {
      "displayName": "Alvaro Lopez Garcia",
      "userId": "08444033500803305702"
     },
     "user_tz": -120
    },
    "id": "8a188a22"
   },
   "outputs": [],
   "source": [
    "def get_dataframe(path=PATH + 'maestro-v3.0.0.csv'):\n",
    "    return pd.read_csv(path)\n",
    "\n",
    "def set_dataframe(df, path=PATH + 'maestro-v3.0.0.csv'):\n",
    "    df.to_csv(path, index=False)"
   ]
  },
  {
   "cell_type": "code",
   "execution_count": 4,
   "id": "17447080",
   "metadata": {
    "colab": {
     "base_uri": "https://localhost:8080/",
     "height": 353
    },
    "executionInfo": {
     "elapsed": 428,
     "status": "ok",
     "timestamp": 1658472777624,
     "user": {
      "displayName": "Alvaro Lopez Garcia",
      "userId": "08444033500803305702"
     },
     "user_tz": -120
    },
    "id": "17447080",
    "outputId": "6db98d6a-c907-41bd-ba83-47de4372f2d4"
   },
   "outputs": [
    {
     "data": {
      "text/html": [
       "<div>\n",
       "<style scoped>\n",
       "    .dataframe tbody tr th:only-of-type {\n",
       "        vertical-align: middle;\n",
       "    }\n",
       "\n",
       "    .dataframe tbody tr th {\n",
       "        vertical-align: top;\n",
       "    }\n",
       "\n",
       "    .dataframe thead th {\n",
       "        text-align: right;\n",
       "    }\n",
       "</style>\n",
       "<table border=\"1\" class=\"dataframe\">\n",
       "  <thead>\n",
       "    <tr style=\"text-align: right;\">\n",
       "      <th></th>\n",
       "      <th>canonical_composer</th>\n",
       "      <th>canonical_title</th>\n",
       "      <th>split</th>\n",
       "      <th>year</th>\n",
       "      <th>midi_filename</th>\n",
       "      <th>audio_filename</th>\n",
       "      <th>duration</th>\n",
       "      <th>epochs_trained</th>\n",
       "    </tr>\n",
       "  </thead>\n",
       "  <tbody>\n",
       "    <tr>\n",
       "      <th>0</th>\n",
       "      <td>Alban Berg</td>\n",
       "      <td>Sonata Op. 1</td>\n",
       "      <td>train</td>\n",
       "      <td>2017</td>\n",
       "      <td>2017/MIDI-Unprocessed_066_PIANO066_MID--AUDIO-...</td>\n",
       "      <td>2017/MIDI-Unprocessed_066_PIANO066_MID--AUDIO-...</td>\n",
       "      <td>464.649433</td>\n",
       "      <td>1</td>\n",
       "    </tr>\n",
       "    <tr>\n",
       "      <th>1</th>\n",
       "      <td>Alexander Scriabin</td>\n",
       "      <td>24 Preludes Op. 11, No. 13-24</td>\n",
       "      <td>train</td>\n",
       "      <td>2004</td>\n",
       "      <td>2004/MIDI-Unprocessed_XP_21_R1_2004_01_ORIG_MI...</td>\n",
       "      <td>2004/MIDI-Unprocessed_XP_21_R1_2004_01_ORIG_MI...</td>\n",
       "      <td>872.640588</td>\n",
       "      <td>1</td>\n",
       "    </tr>\n",
       "    <tr>\n",
       "      <th>2</th>\n",
       "      <td>Alexander Scriabin</td>\n",
       "      <td>3 Etudes, Op. 65</td>\n",
       "      <td>validation</td>\n",
       "      <td>2006</td>\n",
       "      <td>2006/MIDI-Unprocessed_17_R1_2006_01-06_ORIG_MI...</td>\n",
       "      <td>2006/MIDI-Unprocessed_17_R1_2006_01-06_ORIG_MI...</td>\n",
       "      <td>397.857508</td>\n",
       "      <td>0</td>\n",
       "    </tr>\n",
       "    <tr>\n",
       "      <th>3</th>\n",
       "      <td>Alexander Scriabin</td>\n",
       "      <td>5 Preludes, Op.15</td>\n",
       "      <td>validation</td>\n",
       "      <td>2009</td>\n",
       "      <td>2009/MIDI-Unprocessed_07_R1_2009_04-05_ORIG_MI...</td>\n",
       "      <td>2009/MIDI-Unprocessed_07_R1_2009_04-05_ORIG_MI...</td>\n",
       "      <td>400.557826</td>\n",
       "      <td>0</td>\n",
       "    </tr>\n",
       "    <tr>\n",
       "      <th>4</th>\n",
       "      <td>Alexander Scriabin</td>\n",
       "      <td>Entragete, Op.63</td>\n",
       "      <td>test</td>\n",
       "      <td>2009</td>\n",
       "      <td>2009/MIDI-Unprocessed_11_R1_2009_06-09_ORIG_MI...</td>\n",
       "      <td>2009/MIDI-Unprocessed_11_R1_2009_06-09_ORIG_MI...</td>\n",
       "      <td>163.745830</td>\n",
       "      <td>0</td>\n",
       "    </tr>\n",
       "  </tbody>\n",
       "</table>\n",
       "</div>"
      ],
      "text/plain": [
       "   canonical_composer                canonical_title       split  year  \\\n",
       "0          Alban Berg                   Sonata Op. 1       train  2017   \n",
       "1  Alexander Scriabin  24 Preludes Op. 11, No. 13-24       train  2004   \n",
       "2  Alexander Scriabin               3 Etudes, Op. 65  validation  2006   \n",
       "3  Alexander Scriabin              5 Preludes, Op.15  validation  2009   \n",
       "4  Alexander Scriabin               Entragete, Op.63        test  2009   \n",
       "\n",
       "                                       midi_filename  \\\n",
       "0  2017/MIDI-Unprocessed_066_PIANO066_MID--AUDIO-...   \n",
       "1  2004/MIDI-Unprocessed_XP_21_R1_2004_01_ORIG_MI...   \n",
       "2  2006/MIDI-Unprocessed_17_R1_2006_01-06_ORIG_MI...   \n",
       "3  2009/MIDI-Unprocessed_07_R1_2009_04-05_ORIG_MI...   \n",
       "4  2009/MIDI-Unprocessed_11_R1_2009_06-09_ORIG_MI...   \n",
       "\n",
       "                                      audio_filename    duration  \\\n",
       "0  2017/MIDI-Unprocessed_066_PIANO066_MID--AUDIO-...  464.649433   \n",
       "1  2004/MIDI-Unprocessed_XP_21_R1_2004_01_ORIG_MI...  872.640588   \n",
       "2  2006/MIDI-Unprocessed_17_R1_2006_01-06_ORIG_MI...  397.857508   \n",
       "3  2009/MIDI-Unprocessed_07_R1_2009_04-05_ORIG_MI...  400.557826   \n",
       "4  2009/MIDI-Unprocessed_11_R1_2009_06-09_ORIG_MI...  163.745830   \n",
       "\n",
       "   epochs_trained  \n",
       "0               1  \n",
       "1               1  \n",
       "2               0  \n",
       "3               0  \n",
       "4               0  "
      ]
     },
     "execution_count": 4,
     "metadata": {},
     "output_type": "execute_result"
    }
   ],
   "source": [
    "df = get_dataframe('maestro-v3.0.0.csv')\n",
    "df.head()"
   ]
  },
  {
   "cell_type": "markdown",
   "id": "50449f7c",
   "metadata": {
    "id": "50449f7c"
   },
   "source": [
    "## Clases, métodos y constantes para el procesado del Dataset"
   ]
  },
  {
   "cell_type": "markdown",
   "id": "866c588f",
   "metadata": {
    "id": "866c588f"
   },
   "source": [
    "### Parámetros del procesado"
   ]
  },
  {
   "cell_type": "code",
   "execution_count": 5,
   "id": "b9ae8ddc",
   "metadata": {
    "executionInfo": {
     "elapsed": 10,
     "status": "ok",
     "timestamp": 1658472777625,
     "user": {
      "displayName": "Alvaro Lopez Garcia",
      "userId": "08444033500803305702"
     },
     "user_tz": -120
    },
    "id": "b9ae8ddc",
    "scrolled": true
   },
   "outputs": [],
   "source": [
    "#Parámetros de configuración de los archivos de audio\n",
    "SAMPLING_RATE = 16000\n",
    "N_NOTES = 88"
   ]
  },
  {
   "cell_type": "markdown",
   "id": "8df284f9",
   "metadata": {
    "id": "8df284f9"
   },
   "source": [
    "###  Código para el procesado de los datos relativos a los ficheros MIDI (`*.midi -> tf.Dataset`)"
   ]
  },
  {
   "cell_type": "code",
   "execution_count": 6,
   "id": "5b331006",
   "metadata": {
    "executionInfo": {
     "elapsed": 9,
     "status": "ok",
     "timestamp": 1658472777626,
     "user": {
      "displayName": "Alvaro Lopez Garcia",
      "userId": "08444033500803305702"
     },
     "user_tz": -120
    },
    "id": "5b331006"
   },
   "outputs": [],
   "source": [
    "# Constantes relativas al estádar MIDI\n",
    "DEFAULT_SR = 500000"
   ]
  },
  {
   "cell_type": "code",
   "execution_count": 7,
   "id": "4c6f6c1c",
   "metadata": {
    "executionInfo": {
     "elapsed": 285,
     "status": "ok",
     "timestamp": 1658472777903,
     "user": {
      "displayName": "Alvaro Lopez Garcia",
      "userId": "08444033500803305702"
     },
     "user_tz": -120
    },
    "id": "4c6f6c1c"
   },
   "outputs": [],
   "source": [
    "from utils.midi_handler import Midi_handler\n",
    "midi_hdlr = Midi_handler(sampling_rate=SAMPLING_RATE, dir_path=PATH, n_notes=N_NOTES)"
   ]
  },
  {
   "cell_type": "code",
   "execution_count": 8,
   "id": "5ffd981f",
   "metadata": {
    "colab": {
     "base_uri": "https://localhost:8080/",
     "height": 54
    },
    "executionInfo": {
     "elapsed": 11,
     "status": "ok",
     "timestamp": 1658472777904,
     "user": {
      "displayName": "Alvaro Lopez Garcia",
      "userId": "08444033500803305702"
     },
     "user_tz": -120
    },
    "id": "5ffd981f",
    "outputId": "48b4d590-de6a-4261-9712-f5aaa931547f",
    "scrolled": false
   },
   "outputs": [
    {
     "data": {
      "text/plain": [
       "\"# Ploteamos una sección de un pianoroll de ejemplo\\nmidi_hdlr.plot_pianoroll(midi_hdlr.vectorize_midi(df['midi_filename'][0])[0:640000], title=df['midi_filename'][0])\""
      ]
     },
     "execution_count": 8,
     "metadata": {},
     "output_type": "execute_result"
    }
   ],
   "source": [
    "'''# Ploteamos una sección de un pianoroll de ejemplo\n",
    "midi_hdlr.plot_pianoroll(midi_hdlr.vectorize_midi(df['midi_filename'][0])[0:640000], title=df['midi_filename'][0])'''"
   ]
  },
  {
   "cell_type": "markdown",
   "id": "0ea6772b",
   "metadata": {
    "id": "0ea6772b"
   },
   "source": [
    "Para los datos relativos a los ficheros `.midi` aplicaremos la normalización **MinMax** donde cada nuevo valor $x'$ para cada ejemplo $x$ vendrá dado por: $$ x' = \\frac{x - min}{max - min} ,$$ donde $max$ y $min$ son los valores máximos y mínimos de los valores de entrada. En este caso, dada la definición del estándar MIDI, sabemos que los valores de estas velocidades ya están parametrizados entre $0$ y $127$ por lo que no necesitamos iterar sobre los datos para conocer el máximo y el mínimo. Para ello definiremos las siguientes constantes:"
   ]
  },
  {
   "cell_type": "code",
   "execution_count": 9,
   "id": "0c320418",
   "metadata": {
    "executionInfo": {
     "elapsed": 9,
     "status": "ok",
     "timestamp": 1658472777904,
     "user": {
      "displayName": "Alvaro Lopez Garcia",
      "userId": "08444033500803305702"
     },
     "user_tz": -120
    },
    "id": "0c320418"
   },
   "outputs": [],
   "source": [
    "# Constates para aplicar la normalización a los ficheros MIDI\n",
    "MIDI_MAX = 127\n",
    "MIDI_MIN = 0"
   ]
  },
  {
   "cell_type": "markdown",
   "id": "d34e402f",
   "metadata": {
    "id": "d34e402f"
   },
   "source": [
    "### Código para el procesado de los datos relativos a los ficheros de audio (`*.wav -> tf.Dataset`)"
   ]
  },
  {
   "cell_type": "code",
   "execution_count": 10,
   "id": "3b3b5fc1",
   "metadata": {
    "executionInfo": {
     "elapsed": 325,
     "status": "ok",
     "timestamp": 1658472778221,
     "user": {
      "displayName": "Alvaro Lopez Garcia",
      "userId": "08444033500803305702"
     },
     "user_tz": -120
    },
    "id": "3b3b5fc1"
   },
   "outputs": [],
   "source": [
    "from utils.wav_handler import Wav_handler\n",
    "wav_hdlr = Wav_handler(sampling_rate=SAMPLING_RATE, dir_path=PATH)"
   ]
  },
  {
   "cell_type": "code",
   "execution_count": 11,
   "id": "b9211509",
   "metadata": {
    "colab": {
     "base_uri": "https://localhost:8080/",
     "height": 1000
    },
    "executionInfo": {
     "elapsed": 8,
     "status": "ok",
     "timestamp": 1658472778221,
     "user": {
      "displayName": "Alvaro Lopez Garcia",
      "userId": "08444033500803305702"
     },
     "user_tz": -120
    },
    "id": "b9211509",
    "outputId": "79f354e2-22cc-4f01-92d5-ffeaffd8c2e3"
   },
   "outputs": [
    {
     "data": {
      "text/plain": [
       "\"# Ploteamos una sección de una onda\\nwav_hdlr.plot_wav(wav_hdlr.vectorize_wav(df['audio_filename'][0])[0:128000], title=df['audio_filename'][0])\""
      ]
     },
     "execution_count": 11,
     "metadata": {},
     "output_type": "execute_result"
    }
   ],
   "source": [
    "'''# Ploteamos una sección de una onda\n",
    "wav_hdlr.plot_wav(wav_hdlr.vectorize_wav(df['audio_filename'][0])[0:128000], title=df['audio_filename'][0])'''"
   ]
  },
  {
   "cell_type": "markdown",
   "id": "6028e359",
   "metadata": {
    "id": "6028e359"
   },
   "source": [
    "Para la compresión de la señal emplearemos una compresión basada en una $\\mu$-law."
   ]
  },
  {
   "cell_type": "code",
   "execution_count": 12,
   "id": "884befc9",
   "metadata": {
    "executionInfo": {
     "elapsed": 6,
     "status": "ok",
     "timestamp": 1658472778221,
     "user": {
      "displayName": "Alvaro Lopez Garcia",
      "userId": "08444033500803305702"
     },
     "user_tz": -120
    },
    "id": "884befc9"
   },
   "outputs": [],
   "source": [
    "# Constates relativas a la compresión con la mu-law\n",
    "N_BITS = 7\n",
    "N_LEVELS = 2 ** N_BITS\n",
    "MU = 256\n",
    "AMPS = (-1, 1)"
   ]
  },
  {
   "cell_type": "code",
   "execution_count": 13,
   "id": "18a7a8a2",
   "metadata": {
    "executionInfo": {
     "elapsed": 280,
     "status": "ok",
     "timestamp": 1658472778495,
     "user": {
      "displayName": "Alvaro Lopez Garcia",
      "userId": "08444033500803305702"
     },
     "user_tz": -120
    },
    "id": "18a7a8a2"
   },
   "outputs": [],
   "source": [
    "from utils.mu_law_encoder import Mu_law_encoder\n",
    "mulaw_enc = Mu_law_encoder(mu=MU, n_bits=N_BITS, amps=AMPS)"
   ]
  },
  {
   "cell_type": "markdown",
   "id": "4425b36e",
   "metadata": {
    "id": "4425b36e"
   },
   "source": [
    "## Creación del modelo\n",
    "![WaveNet_residblock.png](attachment:WaveNet_residblock.png)"
   ]
  },
  {
   "cell_type": "code",
   "execution_count": 14,
   "id": "680154d7",
   "metadata": {
    "executionInfo": {
     "elapsed": 8,
     "status": "ok",
     "timestamp": 1658472778496,
     "user": {
      "displayName": "Alvaro Lopez Garcia",
      "userId": "08444033500803305702"
     },
     "user_tz": -120
    },
    "id": "680154d7"
   },
   "outputs": [],
   "source": [
    "def calculate_receptive_field(n_blocks, n_layers):\n",
    "    return sum([2 ** i for i in range(n_layers)] * n_blocks) - n_blocks + 1"
   ]
  },
  {
   "cell_type": "code",
   "execution_count": 15,
   "id": "3fed6829",
   "metadata": {
    "executionInfo": {
     "elapsed": 6,
     "status": "ok",
     "timestamp": 1658472778496,
     "user": {
      "displayName": "Alvaro Lopez Garcia",
      "userId": "08444033500803305702"
     },
     "user_tz": -120
    },
    "id": "3fed6829"
   },
   "outputs": [],
   "source": [
    "# Parámetros que definen la arquitectura del modelo a crear por defecto en las llamadas a get_wavenet()\n",
    "\n",
    "# Parámetros de la arquitectura interna de la red\n",
    "N_FILTERS = N_LEVELS\n",
    "FILTER_WIDTH = 2\n",
    "\n",
    "# Main wavenet\n",
    "N_BLOCKS = 6\n",
    "K_LAYERS = 7\n",
    "\n",
    "# Context stack\n",
    "CONTEXT_BLOCKS = 2\n",
    "CONTEXT_LAYERS = 6\n",
    "\n",
    "# Números y longitudes de ejemplos de entrada, salida y local conditioning\n",
    "INPUT_LEN = calculate_receptive_field(N_BLOCKS, K_LAYERS)\n",
    "N_IN_CHANNELS = N_LEVELS\n",
    "LC_LEN = 1\n",
    "N_LC_CHANNELS = N_NOTES\n",
    "\n",
    "# Dimensionalidad de input/output/local conditioning\n",
    "INP_SHAPE = (INPUT_LEN, N_IN_CHANNELS)\n",
    "OUT_SHAPE = INP_SHAPE\n",
    "LC_SHAPE = (LC_LEN, N_LC_CHANNELS)"
   ]
  },
  {
   "cell_type": "code",
   "execution_count": 16,
   "id": "03092472",
   "metadata": {
    "colab": {
     "base_uri": "https://localhost:8080/"
    },
    "executionInfo": {
     "elapsed": 8743,
     "status": "ok",
     "timestamp": 1658472787233,
     "user": {
      "displayName": "Alvaro Lopez Garcia",
      "userId": "08444033500803305702"
     },
     "user_tz": -120
    },
    "id": "03092472",
    "outputId": "aaeb5ee9-75fd-4a3c-8f72-bf7dc01f03bb",
    "scrolled": false
   },
   "outputs": [
    {
     "name": "stderr",
     "output_type": "stream",
     "text": [
      "2022-08-02 20:07:15.901856: I tensorflow/core/platform/cpu_feature_guard.cc:151] This TensorFlow binary is optimized with oneAPI Deep Neural Network Library (oneDNN) to use the following CPU instructions in performance-critical operations:  AVX2 FMA\n",
      "To enable them in other operations, rebuild TensorFlow with the appropriate compiler flags.\n"
     ]
    },
    {
     "name": "stdout",
     "output_type": "stream",
     "text": [
      "Model: \"model\"\n",
      "__________________________________________________________________________________________________\n",
      " Layer (type)                   Output Shape         Param #     Connected to                     \n",
      "==================================================================================================\n",
      " lc (InputLayer)                [(None, 1, 88)]      0           []                               \n",
      "                                                                                                  \n",
      " conv1d (Conv1D)                (None, 1, 128)       22656       ['lc[0][0]']                     \n",
      "                                                                                                  \n",
      " activation (Activation)        (None, 1, 128)       0           ['conv1d[0][0]']                 \n",
      "                                                                                                  \n",
      " activation_1 (Activation)      (None, 1, 128)       0           ['conv1d[0][0]']                 \n",
      "                                                                                                  \n",
      " multiply (Multiply)            (None, 1, 128)       0           ['activation[0][0]',             \n",
      "                                                                  'activation_1[0][0]']           \n",
      "                                                                                                  \n",
      " conv1d_2 (Conv1D)              (None, 1, 1)         129         ['multiply[0][0]']               \n",
      "                                                                                                  \n",
      " add (Add)                      (None, 1, 128)       0           ['conv1d[0][0]',                 \n",
      "                                                                  'conv1d_2[0][0]']               \n",
      "                                                                                                  \n",
      " activation_2 (Activation)      (None, 1, 128)       0           ['add[0][0]']                    \n",
      "                                                                                                  \n",
      " activation_3 (Activation)      (None, 1, 128)       0           ['add[0][0]']                    \n",
      "                                                                                                  \n",
      " multiply_1 (Multiply)          (None, 1, 128)       0           ['activation_2[0][0]',           \n",
      "                                                                  'activation_3[0][0]']           \n",
      "                                                                                                  \n",
      " conv1d_4 (Conv1D)              (None, 1, 1)         129         ['multiply_1[0][0]']             \n",
      "                                                                                                  \n",
      " add_1 (Add)                    (None, 1, 128)       0           ['add[0][0]',                    \n",
      "                                                                  'conv1d_4[0][0]']               \n",
      "                                                                                                  \n",
      " activation_4 (Activation)      (None, 1, 128)       0           ['add_1[0][0]']                  \n",
      "                                                                                                  \n",
      " activation_5 (Activation)      (None, 1, 128)       0           ['add_1[0][0]']                  \n",
      "                                                                                                  \n",
      " multiply_2 (Multiply)          (None, 1, 128)       0           ['activation_4[0][0]',           \n",
      "                                                                  'activation_5[0][0]']           \n",
      "                                                                                                  \n",
      " conv1d_6 (Conv1D)              (None, 1, 1)         129         ['multiply_2[0][0]']             \n",
      "                                                                                                  \n",
      " add_2 (Add)                    (None, 1, 128)       0           ['add_1[0][0]',                  \n",
      "                                                                  'conv1d_6[0][0]']               \n",
      "                                                                                                  \n",
      " activation_6 (Activation)      (None, 1, 128)       0           ['add_2[0][0]']                  \n",
      "                                                                                                  \n",
      " activation_7 (Activation)      (None, 1, 128)       0           ['add_2[0][0]']                  \n",
      "                                                                                                  \n",
      " multiply_3 (Multiply)          (None, 1, 128)       0           ['activation_6[0][0]',           \n",
      "                                                                  'activation_7[0][0]']           \n",
      "                                                                                                  \n",
      " conv1d_8 (Conv1D)              (None, 1, 1)         129         ['multiply_3[0][0]']             \n",
      "                                                                                                  \n",
      " add_3 (Add)                    (None, 1, 128)       0           ['add_2[0][0]',                  \n",
      "                                                                  'conv1d_8[0][0]']               \n",
      "                                                                                                  \n",
      " activation_8 (Activation)      (None, 1, 128)       0           ['add_3[0][0]']                  \n",
      "                                                                                                  \n",
      " activation_9 (Activation)      (None, 1, 128)       0           ['add_3[0][0]']                  \n",
      "                                                                                                  \n",
      " multiply_4 (Multiply)          (None, 1, 128)       0           ['activation_8[0][0]',           \n",
      "                                                                  'activation_9[0][0]']           \n",
      "                                                                                                  \n",
      " conv1d_10 (Conv1D)             (None, 1, 1)         129         ['multiply_4[0][0]']             \n",
      "                                                                                                  \n",
      " add_4 (Add)                    (None, 1, 128)       0           ['add_3[0][0]',                  \n",
      "                                                                  'conv1d_10[0][0]']              \n",
      "                                                                                                  \n",
      " activation_10 (Activation)     (None, 1, 128)       0           ['add_4[0][0]']                  \n",
      "                                                                                                  \n",
      " activation_11 (Activation)     (None, 1, 128)       0           ['add_4[0][0]']                  \n",
      "                                                                                                  \n",
      " multiply_5 (Multiply)          (None, 1, 128)       0           ['activation_10[0][0]',          \n",
      "                                                                  'activation_11[0][0]']          \n",
      "                                                                                                  \n",
      " conv1d_12 (Conv1D)             (None, 1, 1)         129         ['multiply_5[0][0]']             \n",
      "                                                                                                  \n",
      " add_5 (Add)                    (None, 1, 128)       0           ['add_4[0][0]',                  \n",
      "                                                                  'conv1d_12[0][0]']              \n",
      "                                                                                                  \n",
      " activation_12 (Activation)     (None, 1, 128)       0           ['add_5[0][0]']                  \n",
      "                                                                                                  \n",
      " activation_13 (Activation)     (None, 1, 128)       0           ['add_5[0][0]']                  \n",
      "                                                                                                  \n"
     ]
    },
    {
     "name": "stdout",
     "output_type": "stream",
     "text": [
      " multiply_6 (Multiply)          (None, 1, 128)       0           ['activation_12[0][0]',          \n",
      "                                                                  'activation_13[0][0]']          \n",
      "                                                                                                  \n",
      " conv1d_14 (Conv1D)             (None, 1, 1)         129         ['multiply_6[0][0]']             \n",
      "                                                                                                  \n",
      " add_6 (Add)                    (None, 1, 128)       0           ['add_5[0][0]',                  \n",
      "                                                                  'conv1d_14[0][0]']              \n",
      "                                                                                                  \n",
      " activation_14 (Activation)     (None, 1, 128)       0           ['add_6[0][0]']                  \n",
      "                                                                                                  \n",
      " activation_15 (Activation)     (None, 1, 128)       0           ['add_6[0][0]']                  \n",
      "                                                                                                  \n",
      " multiply_7 (Multiply)          (None, 1, 128)       0           ['activation_14[0][0]',          \n",
      "                                                                  'activation_15[0][0]']          \n",
      "                                                                                                  \n",
      " conv1d_16 (Conv1D)             (None, 1, 1)         129         ['multiply_7[0][0]']             \n",
      "                                                                                                  \n",
      " add_7 (Add)                    (None, 1, 128)       0           ['add_6[0][0]',                  \n",
      "                                                                  'conv1d_16[0][0]']              \n",
      "                                                                                                  \n",
      " activation_16 (Activation)     (None, 1, 128)       0           ['add_7[0][0]']                  \n",
      "                                                                                                  \n",
      " activation_17 (Activation)     (None, 1, 128)       0           ['add_7[0][0]']                  \n",
      "                                                                                                  \n",
      " multiply_8 (Multiply)          (None, 1, 128)       0           ['activation_16[0][0]',          \n",
      "                                                                  'activation_17[0][0]']          \n",
      "                                                                                                  \n",
      " conv1d_18 (Conv1D)             (None, 1, 1)         129         ['multiply_8[0][0]']             \n",
      "                                                                                                  \n",
      " add_8 (Add)                    (None, 1, 128)       0           ['add_7[0][0]',                  \n",
      "                                                                  'conv1d_18[0][0]']              \n",
      "                                                                                                  \n",
      " activation_18 (Activation)     (None, 1, 128)       0           ['add_8[0][0]']                  \n",
      "                                                                                                  \n",
      " activation_19 (Activation)     (None, 1, 128)       0           ['add_8[0][0]']                  \n",
      "                                                                                                  \n",
      " multiply_9 (Multiply)          (None, 1, 128)       0           ['activation_18[0][0]',          \n",
      "                                                                  'activation_19[0][0]']          \n",
      "                                                                                                  \n",
      " conv1d_20 (Conv1D)             (None, 1, 1)         129         ['multiply_9[0][0]']             \n",
      "                                                                                                  \n",
      " add_9 (Add)                    (None, 1, 128)       0           ['add_8[0][0]',                  \n",
      "                                                                  'conv1d_20[0][0]']              \n",
      "                                                                                                  \n",
      " activation_20 (Activation)     (None, 1, 128)       0           ['add_9[0][0]']                  \n",
      "                                                                                                  \n",
      " activation_21 (Activation)     (None, 1, 128)       0           ['add_9[0][0]']                  \n",
      "                                                                                                  \n",
      " multiply_10 (Multiply)         (None, 1, 128)       0           ['activation_20[0][0]',          \n",
      "                                                                  'activation_21[0][0]']          \n",
      "                                                                                                  \n",
      " conv1d_22 (Conv1D)             (None, 1, 1)         129         ['multiply_10[0][0]']            \n",
      "                                                                                                  \n",
      " add_10 (Add)                   (None, 1, 128)       0           ['add_9[0][0]',                  \n",
      "                                                                  'conv1d_22[0][0]']              \n",
      "                                                                                                  \n",
      " activation_22 (Activation)     (None, 1, 128)       0           ['add_10[0][0]']                 \n",
      "                                                                                                  \n",
      " activation_23 (Activation)     (None, 1, 128)       0           ['add_10[0][0]']                 \n",
      "                                                                                                  \n",
      " seq (InputLayer)               [(None, 757, 128)]   0           []                               \n",
      "                                                                                                  \n",
      " multiply_11 (Multiply)         (None, 1, 128)       0           ['activation_22[0][0]',          \n",
      "                                                                  'activation_23[0][0]']          \n",
      "                                                                                                  \n",
      " conv1d_25 (Conv1D)             (None, 757, 128)     32896       ['seq[0][0]']                    \n",
      "                                                                                                  \n",
      " conv1d_24 (Conv1D)             (None, 1, 1)         129         ['multiply_11[0][0]']            \n",
      "                                                                                                  \n",
      " conv1d_26 (Conv1D)             (None, 757, 128)     32896       ['conv1d_25[0][0]']              \n",
      "                                                                                                  \n",
      " add_11 (Add)                   (None, 1, 128)       0           ['add_10[0][0]',                 \n",
      "                                                                  'conv1d_24[0][0]']              \n",
      "                                                                                                  \n",
      " add_12 (Add)                   (None, 757, 128)     0           ['conv1d_26[0][0]',              \n",
      "                                                                  'add_11[0][0]']                 \n",
      "                                                                                                  \n",
      " activation_24 (Activation)     (None, 757, 128)     0           ['add_12[0][0]']                 \n",
      "                                                                                                  \n",
      " activation_25 (Activation)     (None, 757, 128)     0           ['add_12[0][0]']                 \n",
      "                                                                                                  \n",
      " multiply_12 (Multiply)         (None, 757, 128)     0           ['activation_24[0][0]',          \n",
      "                                                                  'activation_25[0][0]']          \n"
     ]
    },
    {
     "name": "stdout",
     "output_type": "stream",
     "text": [
      "                                                                                                  \n",
      " conv1d_27 (Conv1D)             (None, 757, 1)       129         ['multiply_12[0][0]']            \n",
      "                                                                                                  \n",
      " add_13 (Add)                   (None, 757, 128)     0           ['conv1d_25[0][0]',              \n",
      "                                                                  'conv1d_27[0][0]']              \n",
      "                                                                                                  \n",
      " conv1d_28 (Conv1D)             (None, 757, 128)     32896       ['add_13[0][0]']                 \n",
      "                                                                                                  \n",
      " add_14 (Add)                   (None, 757, 128)     0           ['conv1d_28[0][0]',              \n",
      "                                                                  'add_11[0][0]']                 \n",
      "                                                                                                  \n",
      " activation_26 (Activation)     (None, 757, 128)     0           ['add_14[0][0]']                 \n",
      "                                                                                                  \n",
      " activation_27 (Activation)     (None, 757, 128)     0           ['add_14[0][0]']                 \n",
      "                                                                                                  \n",
      " multiply_13 (Multiply)         (None, 757, 128)     0           ['activation_26[0][0]',          \n",
      "                                                                  'activation_27[0][0]']          \n",
      "                                                                                                  \n",
      " conv1d_29 (Conv1D)             (None, 757, 1)       129         ['multiply_13[0][0]']            \n",
      "                                                                                                  \n",
      " add_15 (Add)                   (None, 757, 128)     0           ['add_13[0][0]',                 \n",
      "                                                                  'conv1d_29[0][0]']              \n",
      "                                                                                                  \n",
      " conv1d_30 (Conv1D)             (None, 757, 128)     32896       ['add_15[0][0]']                 \n",
      "                                                                                                  \n",
      " add_16 (Add)                   (None, 757, 128)     0           ['conv1d_30[0][0]',              \n",
      "                                                                  'add_11[0][0]']                 \n",
      "                                                                                                  \n",
      " activation_28 (Activation)     (None, 757, 128)     0           ['add_16[0][0]']                 \n",
      "                                                                                                  \n",
      " activation_29 (Activation)     (None, 757, 128)     0           ['add_16[0][0]']                 \n",
      "                                                                                                  \n",
      " multiply_14 (Multiply)         (None, 757, 128)     0           ['activation_28[0][0]',          \n",
      "                                                                  'activation_29[0][0]']          \n",
      "                                                                                                  \n",
      " conv1d_31 (Conv1D)             (None, 757, 1)       129         ['multiply_14[0][0]']            \n",
      "                                                                                                  \n",
      " add_17 (Add)                   (None, 757, 128)     0           ['add_15[0][0]',                 \n",
      "                                                                  'conv1d_31[0][0]']              \n",
      "                                                                                                  \n",
      " conv1d_32 (Conv1D)             (None, 757, 128)     32896       ['add_17[0][0]']                 \n",
      "                                                                                                  \n",
      " add_18 (Add)                   (None, 757, 128)     0           ['conv1d_32[0][0]',              \n",
      "                                                                  'add_11[0][0]']                 \n",
      "                                                                                                  \n",
      " activation_30 (Activation)     (None, 757, 128)     0           ['add_18[0][0]']                 \n",
      "                                                                                                  \n",
      " activation_31 (Activation)     (None, 757, 128)     0           ['add_18[0][0]']                 \n",
      "                                                                                                  \n",
      " multiply_15 (Multiply)         (None, 757, 128)     0           ['activation_30[0][0]',          \n",
      "                                                                  'activation_31[0][0]']          \n",
      "                                                                                                  \n",
      " conv1d_33 (Conv1D)             (None, 757, 1)       129         ['multiply_15[0][0]']            \n",
      "                                                                                                  \n",
      " add_19 (Add)                   (None, 757, 128)     0           ['add_17[0][0]',                 \n",
      "                                                                  'conv1d_33[0][0]']              \n",
      "                                                                                                  \n",
      " conv1d_34 (Conv1D)             (None, 757, 128)     32896       ['add_19[0][0]']                 \n",
      "                                                                                                  \n",
      " add_20 (Add)                   (None, 757, 128)     0           ['conv1d_34[0][0]',              \n",
      "                                                                  'add_11[0][0]']                 \n",
      "                                                                                                  \n",
      " activation_32 (Activation)     (None, 757, 128)     0           ['add_20[0][0]']                 \n",
      "                                                                                                  \n",
      " activation_33 (Activation)     (None, 757, 128)     0           ['add_20[0][0]']                 \n",
      "                                                                                                  \n",
      " multiply_16 (Multiply)         (None, 757, 128)     0           ['activation_32[0][0]',          \n",
      "                                                                  'activation_33[0][0]']          \n",
      "                                                                                                  \n",
      " conv1d_35 (Conv1D)             (None, 757, 1)       129         ['multiply_16[0][0]']            \n",
      "                                                                                                  \n",
      " add_21 (Add)                   (None, 757, 128)     0           ['add_19[0][0]',                 \n",
      "                                                                  'conv1d_35[0][0]']              \n",
      "                                                                                                  \n",
      " conv1d_36 (Conv1D)             (None, 757, 128)     32896       ['add_21[0][0]']                 \n",
      "                                                                                                  \n",
      " add_22 (Add)                   (None, 757, 128)     0           ['conv1d_36[0][0]',              \n",
      "                                                                  'add_11[0][0]']                 \n",
      "                                                                                                  \n",
      " activation_34 (Activation)     (None, 757, 128)     0           ['add_22[0][0]']                 \n",
      "                                                                                                  \n",
      " activation_35 (Activation)     (None, 757, 128)     0           ['add_22[0][0]']                 \n",
      "                                                                                                  \n"
     ]
    },
    {
     "name": "stdout",
     "output_type": "stream",
     "text": [
      " multiply_17 (Multiply)         (None, 757, 128)     0           ['activation_34[0][0]',          \n",
      "                                                                  'activation_35[0][0]']          \n",
      "                                                                                                  \n",
      " conv1d_37 (Conv1D)             (None, 757, 1)       129         ['multiply_17[0][0]']            \n",
      "                                                                                                  \n",
      " add_23 (Add)                   (None, 757, 128)     0           ['add_21[0][0]',                 \n",
      "                                                                  'conv1d_37[0][0]']              \n",
      "                                                                                                  \n",
      " conv1d_38 (Conv1D)             (None, 757, 128)     32896       ['add_23[0][0]']                 \n",
      "                                                                                                  \n",
      " add_24 (Add)                   (None, 757, 128)     0           ['conv1d_38[0][0]',              \n",
      "                                                                  'add_11[0][0]']                 \n",
      "                                                                                                  \n",
      " activation_36 (Activation)     (None, 757, 128)     0           ['add_24[0][0]']                 \n",
      "                                                                                                  \n",
      " activation_37 (Activation)     (None, 757, 128)     0           ['add_24[0][0]']                 \n",
      "                                                                                                  \n",
      " multiply_18 (Multiply)         (None, 757, 128)     0           ['activation_36[0][0]',          \n",
      "                                                                  'activation_37[0][0]']          \n",
      "                                                                                                  \n",
      " conv1d_39 (Conv1D)             (None, 757, 1)       129         ['multiply_18[0][0]']            \n",
      "                                                                                                  \n",
      " add_25 (Add)                   (None, 757, 128)     0           ['add_23[0][0]',                 \n",
      "                                                                  'conv1d_39[0][0]']              \n",
      "                                                                                                  \n",
      " conv1d_40 (Conv1D)             (None, 757, 128)     32896       ['add_25[0][0]']                 \n",
      "                                                                                                  \n",
      " add_26 (Add)                   (None, 757, 128)     0           ['conv1d_40[0][0]',              \n",
      "                                                                  'add_11[0][0]']                 \n",
      "                                                                                                  \n",
      " activation_38 (Activation)     (None, 757, 128)     0           ['add_26[0][0]']                 \n",
      "                                                                                                  \n",
      " activation_39 (Activation)     (None, 757, 128)     0           ['add_26[0][0]']                 \n",
      "                                                                                                  \n",
      " multiply_19 (Multiply)         (None, 757, 128)     0           ['activation_38[0][0]',          \n",
      "                                                                  'activation_39[0][0]']          \n",
      "                                                                                                  \n",
      " conv1d_41 (Conv1D)             (None, 757, 1)       129         ['multiply_19[0][0]']            \n",
      "                                                                                                  \n",
      " add_27 (Add)                   (None, 757, 128)     0           ['add_25[0][0]',                 \n",
      "                                                                  'conv1d_41[0][0]']              \n",
      "                                                                                                  \n",
      " conv1d_42 (Conv1D)             (None, 757, 128)     32896       ['add_27[0][0]']                 \n",
      "                                                                                                  \n",
      " add_28 (Add)                   (None, 757, 128)     0           ['conv1d_42[0][0]',              \n",
      "                                                                  'add_11[0][0]']                 \n",
      "                                                                                                  \n",
      " activation_40 (Activation)     (None, 757, 128)     0           ['add_28[0][0]']                 \n",
      "                                                                                                  \n",
      " activation_41 (Activation)     (None, 757, 128)     0           ['add_28[0][0]']                 \n",
      "                                                                                                  \n",
      " multiply_20 (Multiply)         (None, 757, 128)     0           ['activation_40[0][0]',          \n",
      "                                                                  'activation_41[0][0]']          \n",
      "                                                                                                  \n",
      " conv1d_43 (Conv1D)             (None, 757, 1)       129         ['multiply_20[0][0]']            \n",
      "                                                                                                  \n",
      " add_29 (Add)                   (None, 757, 128)     0           ['add_27[0][0]',                 \n",
      "                                                                  'conv1d_43[0][0]']              \n",
      "                                                                                                  \n",
      " conv1d_44 (Conv1D)             (None, 757, 128)     32896       ['add_29[0][0]']                 \n",
      "                                                                                                  \n",
      " add_30 (Add)                   (None, 757, 128)     0           ['conv1d_44[0][0]',              \n",
      "                                                                  'add_11[0][0]']                 \n",
      "                                                                                                  \n",
      " activation_42 (Activation)     (None, 757, 128)     0           ['add_30[0][0]']                 \n",
      "                                                                                                  \n",
      " activation_43 (Activation)     (None, 757, 128)     0           ['add_30[0][0]']                 \n",
      "                                                                                                  \n",
      " multiply_21 (Multiply)         (None, 757, 128)     0           ['activation_42[0][0]',          \n",
      "                                                                  'activation_43[0][0]']          \n",
      "                                                                                                  \n",
      " conv1d_45 (Conv1D)             (None, 757, 1)       129         ['multiply_21[0][0]']            \n",
      "                                                                                                  \n",
      " add_31 (Add)                   (None, 757, 128)     0           ['add_29[0][0]',                 \n",
      "                                                                  'conv1d_45[0][0]']              \n",
      "                                                                                                  \n",
      " conv1d_46 (Conv1D)             (None, 757, 128)     32896       ['add_31[0][0]']                 \n",
      "                                                                                                  \n",
      " add_32 (Add)                   (None, 757, 128)     0           ['conv1d_46[0][0]',              \n",
      "                                                                  'add_11[0][0]']                 \n",
      "                                                                                                  \n",
      " activation_44 (Activation)     (None, 757, 128)     0           ['add_32[0][0]']                 \n",
      "                                                                                                  \n"
     ]
    },
    {
     "name": "stdout",
     "output_type": "stream",
     "text": [
      " activation_45 (Activation)     (None, 757, 128)     0           ['add_32[0][0]']                 \n",
      "                                                                                                  \n",
      " multiply_22 (Multiply)         (None, 757, 128)     0           ['activation_44[0][0]',          \n",
      "                                                                  'activation_45[0][0]']          \n",
      "                                                                                                  \n",
      " conv1d_47 (Conv1D)             (None, 757, 1)       129         ['multiply_22[0][0]']            \n",
      "                                                                                                  \n",
      " add_33 (Add)                   (None, 757, 128)     0           ['add_31[0][0]',                 \n",
      "                                                                  'conv1d_47[0][0]']              \n",
      "                                                                                                  \n",
      " conv1d_48 (Conv1D)             (None, 757, 128)     32896       ['add_33[0][0]']                 \n",
      "                                                                                                  \n",
      " add_34 (Add)                   (None, 757, 128)     0           ['conv1d_48[0][0]',              \n",
      "                                                                  'add_11[0][0]']                 \n",
      "                                                                                                  \n",
      " activation_46 (Activation)     (None, 757, 128)     0           ['add_34[0][0]']                 \n",
      "                                                                                                  \n",
      " activation_47 (Activation)     (None, 757, 128)     0           ['add_34[0][0]']                 \n",
      "                                                                                                  \n",
      " multiply_23 (Multiply)         (None, 757, 128)     0           ['activation_46[0][0]',          \n",
      "                                                                  'activation_47[0][0]']          \n",
      "                                                                                                  \n",
      " conv1d_49 (Conv1D)             (None, 757, 1)       129         ['multiply_23[0][0]']            \n",
      "                                                                                                  \n",
      " add_35 (Add)                   (None, 757, 128)     0           ['add_33[0][0]',                 \n",
      "                                                                  'conv1d_49[0][0]']              \n",
      "                                                                                                  \n",
      " conv1d_50 (Conv1D)             (None, 757, 128)     32896       ['add_35[0][0]']                 \n",
      "                                                                                                  \n",
      " add_36 (Add)                   (None, 757, 128)     0           ['conv1d_50[0][0]',              \n",
      "                                                                  'add_11[0][0]']                 \n",
      "                                                                                                  \n",
      " activation_48 (Activation)     (None, 757, 128)     0           ['add_36[0][0]']                 \n",
      "                                                                                                  \n",
      " activation_49 (Activation)     (None, 757, 128)     0           ['add_36[0][0]']                 \n",
      "                                                                                                  \n",
      " multiply_24 (Multiply)         (None, 757, 128)     0           ['activation_48[0][0]',          \n",
      "                                                                  'activation_49[0][0]']          \n",
      "                                                                                                  \n",
      " conv1d_51 (Conv1D)             (None, 757, 1)       129         ['multiply_24[0][0]']            \n",
      "                                                                                                  \n",
      " add_37 (Add)                   (None, 757, 128)     0           ['add_35[0][0]',                 \n",
      "                                                                  'conv1d_51[0][0]']              \n",
      "                                                                                                  \n",
      " conv1d_52 (Conv1D)             (None, 757, 128)     32896       ['add_37[0][0]']                 \n",
      "                                                                                                  \n",
      " add_38 (Add)                   (None, 757, 128)     0           ['conv1d_52[0][0]',              \n",
      "                                                                  'add_11[0][0]']                 \n",
      "                                                                                                  \n",
      " activation_50 (Activation)     (None, 757, 128)     0           ['add_38[0][0]']                 \n",
      "                                                                                                  \n",
      " activation_51 (Activation)     (None, 757, 128)     0           ['add_38[0][0]']                 \n",
      "                                                                                                  \n",
      " multiply_25 (Multiply)         (None, 757, 128)     0           ['activation_50[0][0]',          \n",
      "                                                                  'activation_51[0][0]']          \n",
      "                                                                                                  \n",
      " conv1d_53 (Conv1D)             (None, 757, 1)       129         ['multiply_25[0][0]']            \n",
      "                                                                                                  \n",
      " add_39 (Add)                   (None, 757, 128)     0           ['add_37[0][0]',                 \n",
      "                                                                  'conv1d_53[0][0]']              \n",
      "                                                                                                  \n",
      " conv1d_54 (Conv1D)             (None, 757, 128)     32896       ['add_39[0][0]']                 \n",
      "                                                                                                  \n",
      " add_40 (Add)                   (None, 757, 128)     0           ['conv1d_54[0][0]',              \n",
      "                                                                  'add_11[0][0]']                 \n",
      "                                                                                                  \n",
      " activation_52 (Activation)     (None, 757, 128)     0           ['add_40[0][0]']                 \n",
      "                                                                                                  \n",
      " activation_53 (Activation)     (None, 757, 128)     0           ['add_40[0][0]']                 \n",
      "                                                                                                  \n",
      " multiply_26 (Multiply)         (None, 757, 128)     0           ['activation_52[0][0]',          \n",
      "                                                                  'activation_53[0][0]']          \n",
      "                                                                                                  \n",
      " conv1d_55 (Conv1D)             (None, 757, 1)       129         ['multiply_26[0][0]']            \n",
      "                                                                                                  \n",
      " add_41 (Add)                   (None, 757, 128)     0           ['add_39[0][0]',                 \n",
      "                                                                  'conv1d_55[0][0]']              \n",
      "                                                                                                  \n",
      " conv1d_56 (Conv1D)             (None, 757, 128)     32896       ['add_41[0][0]']                 \n",
      "                                                                                                  \n",
      " add_42 (Add)                   (None, 757, 128)     0           ['conv1d_56[0][0]',              \n",
      "                                                                  'add_11[0][0]']                 \n",
      "                                                                                                  \n"
     ]
    },
    {
     "name": "stdout",
     "output_type": "stream",
     "text": [
      " activation_54 (Activation)     (None, 757, 128)     0           ['add_42[0][0]']                 \n",
      "                                                                                                  \n",
      " activation_55 (Activation)     (None, 757, 128)     0           ['add_42[0][0]']                 \n",
      "                                                                                                  \n",
      " multiply_27 (Multiply)         (None, 757, 128)     0           ['activation_54[0][0]',          \n",
      "                                                                  'activation_55[0][0]']          \n",
      "                                                                                                  \n",
      " conv1d_57 (Conv1D)             (None, 757, 1)       129         ['multiply_27[0][0]']            \n",
      "                                                                                                  \n",
      " add_43 (Add)                   (None, 757, 128)     0           ['add_41[0][0]',                 \n",
      "                                                                  'conv1d_57[0][0]']              \n",
      "                                                                                                  \n",
      " conv1d_58 (Conv1D)             (None, 757, 128)     32896       ['add_43[0][0]']                 \n",
      "                                                                                                  \n",
      " add_44 (Add)                   (None, 757, 128)     0           ['conv1d_58[0][0]',              \n",
      "                                                                  'add_11[0][0]']                 \n",
      "                                                                                                  \n",
      " activation_56 (Activation)     (None, 757, 128)     0           ['add_44[0][0]']                 \n",
      "                                                                                                  \n",
      " activation_57 (Activation)     (None, 757, 128)     0           ['add_44[0][0]']                 \n",
      "                                                                                                  \n",
      " multiply_28 (Multiply)         (None, 757, 128)     0           ['activation_56[0][0]',          \n",
      "                                                                  'activation_57[0][0]']          \n",
      "                                                                                                  \n",
      " conv1d_59 (Conv1D)             (None, 757, 1)       129         ['multiply_28[0][0]']            \n",
      "                                                                                                  \n",
      " add_45 (Add)                   (None, 757, 128)     0           ['add_43[0][0]',                 \n",
      "                                                                  'conv1d_59[0][0]']              \n",
      "                                                                                                  \n",
      " conv1d_60 (Conv1D)             (None, 757, 128)     32896       ['add_45[0][0]']                 \n",
      "                                                                                                  \n",
      " add_46 (Add)                   (None, 757, 128)     0           ['conv1d_60[0][0]',              \n",
      "                                                                  'add_11[0][0]']                 \n",
      "                                                                                                  \n",
      " activation_58 (Activation)     (None, 757, 128)     0           ['add_46[0][0]']                 \n",
      "                                                                                                  \n",
      " activation_59 (Activation)     (None, 757, 128)     0           ['add_46[0][0]']                 \n",
      "                                                                                                  \n",
      " multiply_29 (Multiply)         (None, 757, 128)     0           ['activation_58[0][0]',          \n",
      "                                                                  'activation_59[0][0]']          \n",
      "                                                                                                  \n",
      " conv1d_61 (Conv1D)             (None, 757, 1)       129         ['multiply_29[0][0]']            \n",
      "                                                                                                  \n",
      " add_47 (Add)                   (None, 757, 128)     0           ['add_45[0][0]',                 \n",
      "                                                                  'conv1d_61[0][0]']              \n",
      "                                                                                                  \n",
      " conv1d_62 (Conv1D)             (None, 757, 128)     32896       ['add_47[0][0]']                 \n",
      "                                                                                                  \n",
      " add_48 (Add)                   (None, 757, 128)     0           ['conv1d_62[0][0]',              \n",
      "                                                                  'add_11[0][0]']                 \n",
      "                                                                                                  \n",
      " activation_60 (Activation)     (None, 757, 128)     0           ['add_48[0][0]']                 \n",
      "                                                                                                  \n",
      " activation_61 (Activation)     (None, 757, 128)     0           ['add_48[0][0]']                 \n",
      "                                                                                                  \n",
      " multiply_30 (Multiply)         (None, 757, 128)     0           ['activation_60[0][0]',          \n",
      "                                                                  'activation_61[0][0]']          \n",
      "                                                                                                  \n",
      " conv1d_63 (Conv1D)             (None, 757, 1)       129         ['multiply_30[0][0]']            \n",
      "                                                                                                  \n",
      " add_49 (Add)                   (None, 757, 128)     0           ['add_47[0][0]',                 \n",
      "                                                                  'conv1d_63[0][0]']              \n",
      "                                                                                                  \n",
      " conv1d_64 (Conv1D)             (None, 757, 128)     32896       ['add_49[0][0]']                 \n",
      "                                                                                                  \n",
      " add_50 (Add)                   (None, 757, 128)     0           ['conv1d_64[0][0]',              \n",
      "                                                                  'add_11[0][0]']                 \n",
      "                                                                                                  \n",
      " activation_62 (Activation)     (None, 757, 128)     0           ['add_50[0][0]']                 \n",
      "                                                                                                  \n",
      " activation_63 (Activation)     (None, 757, 128)     0           ['add_50[0][0]']                 \n",
      "                                                                                                  \n",
      " multiply_31 (Multiply)         (None, 757, 128)     0           ['activation_62[0][0]',          \n",
      "                                                                  'activation_63[0][0]']          \n",
      "                                                                                                  \n",
      " conv1d_65 (Conv1D)             (None, 757, 1)       129         ['multiply_31[0][0]']            \n",
      "                                                                                                  \n",
      " add_51 (Add)                   (None, 757, 128)     0           ['add_49[0][0]',                 \n",
      "                                                                  'conv1d_65[0][0]']              \n",
      "                                                                                                  \n",
      " conv1d_66 (Conv1D)             (None, 757, 128)     32896       ['add_51[0][0]']                 \n",
      "                                                                                                  \n",
      " add_52 (Add)                   (None, 757, 128)     0           ['conv1d_66[0][0]',              \n"
     ]
    },
    {
     "name": "stdout",
     "output_type": "stream",
     "text": [
      "                                                                  'add_11[0][0]']                 \n",
      "                                                                                                  \n",
      " activation_64 (Activation)     (None, 757, 128)     0           ['add_52[0][0]']                 \n",
      "                                                                                                  \n",
      " activation_65 (Activation)     (None, 757, 128)     0           ['add_52[0][0]']                 \n",
      "                                                                                                  \n",
      " multiply_32 (Multiply)         (None, 757, 128)     0           ['activation_64[0][0]',          \n",
      "                                                                  'activation_65[0][0]']          \n",
      "                                                                                                  \n",
      " conv1d_67 (Conv1D)             (None, 757, 1)       129         ['multiply_32[0][0]']            \n",
      "                                                                                                  \n",
      " add_53 (Add)                   (None, 757, 128)     0           ['add_51[0][0]',                 \n",
      "                                                                  'conv1d_67[0][0]']              \n",
      "                                                                                                  \n",
      " conv1d_68 (Conv1D)             (None, 757, 128)     32896       ['add_53[0][0]']                 \n",
      "                                                                                                  \n",
      " add_54 (Add)                   (None, 757, 128)     0           ['conv1d_68[0][0]',              \n",
      "                                                                  'add_11[0][0]']                 \n",
      "                                                                                                  \n",
      " activation_66 (Activation)     (None, 757, 128)     0           ['add_54[0][0]']                 \n",
      "                                                                                                  \n",
      " activation_67 (Activation)     (None, 757, 128)     0           ['add_54[0][0]']                 \n",
      "                                                                                                  \n",
      " multiply_33 (Multiply)         (None, 757, 128)     0           ['activation_66[0][0]',          \n",
      "                                                                  'activation_67[0][0]']          \n",
      "                                                                                                  \n",
      " conv1d_69 (Conv1D)             (None, 757, 1)       129         ['multiply_33[0][0]']            \n",
      "                                                                                                  \n",
      " add_55 (Add)                   (None, 757, 128)     0           ['add_53[0][0]',                 \n",
      "                                                                  'conv1d_69[0][0]']              \n",
      "                                                                                                  \n",
      " conv1d_70 (Conv1D)             (None, 757, 128)     32896       ['add_55[0][0]']                 \n",
      "                                                                                                  \n",
      " add_56 (Add)                   (None, 757, 128)     0           ['conv1d_70[0][0]',              \n",
      "                                                                  'add_11[0][0]']                 \n",
      "                                                                                                  \n",
      " activation_68 (Activation)     (None, 757, 128)     0           ['add_56[0][0]']                 \n",
      "                                                                                                  \n",
      " activation_69 (Activation)     (None, 757, 128)     0           ['add_56[0][0]']                 \n",
      "                                                                                                  \n",
      " multiply_34 (Multiply)         (None, 757, 128)     0           ['activation_68[0][0]',          \n",
      "                                                                  'activation_69[0][0]']          \n",
      "                                                                                                  \n",
      " conv1d_71 (Conv1D)             (None, 757, 1)       129         ['multiply_34[0][0]']            \n",
      "                                                                                                  \n",
      " add_57 (Add)                   (None, 757, 128)     0           ['add_55[0][0]',                 \n",
      "                                                                  'conv1d_71[0][0]']              \n",
      "                                                                                                  \n",
      " conv1d_72 (Conv1D)             (None, 757, 128)     32896       ['add_57[0][0]']                 \n",
      "                                                                                                  \n",
      " add_58 (Add)                   (None, 757, 128)     0           ['conv1d_72[0][0]',              \n",
      "                                                                  'add_11[0][0]']                 \n",
      "                                                                                                  \n",
      " activation_70 (Activation)     (None, 757, 128)     0           ['add_58[0][0]']                 \n",
      "                                                                                                  \n",
      " activation_71 (Activation)     (None, 757, 128)     0           ['add_58[0][0]']                 \n",
      "                                                                                                  \n",
      " multiply_35 (Multiply)         (None, 757, 128)     0           ['activation_70[0][0]',          \n",
      "                                                                  'activation_71[0][0]']          \n",
      "                                                                                                  \n",
      " conv1d_73 (Conv1D)             (None, 757, 1)       129         ['multiply_35[0][0]']            \n",
      "                                                                                                  \n",
      " add_59 (Add)                   (None, 757, 128)     0           ['add_57[0][0]',                 \n",
      "                                                                  'conv1d_73[0][0]']              \n",
      "                                                                                                  \n",
      " conv1d_74 (Conv1D)             (None, 757, 128)     32896       ['add_59[0][0]']                 \n",
      "                                                                                                  \n",
      " add_60 (Add)                   (None, 757, 128)     0           ['conv1d_74[0][0]',              \n",
      "                                                                  'add_11[0][0]']                 \n",
      "                                                                                                  \n",
      " activation_72 (Activation)     (None, 757, 128)     0           ['add_60[0][0]']                 \n",
      "                                                                                                  \n",
      " activation_73 (Activation)     (None, 757, 128)     0           ['add_60[0][0]']                 \n",
      "                                                                                                  \n",
      " multiply_36 (Multiply)         (None, 757, 128)     0           ['activation_72[0][0]',          \n",
      "                                                                  'activation_73[0][0]']          \n",
      "                                                                                                  \n",
      " conv1d_75 (Conv1D)             (None, 757, 1)       129         ['multiply_36[0][0]']            \n",
      "                                                                                                  \n",
      " add_61 (Add)                   (None, 757, 128)     0           ['add_59[0][0]',                 \n",
      "                                                                  'conv1d_75[0][0]']              \n",
      "                                                                                                  \n",
      " conv1d_76 (Conv1D)             (None, 757, 128)     32896       ['add_61[0][0]']                 \n"
     ]
    },
    {
     "name": "stdout",
     "output_type": "stream",
     "text": [
      "                                                                                                  \n",
      " add_62 (Add)                   (None, 757, 128)     0           ['conv1d_76[0][0]',              \n",
      "                                                                  'add_11[0][0]']                 \n",
      "                                                                                                  \n",
      " activation_74 (Activation)     (None, 757, 128)     0           ['add_62[0][0]']                 \n",
      "                                                                                                  \n",
      " activation_75 (Activation)     (None, 757, 128)     0           ['add_62[0][0]']                 \n",
      "                                                                                                  \n",
      " multiply_37 (Multiply)         (None, 757, 128)     0           ['activation_74[0][0]',          \n",
      "                                                                  'activation_75[0][0]']          \n",
      "                                                                                                  \n",
      " conv1d_77 (Conv1D)             (None, 757, 1)       129         ['multiply_37[0][0]']            \n",
      "                                                                                                  \n",
      " add_63 (Add)                   (None, 757, 128)     0           ['add_61[0][0]',                 \n",
      "                                                                  'conv1d_77[0][0]']              \n",
      "                                                                                                  \n",
      " conv1d_78 (Conv1D)             (None, 757, 128)     32896       ['add_63[0][0]']                 \n",
      "                                                                                                  \n",
      " add_64 (Add)                   (None, 757, 128)     0           ['conv1d_78[0][0]',              \n",
      "                                                                  'add_11[0][0]']                 \n",
      "                                                                                                  \n",
      " activation_76 (Activation)     (None, 757, 128)     0           ['add_64[0][0]']                 \n",
      "                                                                                                  \n",
      " activation_77 (Activation)     (None, 757, 128)     0           ['add_64[0][0]']                 \n",
      "                                                                                                  \n",
      " multiply_38 (Multiply)         (None, 757, 128)     0           ['activation_76[0][0]',          \n",
      "                                                                  'activation_77[0][0]']          \n",
      "                                                                                                  \n",
      " conv1d_79 (Conv1D)             (None, 757, 1)       129         ['multiply_38[0][0]']            \n",
      "                                                                                                  \n",
      " add_65 (Add)                   (None, 757, 128)     0           ['add_63[0][0]',                 \n",
      "                                                                  'conv1d_79[0][0]']              \n",
      "                                                                                                  \n",
      " conv1d_80 (Conv1D)             (None, 757, 128)     32896       ['add_65[0][0]']                 \n",
      "                                                                                                  \n",
      " add_66 (Add)                   (None, 757, 128)     0           ['conv1d_80[0][0]',              \n",
      "                                                                  'add_11[0][0]']                 \n",
      "                                                                                                  \n",
      " activation_78 (Activation)     (None, 757, 128)     0           ['add_66[0][0]']                 \n",
      "                                                                                                  \n",
      " activation_79 (Activation)     (None, 757, 128)     0           ['add_66[0][0]']                 \n",
      "                                                                                                  \n",
      " multiply_39 (Multiply)         (None, 757, 128)     0           ['activation_78[0][0]',          \n",
      "                                                                  'activation_79[0][0]']          \n",
      "                                                                                                  \n",
      " conv1d_81 (Conv1D)             (None, 757, 1)       129         ['multiply_39[0][0]']            \n",
      "                                                                                                  \n",
      " add_67 (Add)                   (None, 757, 128)     0           ['add_65[0][0]',                 \n",
      "                                                                  'conv1d_81[0][0]']              \n",
      "                                                                                                  \n",
      " conv1d_82 (Conv1D)             (None, 757, 128)     32896       ['add_67[0][0]']                 \n",
      "                                                                                                  \n",
      " add_68 (Add)                   (None, 757, 128)     0           ['conv1d_82[0][0]',              \n",
      "                                                                  'add_11[0][0]']                 \n",
      "                                                                                                  \n",
      " activation_80 (Activation)     (None, 757, 128)     0           ['add_68[0][0]']                 \n",
      "                                                                                                  \n",
      " activation_81 (Activation)     (None, 757, 128)     0           ['add_68[0][0]']                 \n",
      "                                                                                                  \n",
      " multiply_40 (Multiply)         (None, 757, 128)     0           ['activation_80[0][0]',          \n",
      "                                                                  'activation_81[0][0]']          \n",
      "                                                                                                  \n",
      " conv1d_83 (Conv1D)             (None, 757, 1)       129         ['multiply_40[0][0]']            \n",
      "                                                                                                  \n",
      " add_69 (Add)                   (None, 757, 128)     0           ['add_67[0][0]',                 \n",
      "                                                                  'conv1d_83[0][0]']              \n",
      "                                                                                                  \n",
      " conv1d_84 (Conv1D)             (None, 757, 128)     32896       ['add_69[0][0]']                 \n",
      "                                                                                                  \n",
      " add_70 (Add)                   (None, 757, 128)     0           ['conv1d_84[0][0]',              \n",
      "                                                                  'add_11[0][0]']                 \n",
      "                                                                                                  \n",
      " activation_82 (Activation)     (None, 757, 128)     0           ['add_70[0][0]']                 \n",
      "                                                                                                  \n",
      " activation_83 (Activation)     (None, 757, 128)     0           ['add_70[0][0]']                 \n",
      "                                                                                                  \n",
      " multiply_41 (Multiply)         (None, 757, 128)     0           ['activation_82[0][0]',          \n",
      "                                                                  'activation_83[0][0]']          \n",
      "                                                                                                  \n",
      " conv1d_85 (Conv1D)             (None, 757, 1)       129         ['multiply_41[0][0]']            \n",
      "                                                                                                  \n",
      " add_71 (Add)                   (None, 757, 128)     0           ['add_69[0][0]',                 \n",
      "                                                                  'conv1d_85[0][0]']              \n"
     ]
    },
    {
     "name": "stdout",
     "output_type": "stream",
     "text": [
      "                                                                                                  \n",
      " conv1d_86 (Conv1D)             (None, 757, 128)     32896       ['add_71[0][0]']                 \n",
      "                                                                                                  \n",
      " add_72 (Add)                   (None, 757, 128)     0           ['conv1d_86[0][0]',              \n",
      "                                                                  'add_11[0][0]']                 \n",
      "                                                                                                  \n",
      " activation_84 (Activation)     (None, 757, 128)     0           ['add_72[0][0]']                 \n",
      "                                                                                                  \n",
      " activation_85 (Activation)     (None, 757, 128)     0           ['add_72[0][0]']                 \n",
      "                                                                                                  \n",
      " multiply_42 (Multiply)         (None, 757, 128)     0           ['activation_84[0][0]',          \n",
      "                                                                  'activation_85[0][0]']          \n",
      "                                                                                                  \n",
      " conv1d_87 (Conv1D)             (None, 757, 1)       129         ['multiply_42[0][0]']            \n",
      "                                                                                                  \n",
      " add_73 (Add)                   (None, 757, 128)     0           ['add_71[0][0]',                 \n",
      "                                                                  'conv1d_87[0][0]']              \n",
      "                                                                                                  \n",
      " conv1d_88 (Conv1D)             (None, 757, 128)     32896       ['add_73[0][0]']                 \n",
      "                                                                                                  \n",
      " add_74 (Add)                   (None, 757, 128)     0           ['conv1d_88[0][0]',              \n",
      "                                                                  'add_11[0][0]']                 \n",
      "                                                                                                  \n",
      " activation_86 (Activation)     (None, 757, 128)     0           ['add_74[0][0]']                 \n",
      "                                                                                                  \n",
      " activation_87 (Activation)     (None, 757, 128)     0           ['add_74[0][0]']                 \n",
      "                                                                                                  \n",
      " multiply_43 (Multiply)         (None, 757, 128)     0           ['activation_86[0][0]',          \n",
      "                                                                  'activation_87[0][0]']          \n",
      "                                                                                                  \n",
      " conv1d_89 (Conv1D)             (None, 757, 1)       129         ['multiply_43[0][0]']            \n",
      "                                                                                                  \n",
      " add_75 (Add)                   (None, 757, 128)     0           ['add_73[0][0]',                 \n",
      "                                                                  'conv1d_89[0][0]']              \n",
      "                                                                                                  \n",
      " conv1d_90 (Conv1D)             (None, 757, 128)     32896       ['add_75[0][0]']                 \n",
      "                                                                                                  \n",
      " add_76 (Add)                   (None, 757, 128)     0           ['conv1d_90[0][0]',              \n",
      "                                                                  'add_11[0][0]']                 \n",
      "                                                                                                  \n",
      " activation_88 (Activation)     (None, 757, 128)     0           ['add_76[0][0]']                 \n",
      "                                                                                                  \n",
      " activation_89 (Activation)     (None, 757, 128)     0           ['add_76[0][0]']                 \n",
      "                                                                                                  \n",
      " multiply_44 (Multiply)         (None, 757, 128)     0           ['activation_88[0][0]',          \n",
      "                                                                  'activation_89[0][0]']          \n",
      "                                                                                                  \n",
      " conv1d_91 (Conv1D)             (None, 757, 1)       129         ['multiply_44[0][0]']            \n",
      "                                                                                                  \n",
      " add_77 (Add)                   (None, 757, 128)     0           ['add_75[0][0]',                 \n",
      "                                                                  'conv1d_91[0][0]']              \n",
      "                                                                                                  \n",
      " conv1d_92 (Conv1D)             (None, 757, 128)     32896       ['add_77[0][0]']                 \n",
      "                                                                                                  \n",
      " add_78 (Add)                   (None, 757, 128)     0           ['conv1d_92[0][0]',              \n",
      "                                                                  'add_11[0][0]']                 \n",
      "                                                                                                  \n",
      " activation_90 (Activation)     (None, 757, 128)     0           ['add_78[0][0]']                 \n",
      "                                                                                                  \n",
      " activation_91 (Activation)     (None, 757, 128)     0           ['add_78[0][0]']                 \n",
      "                                                                                                  \n",
      " multiply_45 (Multiply)         (None, 757, 128)     0           ['activation_90[0][0]',          \n",
      "                                                                  'activation_91[0][0]']          \n",
      "                                                                                                  \n",
      " conv1d_93 (Conv1D)             (None, 757, 1)       129         ['multiply_45[0][0]']            \n",
      "                                                                                                  \n",
      " add_79 (Add)                   (None, 757, 128)     0           ['add_77[0][0]',                 \n",
      "                                                                  'conv1d_93[0][0]']              \n",
      "                                                                                                  \n",
      " conv1d_94 (Conv1D)             (None, 757, 128)     32896       ['add_79[0][0]']                 \n",
      "                                                                                                  \n",
      " add_80 (Add)                   (None, 757, 128)     0           ['conv1d_94[0][0]',              \n",
      "                                                                  'add_11[0][0]']                 \n",
      "                                                                                                  \n",
      " activation_92 (Activation)     (None, 757, 128)     0           ['add_80[0][0]']                 \n",
      "                                                                                                  \n",
      " activation_93 (Activation)     (None, 757, 128)     0           ['add_80[0][0]']                 \n",
      "                                                                                                  \n",
      " multiply_46 (Multiply)         (None, 757, 128)     0           ['activation_92[0][0]',          \n",
      "                                                                  'activation_93[0][0]']          \n",
      "                                                                                                  \n",
      " conv1d_95 (Conv1D)             (None, 757, 1)       129         ['multiply_46[0][0]']            \n",
      "                                                                                                  \n"
     ]
    },
    {
     "name": "stdout",
     "output_type": "stream",
     "text": [
      " add_81 (Add)                   (None, 757, 128)     0           ['add_79[0][0]',                 \n",
      "                                                                  'conv1d_95[0][0]']              \n",
      "                                                                                                  \n",
      " conv1d_96 (Conv1D)             (None, 757, 128)     32896       ['add_81[0][0]']                 \n",
      "                                                                                                  \n",
      " add_82 (Add)                   (None, 757, 128)     0           ['conv1d_96[0][0]',              \n",
      "                                                                  'add_11[0][0]']                 \n",
      "                                                                                                  \n",
      " activation_94 (Activation)     (None, 757, 128)     0           ['add_82[0][0]']                 \n",
      "                                                                                                  \n",
      " activation_95 (Activation)     (None, 757, 128)     0           ['add_82[0][0]']                 \n",
      "                                                                                                  \n",
      " multiply_47 (Multiply)         (None, 757, 128)     0           ['activation_94[0][0]',          \n",
      "                                                                  'activation_95[0][0]']          \n",
      "                                                                                                  \n",
      " conv1d_97 (Conv1D)             (None, 757, 1)       129         ['multiply_47[0][0]']            \n",
      "                                                                                                  \n",
      " add_83 (Add)                   (None, 757, 128)     0           ['add_81[0][0]',                 \n",
      "                                                                  'conv1d_97[0][0]']              \n",
      "                                                                                                  \n",
      " conv1d_98 (Conv1D)             (None, 757, 128)     32896       ['add_83[0][0]']                 \n",
      "                                                                                                  \n",
      " add_84 (Add)                   (None, 757, 128)     0           ['conv1d_98[0][0]',              \n",
      "                                                                  'add_11[0][0]']                 \n",
      "                                                                                                  \n",
      " activation_96 (Activation)     (None, 757, 128)     0           ['add_84[0][0]']                 \n",
      "                                                                                                  \n",
      " activation_97 (Activation)     (None, 757, 128)     0           ['add_84[0][0]']                 \n",
      "                                                                                                  \n",
      " multiply_48 (Multiply)         (None, 757, 128)     0           ['activation_96[0][0]',          \n",
      "                                                                  'activation_97[0][0]']          \n",
      "                                                                                                  \n",
      " conv1d_99 (Conv1D)             (None, 757, 1)       129         ['multiply_48[0][0]']            \n",
      "                                                                                                  \n",
      " add_85 (Add)                   (None, 757, 128)     0           ['add_83[0][0]',                 \n",
      "                                                                  'conv1d_99[0][0]']              \n",
      "                                                                                                  \n",
      " conv1d_100 (Conv1D)            (None, 757, 128)     32896       ['add_85[0][0]']                 \n",
      "                                                                                                  \n",
      " add_86 (Add)                   (None, 757, 128)     0           ['conv1d_100[0][0]',             \n",
      "                                                                  'add_11[0][0]']                 \n",
      "                                                                                                  \n",
      " activation_98 (Activation)     (None, 757, 128)     0           ['add_86[0][0]']                 \n",
      "                                                                                                  \n",
      " activation_99 (Activation)     (None, 757, 128)     0           ['add_86[0][0]']                 \n",
      "                                                                                                  \n",
      " multiply_49 (Multiply)         (None, 757, 128)     0           ['activation_98[0][0]',          \n",
      "                                                                  'activation_99[0][0]']          \n",
      "                                                                                                  \n",
      " conv1d_101 (Conv1D)            (None, 757, 1)       129         ['multiply_49[0][0]']            \n",
      "                                                                                                  \n",
      " add_87 (Add)                   (None, 757, 128)     0           ['add_85[0][0]',                 \n",
      "                                                                  'conv1d_101[0][0]']             \n",
      "                                                                                                  \n",
      " conv1d_102 (Conv1D)            (None, 757, 128)     32896       ['add_87[0][0]']                 \n",
      "                                                                                                  \n",
      " add_88 (Add)                   (None, 757, 128)     0           ['conv1d_102[0][0]',             \n",
      "                                                                  'add_11[0][0]']                 \n",
      "                                                                                                  \n",
      " activation_100 (Activation)    (None, 757, 128)     0           ['add_88[0][0]']                 \n",
      "                                                                                                  \n",
      " activation_101 (Activation)    (None, 757, 128)     0           ['add_88[0][0]']                 \n",
      "                                                                                                  \n",
      " multiply_50 (Multiply)         (None, 757, 128)     0           ['activation_100[0][0]',         \n",
      "                                                                  'activation_101[0][0]']         \n",
      "                                                                                                  \n",
      " conv1d_103 (Conv1D)            (None, 757, 1)       129         ['multiply_50[0][0]']            \n",
      "                                                                                                  \n",
      " add_89 (Add)                   (None, 757, 128)     0           ['add_87[0][0]',                 \n",
      "                                                                  'conv1d_103[0][0]']             \n",
      "                                                                                                  \n",
      " conv1d_104 (Conv1D)            (None, 757, 128)     32896       ['add_89[0][0]']                 \n",
      "                                                                                                  \n",
      " add_90 (Add)                   (None, 757, 128)     0           ['conv1d_104[0][0]',             \n",
      "                                                                  'add_11[0][0]']                 \n",
      "                                                                                                  \n",
      " activation_102 (Activation)    (None, 757, 128)     0           ['add_90[0][0]']                 \n",
      "                                                                                                  \n",
      " activation_103 (Activation)    (None, 757, 128)     0           ['add_90[0][0]']                 \n",
      "                                                                                                  \n",
      " multiply_51 (Multiply)         (None, 757, 128)     0           ['activation_102[0][0]',         \n",
      "                                                                  'activation_103[0][0]']         \n",
      "                                                                                                  \n"
     ]
    },
    {
     "name": "stdout",
     "output_type": "stream",
     "text": [
      " conv1d_105 (Conv1D)            (None, 757, 1)       129         ['multiply_51[0][0]']            \n",
      "                                                                                                  \n",
      " add_91 (Add)                   (None, 757, 128)     0           ['add_89[0][0]',                 \n",
      "                                                                  'conv1d_105[0][0]']             \n",
      "                                                                                                  \n",
      " conv1d_106 (Conv1D)            (None, 757, 128)     32896       ['add_91[0][0]']                 \n",
      "                                                                                                  \n",
      " add_92 (Add)                   (None, 757, 128)     0           ['conv1d_106[0][0]',             \n",
      "                                                                  'add_11[0][0]']                 \n",
      "                                                                                                  \n",
      " activation_104 (Activation)    (None, 757, 128)     0           ['add_92[0][0]']                 \n",
      "                                                                                                  \n",
      " activation_105 (Activation)    (None, 757, 128)     0           ['add_92[0][0]']                 \n",
      "                                                                                                  \n",
      " multiply_52 (Multiply)         (None, 757, 128)     0           ['activation_104[0][0]',         \n",
      "                                                                  'activation_105[0][0]']         \n",
      "                                                                                                  \n",
      " conv1d_107 (Conv1D)            (None, 757, 1)       129         ['multiply_52[0][0]']            \n",
      "                                                                                                  \n",
      " add_93 (Add)                   (None, 757, 128)     0           ['add_91[0][0]',                 \n",
      "                                                                  'conv1d_107[0][0]']             \n",
      "                                                                                                  \n",
      " conv1d_108 (Conv1D)            (None, 757, 128)     32896       ['add_93[0][0]']                 \n",
      "                                                                                                  \n",
      " add_94 (Add)                   (None, 757, 128)     0           ['conv1d_108[0][0]',             \n",
      "                                                                  'add_11[0][0]']                 \n",
      "                                                                                                  \n",
      " activation_106 (Activation)    (None, 757, 128)     0           ['add_94[0][0]']                 \n",
      "                                                                                                  \n",
      " activation_107 (Activation)    (None, 757, 128)     0           ['add_94[0][0]']                 \n",
      "                                                                                                  \n",
      " multiply_53 (Multiply)         (None, 757, 128)     0           ['activation_106[0][0]',         \n",
      "                                                                  'activation_107[0][0]']         \n",
      "                                                                                                  \n",
      " conv1d_109 (Conv1D)            (None, 757, 1)       129         ['multiply_53[0][0]']            \n",
      "                                                                                                  \n",
      " add_96 (Add)                   (None, 757, 1)       0           ['conv1d_27[0][0]',              \n",
      "                                                                  'conv1d_29[0][0]',              \n",
      "                                                                  'conv1d_31[0][0]',              \n",
      "                                                                  'conv1d_33[0][0]',              \n",
      "                                                                  'conv1d_35[0][0]',              \n",
      "                                                                  'conv1d_37[0][0]',              \n",
      "                                                                  'conv1d_39[0][0]',              \n",
      "                                                                  'conv1d_41[0][0]',              \n",
      "                                                                  'conv1d_43[0][0]',              \n",
      "                                                                  'conv1d_45[0][0]',              \n",
      "                                                                  'conv1d_47[0][0]',              \n",
      "                                                                  'conv1d_49[0][0]',              \n",
      "                                                                  'conv1d_51[0][0]',              \n",
      "                                                                  'conv1d_53[0][0]',              \n",
      "                                                                  'conv1d_55[0][0]',              \n",
      "                                                                  'conv1d_57[0][0]',              \n",
      "                                                                  'conv1d_59[0][0]',              \n",
      "                                                                  'conv1d_61[0][0]',              \n",
      "                                                                  'conv1d_63[0][0]',              \n",
      "                                                                  'conv1d_65[0][0]',              \n",
      "                                                                  'conv1d_67[0][0]',              \n",
      "                                                                  'conv1d_69[0][0]',              \n",
      "                                                                  'conv1d_71[0][0]',              \n",
      "                                                                  'conv1d_73[0][0]',              \n",
      "                                                                  'conv1d_75[0][0]',              \n",
      "                                                                  'conv1d_77[0][0]',              \n",
      "                                                                  'conv1d_79[0][0]',              \n",
      "                                                                  'conv1d_81[0][0]',              \n",
      "                                                                  'conv1d_83[0][0]',              \n",
      "                                                                  'conv1d_85[0][0]',              \n",
      "                                                                  'conv1d_87[0][0]',              \n",
      "                                                                  'conv1d_89[0][0]',              \n",
      "                                                                  'conv1d_91[0][0]',              \n",
      "                                                                  'conv1d_93[0][0]',              \n",
      "                                                                  'conv1d_95[0][0]',              \n",
      "                                                                  'conv1d_97[0][0]',              \n",
      "                                                                  'conv1d_99[0][0]',              \n",
      "                                                                  'conv1d_101[0][0]',             \n",
      "                                                                  'conv1d_103[0][0]',             \n",
      "                                                                  'conv1d_105[0][0]',             \n",
      "                                                                  'conv1d_107[0][0]',             \n",
      "                                                                  'conv1d_109[0][0]']             \n",
      "                                                                                                  \n",
      " re_lu (ReLU)                   (None, 757, 1)       0           ['add_96[0][0]']                 \n",
      "                                                                                                  \n",
      " conv1d_110 (Conv1D)            (None, 757, 1)       2           ['re_lu[0][0]']                  \n",
      "                                                                                                  \n"
     ]
    },
    {
     "name": "stdout",
     "output_type": "stream",
     "text": [
      " re_lu_1 (ReLU)                 (None, 757, 1)       0           ['conv1d_110[0][0]']             \n",
      "                                                                                                  \n",
      " conv1d_111 (Conv1D)            (None, 757, 128)     256         ['re_lu_1[0][0]']                \n",
      "                                                                                                  \n",
      " softmax (Softmax)              (None, 757, 128)     0           ['conv1d_111[0][0]']             \n",
      "                                                                                                  \n",
      "==================================================================================================\n",
      "Total params: 1,444,408\n",
      "Trainable params: 1,444,408\n",
      "Non-trainable params: 0\n",
      "__________________________________________________________________________________________________\n"
     ]
    }
   ],
   "source": [
    "'''\n",
    "    Método que devuelve el modelo de una WaveNet implementada en tensorflow. Dicha red se construye \n",
    "    de acuerdo a los parámetros de entrada.\n",
    "'''\n",
    "def get_wavenet(inp_shape=INP_SHAPE, out_shape=OUT_SHAPE, lc_shape=LC_SHAPE, n_filters=N_FILTERS,\n",
    "                filter_width=FILTER_WIDTH, k_layers=K_LAYERS, n_blocks=N_BLOCKS, \n",
    "                context_layers=CONTEXT_LAYERS, context_blocks=CONTEXT_BLOCKS):\n",
    "    \n",
    "    # Skip connections\n",
    "    skips = []\n",
    "    \n",
    "    # Dilation rates\n",
    "    dilations_per_block = [2 ** i for i in range(k_layers)] * n_blocks\n",
    "    dilations_per_ctx_block = [2 ** i for i in range(context_layers)] * context_blocks\n",
    "    \n",
    "    # Local Conditioning\n",
    "    Input_lc = tf.keras.layers.Input(shape=lc_shape, dtype='float32', name='lc')\n",
    "    lc = tf.keras.layers.Conv1D(n_filters, filter_width, padding='causal')(Input_lc)\n",
    "    \n",
    "    # Context stack\n",
    "    for dilation_rate in dilations_per_ctx_block:\n",
    "        \n",
    "        # Convolución y gated activation\n",
    "        lc_conv = tf.keras.layers.Conv1D(n_filters, filter_width, padding='causal',\n",
    "                                        dilation_rate=dilation_rate)(lc)\n",
    "        gated_act = tf.keras.layers.Multiply()([tf.keras.layers.Activation('tanh')(lc),\n",
    "                                        tf.keras.layers.Activation('sigmoid')(lc)])\n",
    "        gated_act = tf.keras.layers.Conv1D(1, 1, padding='same')(gated_act)\n",
    "        \n",
    "        # Residual connection\n",
    "        lc = tf.keras.layers.Add()([lc, gated_act])\n",
    "    \n",
    "    # Input\n",
    "    Input_seq = tf.keras.layers.Input(shape=inp_shape, dtype='float32', name='seq')\n",
    "    seq = tf.keras.layers.Conv1D(n_filters, filter_width, padding='causal')(Input_seq) \n",
    "\n",
    "    for dilation_rate in dilations_per_block:\n",
    "\n",
    "        # Sumamos la información del local conditioning a la convolución de los valores de audio\n",
    "        seq_conv = tf.keras.layers.Conv1D(n_filters, filter_width, padding='causal',\n",
    "                                        dilation_rate=dilation_rate)(seq)\n",
    "        tmp = tf.keras.layers.Add()([seq_conv, lc])\n",
    "        \n",
    "        # Gated activation\n",
    "        gated_act = tf.keras.layers.Multiply()([tf.keras.layers.Activation('tanh')(tmp),\n",
    "                                        tf.keras.layers.Activation('sigmoid')(tmp)])\n",
    "\n",
    "        gated_act = tf.keras.layers.Conv1D(1, 1, padding='same')(gated_act)\n",
    "\n",
    "        # Residual connection\n",
    "        seq = tf.keras.layers.Add()([seq, gated_act])    \n",
    "\n",
    "        # Vamos añadiendo las 'Skip conections'\n",
    "        skips.append(gated_act)\n",
    "\n",
    "    # Sumamos todas las skip connections y computamos el resto de funciones\n",
    "    out = tf.keras.layers.Add()(skips)\n",
    "    out = tf.keras.layers.ReLU()(out)\n",
    "    out = tf.keras.layers.Conv1D(1, 1, padding='same')(out)\n",
    "    out = tf.keras.layers.ReLU()(out)\n",
    "    out = tf.keras.layers.Conv1D(out_shape[1], 1, padding='same')(out)\n",
    "    out = tf.keras.layers.Softmax()(out)\n",
    "    return tf.keras.models.Model(inputs=[Input_seq, Input_lc], outputs=out)\n",
    "\n",
    "model = get_wavenet()\n",
    "model.compile(tf.keras.optimizers.Adam(), loss='categorical_crossentropy', metrics=['accuracy'])\n",
    "model.summary()"
   ]
  },
  {
   "cell_type": "markdown",
   "id": "250e8334",
   "metadata": {},
   "source": [
    "### Obtenemos los datos y los transformamos los datos a los que acepta el modelo"
   ]
  },
  {
   "cell_type": "code",
   "execution_count": 17,
   "id": "0be4bd71",
   "metadata": {
    "executionInfo": {
     "elapsed": 10,
     "status": "ok",
     "timestamp": 1658472787234,
     "user": {
      "displayName": "Alvaro Lopez Garcia",
      "userId": "08444033500803305702"
     },
     "user_tz": -120
    },
    "id": "0be4bd71"
   },
   "outputs": [],
   "source": [
    "# Parámetros de entrenamiento\n",
    "N_EPOCHS = 50\n",
    "BATCH_SIZE = 25\n",
    "\n",
    "# Parámetros para ajustar el tiempo de entrenamiento\n",
    "DIM_FACTOR = (10 * 24 * 60)/(90 * len(df) * N_EPOCHS)\n",
    "\n",
    "FIRST_ITEM = int(1.25 * SAMPLING_RATE) # Comenzamos en el segundo 1.25, el comienzo de la obra en promedio\n",
    "LAST_ITEM = FIRST_ITEM + int(min(df['duration']) * SAMPLING_RATE * DIM_FACTOR)\n",
    "FILE_LENGTH = FIRST_ITEM + int(2 * min(df['duration']) * SAMPLING_RATE * DIM_FACTOR)"
   ]
  },
  {
   "cell_type": "code",
   "execution_count": 18,
   "id": "860b2610",
   "metadata": {},
   "outputs": [],
   "source": [
    "feature_description = {\n",
    "    \"lc\": tf.io.FixedLenFeature(shape=[np.prod(LC_SHAPE[1])], dtype=tf.float32),\n",
    "    \"seq\": tf.io.FixedLenFeature(shape=[np.prod(INP_SHAPE[0])], dtype=tf.int64),\n",
    "    \"out\": tf.io.FixedLenFeature(shape=[np.prod(OUT_SHAPE[0])], dtype=tf.int64)}\n",
    "\n",
    "def parse_sample(sample):\n",
    "    return tf.io.parse_single_example(sample, features=feature_description)\n",
    "\n",
    "def midi_feature(value):\n",
    "    return tf.train.Feature(float_list=tf.train.FloatList(value=value.flatten()))\n",
    "\n",
    "def wav_feature(value, mulaw_enc):\n",
    "    return tf.train.Feature(int64_list=tf.train.Int64List(value=mulaw_enc.encode_series(value).flatten()))\n",
    "\n",
    "def generate_data(df):\n",
    "    \n",
    "    # Para procesar los ficheros\n",
    "    midi_hdlr = Midi_handler(sampling_rate=SAMPLING_RATE, dir_path=PATH, n_notes=N_NOTES)\n",
    "    wav_hdlr = Wav_handler(sampling_rate=SAMPLING_RATE, dir_path=PATH)\n",
    "\n",
    "    # Para aplicar el mu-law encoding\n",
    "    mulaw_enc = Mu_law_encoder(mu=MU, n_bits=N_BITS, amps=AMPS)\n",
    "\n",
    "    midi_data = (midi_hdlr.vectorize_midi(df['midi_filename']) - MIDI_MIN) / (MIDI_MAX - MIDI_MIN)\n",
    "    wav_data = wav_hdlr.vectorize_wav(df['audio_filename'])\n",
    "\n",
    "    length = min([len(midi_data), len(wav_data)]) - INPUT_LEN\n",
    "    print(f\"Thread {threading.get_ident()} escribiendo\")\n",
    "\n",
    "    for idx, (midi_, wav_) in enumerate(zip(midi_data, wav_data)):\n",
    "        if idx >= FILE_LENGTH: break\n",
    "        feature = {\"lc\": midi_feature(midi_data[idx+INPUT_LEN]),\n",
    "                \"seq\": wav_feature(wav_data[idx:idx+INPUT_LEN], mulaw_enc),\n",
    "                \"out\": wav_feature(wav_data[idx+1:idx+INPUT_LEN+1], mulaw_enc)}\n",
    "\n",
    "        yield tf.train.Example(features=tf.train.Features(feature=feature)).SerializeToString()\n",
    "\n",
    "def write_data(df, max_files=None, max_samples=None, file='cache_out'):\n",
    "\n",
    "    assert(file is not None)\n",
    "    assert(max_samples is None or max_samples > INPUT_LEN)\n",
    "    assert(max_files is None or max_files > 0)\n",
    "\n",
    "    # Calculamos el número máximo de ficheros y ejemplos por fichero\n",
    "    num_files = -1 if max_files is None else max_files\n",
    "    num_samples = -1 if max_samples is None else max_samples\n",
    "    \n",
    "    serialized_features_dataset = tf.data.Dataset.from_generator(lambda : generate_data(df),\n",
    "                    output_types=tf.string, output_shapes=())\n",
    "        \n",
    "    tf.data.experimental.save(serialized_features_dataset, file, compression='GZIP')\n",
    "\n",
    "def read_data(filename=None):\n",
    "    assert(filename is not None)\n",
    "    return  tf.data.experimental.load(filename, compression='GZIP')"
   ]
  },
  {
   "cell_type": "code",
   "execution_count": 19,
   "id": "49a84de3",
   "metadata": {},
   "outputs": [],
   "source": [
    "import queue\n",
    "import threading\n",
    "import time\n",
    "\n",
    "class myThread(threading.Thread):\n",
    "\n",
    "    def __init__(self, threadID, name, q):\n",
    "        threading.Thread.__init__(self)\n",
    "        self.threadID = threadID\n",
    "        self.name = name\n",
    "        self.q = q\n",
    "\n",
    "    def run(self):\n",
    "        print(f\"Levantando {self.name}...\")\n",
    "        process_data(self.name, self.q)\n",
    "        print(f\"... terminando {self.name}\")\n",
    "\n",
    "def process_data(threadName, q):\n",
    "    while not exitFlag:\n",
    "        queueLock.acquire()\n",
    "        if not workQueue.empty():\n",
    "            data = q.get()\n",
    "            queueLock.release()\n",
    "            print(f\"{threadName} processing {data}\\n\")\n",
    "            idx, split, midi, wav = data\n",
    "            cache_file = 'cache/' + split + '/' + midi[:-5]\n",
    "            write_data(df.iloc[idx], file=cache_file)\n",
    "            print(f\"{threadName} termina un fichero\\n\")\n",
    "        else:\n",
    "            queueLock.release()\n",
    "            time.sleep(1)"
   ]
  },
  {
   "cell_type": "code",
   "execution_count": null,
   "id": "2801f51f",
   "metadata": {},
   "outputs": [
    {
     "name": "stdout",
     "output_type": "stream",
     "text": [
      "Levantando Thread 0...\n",
      "Thread 0 processing (0, 'train', '2017/MIDI-Unprocessed_066_PIANO066_MID--AUDIO-split_07-07-17_Piano-e_3-02_wav--3.midi', '2017/MIDI-Unprocessed_066_PIANO066_MID--AUDIO-split_07-07-17_Piano-e_3-02_wav--3.wav')\n",
      "\n",
      "Levantando Thread 1...\n",
      "Thread 1 processing (1, 'train', '2004/MIDI-Unprocessed_XP_21_R1_2004_01_ORIG_MID--AUDIO_21_R1_2004_01_Track01_wav.midi', '2004/MIDI-Unprocessed_XP_21_R1_2004_01_ORIG_MID--AUDIO_21_R1_2004_01_Track01_wav.wav')\n",
      "Levantando Thread 2...\n",
      "Thread 2 processing (2, 'validation', '2006/MIDI-Unprocessed_17_R1_2006_01-06_ORIG_MID--AUDIO_17_R1_2006_04_Track04_wav.midi', '2006/MIDI-Unprocessed_17_R1_2006_01-06_ORIG_MID--AUDIO_17_R1_2006_04_Track04_wav.wav')\n",
      "\n",
      "Levantando Thread 3...\n",
      "Thread 3 processing (3, 'validation', '2009/MIDI-Unprocessed_07_R1_2009_04-05_ORIG_MID--AUDIO_07_R1_2009_07_R1_2009_04_WAV.midi', '2009/MIDI-Unprocessed_07_R1_2009_04-05_ORIG_MID--AUDIO_07_R1_2009_07_R1_2009_04_WAV.wav')\n",
      "\n",
      "\n",
      "Thread 123145740632064 escribiendo\n",
      "Thread 2 termina un fichero\n",
      "\n",
      "Thread 2 processing (7, 'validation', '2009/MIDI-Unprocessed_02_R1_2009_03-06_ORIG_MID--AUDIO_02_R1_2009_02_R1_2009_05_WAV.midi', '2009/MIDI-Unprocessed_02_R1_2009_03-06_ORIG_MID--AUDIO_02_R1_2009_02_R1_2009_05_WAV.wav')\n",
      "\n",
      "Thread 123145729900544 escribiendo\n",
      "Thread 3 termina un fichero\n",
      "\n",
      "Thread 3 processing (8, 'train', '2011/MIDI-Unprocessed_15_R1_2011_MID--AUDIO_R1-D6_09_Track09_wav.midi', '2011/MIDI-Unprocessed_15_R1_2011_MID--AUDIO_R1-D6_09_Track09_wav.wav')\n",
      "\n",
      "Thread 123145727754240 escribiendo\n",
      "Thread 3 termina un fichero\n",
      "\n",
      "Thread 3 processing (9, 'train', '2006/MIDI-Unprocessed_19_R1_2006_01-07_ORIG_MID--AUDIO_19_R1_2006_04_Track04_wav.midi', '2006/MIDI-Unprocessed_19_R1_2006_01-07_ORIG_MID--AUDIO_19_R1_2006_04_Track04_wav.wav')\n",
      "\n",
      "Thread 123145738485760 escribiendo\n"
     ]
    }
   ],
   "source": [
    "N_THREADS = 4\n",
    "\n",
    "exitFlag = False\n",
    "queueLock = threading.Lock()\n",
    "workQueue = queue.Queue(len(df))\n",
    "\n",
    "threads = []\n",
    "\n",
    "# Fill the queue\n",
    "queueLock.acquire()\n",
    "for idx, (split, midi, wav) in enumerate(zip(df['split'], df['midi_filename'], \n",
    "                                                 df['audio_filename'])):\n",
    "    workQueue.put((idx, split, midi, wav))\n",
    "queueLock.release()\n",
    "\n",
    "# Create new threads\n",
    "for i in range(N_THREADS):\n",
    "    thread = myThread(i, f\"Thread {i}\", workQueue)\n",
    "    thread.start()\n",
    "    threads.append(thread)\n",
    "\n",
    "# Wait for queue to empty\n",
    "while not workQueue.empty():\n",
    "    time.sleep(10)\n",
    "\n",
    "# Notify threads it's time to exit\n",
    "exitFlag = True\n",
    "\n",
    "# Wait for all threads to complete\n",
    "for t in threads:\n",
    "    t.join()\n",
    "print(\"Exiting Main Thread\")"
   ]
  },
  {
   "cell_type": "markdown",
   "id": "a55f2525",
   "metadata": {
    "id": "a40bbd10"
   },
   "source": [
    "### Loop de entrenamiento"
   ]
  },
  {
   "cell_type": "code",
   "execution_count": 19,
   "id": "510f6483",
   "metadata": {
    "colab": {
     "base_uri": "https://localhost:8080/"
    },
    "id": "510f6483",
    "outputId": "ffc6b46c-5669-421f-ee2c-b55bb48283fc",
    "scrolled": false
   },
   "outputs": [
    {
     "name": "stdout",
     "output_type": "stream",
     "text": [
      "Creando nuevo modelo\n",
      "Comenzando el entrenamiento del modelo (nº de epochs: 50, parámetros a entrenar: 1444408)...\n",
      "------------------------------------------------------------------------\n",
      "Comenzando epoch nº 0...\n",
      "Calculando pérdida para el conjunto de cross validation...\n",
      "Calculando pérdida para el fichero 2006/MIDI-Unprocessed_17_R1_2006_01-06_ORIG_MID--AUDIO_17_R1_2006_04_Track04_wav...\n",
      "  3/130 [..............................] - ETA: 2:06 - loss: 4.8630 - accuracy: 0.0000e+00"
     ]
    },
    {
     "ename": "KeyboardInterrupt",
     "evalue": "",
     "output_type": "error",
     "traceback": [
      "\u001b[0;31m---------------------------------------------------------------------------\u001b[0m",
      "\u001b[0;31mKeyboardInterrupt\u001b[0m                         Traceback (most recent call last)",
      "\u001b[0;32m/var/folders/_4/cwq25c4x07gf7wtb_qpfg_mw0000gn/T/ipykernel_96978/351480959.py\u001b[0m in \u001b[0;36m<module>\u001b[0;34m\u001b[0m\n\u001b[1;32m     93\u001b[0m \u001b[0;34m\u001b[0m\u001b[0m\n\u001b[1;32m     94\u001b[0m         \u001b[0;31m# Calculamos la pedida\u001b[0m\u001b[0;34m\u001b[0m\u001b[0;34m\u001b[0m\u001b[0m\n\u001b[0;32m---> 95\u001b[0;31m         model.evaluate(dataset, steps=length, use_multiprocessing=True,\\\n\u001b[0m\u001b[1;32m     96\u001b[0m                                     callbacks=[cv_acc_logger])\n\u001b[1;32m     97\u001b[0m \u001b[0;34m\u001b[0m\u001b[0m\n",
      "\u001b[0;32m/usr/local/lib/python3.9/site-packages/keras/utils/traceback_utils.py\u001b[0m in \u001b[0;36merror_handler\u001b[0;34m(*args, **kwargs)\u001b[0m\n\u001b[1;32m     62\u001b[0m     \u001b[0mfiltered_tb\u001b[0m \u001b[0;34m=\u001b[0m \u001b[0;32mNone\u001b[0m\u001b[0;34m\u001b[0m\u001b[0;34m\u001b[0m\u001b[0m\n\u001b[1;32m     63\u001b[0m     \u001b[0;32mtry\u001b[0m\u001b[0;34m:\u001b[0m\u001b[0;34m\u001b[0m\u001b[0;34m\u001b[0m\u001b[0m\n\u001b[0;32m---> 64\u001b[0;31m       \u001b[0;32mreturn\u001b[0m \u001b[0mfn\u001b[0m\u001b[0;34m(\u001b[0m\u001b[0;34m*\u001b[0m\u001b[0margs\u001b[0m\u001b[0;34m,\u001b[0m \u001b[0;34m**\u001b[0m\u001b[0mkwargs\u001b[0m\u001b[0;34m)\u001b[0m\u001b[0;34m\u001b[0m\u001b[0;34m\u001b[0m\u001b[0m\n\u001b[0m\u001b[1;32m     65\u001b[0m     \u001b[0;32mexcept\u001b[0m \u001b[0mException\u001b[0m \u001b[0;32mas\u001b[0m \u001b[0me\u001b[0m\u001b[0;34m:\u001b[0m  \u001b[0;31m# pylint: disable=broad-except\u001b[0m\u001b[0;34m\u001b[0m\u001b[0;34m\u001b[0m\u001b[0m\n\u001b[1;32m     66\u001b[0m       \u001b[0mfiltered_tb\u001b[0m \u001b[0;34m=\u001b[0m \u001b[0m_process_traceback_frames\u001b[0m\u001b[0;34m(\u001b[0m\u001b[0me\u001b[0m\u001b[0;34m.\u001b[0m\u001b[0m__traceback__\u001b[0m\u001b[0;34m)\u001b[0m\u001b[0;34m\u001b[0m\u001b[0;34m\u001b[0m\u001b[0m\n",
      "\u001b[0;32m/usr/local/lib/python3.9/site-packages/keras/engine/training.py\u001b[0m in \u001b[0;36mevaluate\u001b[0;34m(self, x, y, batch_size, verbose, sample_weight, steps, callbacks, max_queue_size, workers, use_multiprocessing, return_dict, **kwargs)\u001b[0m\n\u001b[1;32m   1714\u001b[0m             \u001b[0;32mwith\u001b[0m \u001b[0mtf\u001b[0m\u001b[0;34m.\u001b[0m\u001b[0mprofiler\u001b[0m\u001b[0;34m.\u001b[0m\u001b[0mexperimental\u001b[0m\u001b[0;34m.\u001b[0m\u001b[0mTrace\u001b[0m\u001b[0;34m(\u001b[0m\u001b[0;34m'test'\u001b[0m\u001b[0;34m,\u001b[0m \u001b[0mstep_num\u001b[0m\u001b[0;34m=\u001b[0m\u001b[0mstep\u001b[0m\u001b[0;34m,\u001b[0m \u001b[0m_r\u001b[0m\u001b[0;34m=\u001b[0m\u001b[0;36m1\u001b[0m\u001b[0;34m)\u001b[0m\u001b[0;34m:\u001b[0m\u001b[0;34m\u001b[0m\u001b[0;34m\u001b[0m\u001b[0m\n\u001b[1;32m   1715\u001b[0m               \u001b[0mcallbacks\u001b[0m\u001b[0;34m.\u001b[0m\u001b[0mon_test_batch_begin\u001b[0m\u001b[0;34m(\u001b[0m\u001b[0mstep\u001b[0m\u001b[0;34m)\u001b[0m\u001b[0;34m\u001b[0m\u001b[0;34m\u001b[0m\u001b[0m\n\u001b[0;32m-> 1716\u001b[0;31m               \u001b[0mtmp_logs\u001b[0m \u001b[0;34m=\u001b[0m \u001b[0mself\u001b[0m\u001b[0;34m.\u001b[0m\u001b[0mtest_function\u001b[0m\u001b[0;34m(\u001b[0m\u001b[0miterator\u001b[0m\u001b[0;34m)\u001b[0m\u001b[0;34m\u001b[0m\u001b[0;34m\u001b[0m\u001b[0m\n\u001b[0m\u001b[1;32m   1717\u001b[0m               \u001b[0;32mif\u001b[0m \u001b[0mdata_handler\u001b[0m\u001b[0;34m.\u001b[0m\u001b[0mshould_sync\u001b[0m\u001b[0;34m:\u001b[0m\u001b[0;34m\u001b[0m\u001b[0;34m\u001b[0m\u001b[0m\n\u001b[1;32m   1718\u001b[0m                 \u001b[0mcontext\u001b[0m\u001b[0;34m.\u001b[0m\u001b[0masync_wait\u001b[0m\u001b[0;34m(\u001b[0m\u001b[0;34m)\u001b[0m\u001b[0;34m\u001b[0m\u001b[0;34m\u001b[0m\u001b[0m\n",
      "\u001b[0;32m/usr/local/lib/python3.9/site-packages/tensorflow/python/util/traceback_utils.py\u001b[0m in \u001b[0;36merror_handler\u001b[0;34m(*args, **kwargs)\u001b[0m\n\u001b[1;32m    148\u001b[0m     \u001b[0mfiltered_tb\u001b[0m \u001b[0;34m=\u001b[0m \u001b[0;32mNone\u001b[0m\u001b[0;34m\u001b[0m\u001b[0;34m\u001b[0m\u001b[0m\n\u001b[1;32m    149\u001b[0m     \u001b[0;32mtry\u001b[0m\u001b[0;34m:\u001b[0m\u001b[0;34m\u001b[0m\u001b[0;34m\u001b[0m\u001b[0m\n\u001b[0;32m--> 150\u001b[0;31m       \u001b[0;32mreturn\u001b[0m \u001b[0mfn\u001b[0m\u001b[0;34m(\u001b[0m\u001b[0;34m*\u001b[0m\u001b[0margs\u001b[0m\u001b[0;34m,\u001b[0m \u001b[0;34m**\u001b[0m\u001b[0mkwargs\u001b[0m\u001b[0;34m)\u001b[0m\u001b[0;34m\u001b[0m\u001b[0;34m\u001b[0m\u001b[0m\n\u001b[0m\u001b[1;32m    151\u001b[0m     \u001b[0;32mexcept\u001b[0m \u001b[0mException\u001b[0m \u001b[0;32mas\u001b[0m \u001b[0me\u001b[0m\u001b[0;34m:\u001b[0m\u001b[0;34m\u001b[0m\u001b[0;34m\u001b[0m\u001b[0m\n\u001b[1;32m    152\u001b[0m       \u001b[0mfiltered_tb\u001b[0m \u001b[0;34m=\u001b[0m \u001b[0m_process_traceback_frames\u001b[0m\u001b[0;34m(\u001b[0m\u001b[0me\u001b[0m\u001b[0;34m.\u001b[0m\u001b[0m__traceback__\u001b[0m\u001b[0;34m)\u001b[0m\u001b[0;34m\u001b[0m\u001b[0;34m\u001b[0m\u001b[0m\n",
      "\u001b[0;32m/usr/local/lib/python3.9/site-packages/tensorflow/python/eager/def_function.py\u001b[0m in \u001b[0;36m__call__\u001b[0;34m(self, *args, **kwds)\u001b[0m\n\u001b[1;32m    913\u001b[0m \u001b[0;34m\u001b[0m\u001b[0m\n\u001b[1;32m    914\u001b[0m       \u001b[0;32mwith\u001b[0m \u001b[0mOptionalXlaContext\u001b[0m\u001b[0;34m(\u001b[0m\u001b[0mself\u001b[0m\u001b[0;34m.\u001b[0m\u001b[0m_jit_compile\u001b[0m\u001b[0;34m)\u001b[0m\u001b[0;34m:\u001b[0m\u001b[0;34m\u001b[0m\u001b[0;34m\u001b[0m\u001b[0m\n\u001b[0;32m--> 915\u001b[0;31m         \u001b[0mresult\u001b[0m \u001b[0;34m=\u001b[0m \u001b[0mself\u001b[0m\u001b[0;34m.\u001b[0m\u001b[0m_call\u001b[0m\u001b[0;34m(\u001b[0m\u001b[0;34m*\u001b[0m\u001b[0margs\u001b[0m\u001b[0;34m,\u001b[0m \u001b[0;34m**\u001b[0m\u001b[0mkwds\u001b[0m\u001b[0;34m)\u001b[0m\u001b[0;34m\u001b[0m\u001b[0;34m\u001b[0m\u001b[0m\n\u001b[0m\u001b[1;32m    916\u001b[0m \u001b[0;34m\u001b[0m\u001b[0m\n\u001b[1;32m    917\u001b[0m       \u001b[0mnew_tracing_count\u001b[0m \u001b[0;34m=\u001b[0m \u001b[0mself\u001b[0m\u001b[0;34m.\u001b[0m\u001b[0mexperimental_get_tracing_count\u001b[0m\u001b[0;34m(\u001b[0m\u001b[0;34m)\u001b[0m\u001b[0;34m\u001b[0m\u001b[0;34m\u001b[0m\u001b[0m\n",
      "\u001b[0;32m/usr/local/lib/python3.9/site-packages/tensorflow/python/eager/def_function.py\u001b[0m in \u001b[0;36m_call\u001b[0;34m(self, *args, **kwds)\u001b[0m\n\u001b[1;32m    945\u001b[0m       \u001b[0;31m# In this case we have created variables on the first call, so we run the\u001b[0m\u001b[0;34m\u001b[0m\u001b[0;34m\u001b[0m\u001b[0m\n\u001b[1;32m    946\u001b[0m       \u001b[0;31m# defunned version which is guaranteed to never create variables.\u001b[0m\u001b[0;34m\u001b[0m\u001b[0;34m\u001b[0m\u001b[0m\n\u001b[0;32m--> 947\u001b[0;31m       \u001b[0;32mreturn\u001b[0m \u001b[0mself\u001b[0m\u001b[0;34m.\u001b[0m\u001b[0m_stateless_fn\u001b[0m\u001b[0;34m(\u001b[0m\u001b[0;34m*\u001b[0m\u001b[0margs\u001b[0m\u001b[0;34m,\u001b[0m \u001b[0;34m**\u001b[0m\u001b[0mkwds\u001b[0m\u001b[0;34m)\u001b[0m  \u001b[0;31m# pylint: disable=not-callable\u001b[0m\u001b[0;34m\u001b[0m\u001b[0;34m\u001b[0m\u001b[0m\n\u001b[0m\u001b[1;32m    948\u001b[0m     \u001b[0;32melif\u001b[0m \u001b[0mself\u001b[0m\u001b[0;34m.\u001b[0m\u001b[0m_stateful_fn\u001b[0m \u001b[0;32mis\u001b[0m \u001b[0;32mnot\u001b[0m \u001b[0;32mNone\u001b[0m\u001b[0;34m:\u001b[0m\u001b[0;34m\u001b[0m\u001b[0;34m\u001b[0m\u001b[0m\n\u001b[1;32m    949\u001b[0m       \u001b[0;31m# Release the lock early so that multiple threads can perform the call\u001b[0m\u001b[0;34m\u001b[0m\u001b[0;34m\u001b[0m\u001b[0m\n",
      "\u001b[0;32m/usr/local/lib/python3.9/site-packages/tensorflow/python/eager/function.py\u001b[0m in \u001b[0;36m__call__\u001b[0;34m(self, *args, **kwargs)\u001b[0m\n\u001b[1;32m   2954\u001b[0m       (graph_function,\n\u001b[1;32m   2955\u001b[0m        filtered_flat_args) = self._maybe_define_function(args, kwargs)\n\u001b[0;32m-> 2956\u001b[0;31m     return graph_function._call_flat(\n\u001b[0m\u001b[1;32m   2957\u001b[0m         filtered_flat_args, captured_inputs=graph_function.captured_inputs)  # pylint: disable=protected-access\n\u001b[1;32m   2958\u001b[0m \u001b[0;34m\u001b[0m\u001b[0m\n",
      "\u001b[0;32m/usr/local/lib/python3.9/site-packages/tensorflow/python/eager/function.py\u001b[0m in \u001b[0;36m_call_flat\u001b[0;34m(self, args, captured_inputs, cancellation_manager)\u001b[0m\n\u001b[1;32m   1851\u001b[0m         and executing_eagerly):\n\u001b[1;32m   1852\u001b[0m       \u001b[0;31m# No tape is watching; skip to running the function.\u001b[0m\u001b[0;34m\u001b[0m\u001b[0;34m\u001b[0m\u001b[0m\n\u001b[0;32m-> 1853\u001b[0;31m       return self._build_call_outputs(self._inference_function.call(\n\u001b[0m\u001b[1;32m   1854\u001b[0m           ctx, args, cancellation_manager=cancellation_manager))\n\u001b[1;32m   1855\u001b[0m     forward_backward = self._select_forward_and_backward_functions(\n",
      "\u001b[0;32m/usr/local/lib/python3.9/site-packages/tensorflow/python/eager/function.py\u001b[0m in \u001b[0;36mcall\u001b[0;34m(self, ctx, args, cancellation_manager)\u001b[0m\n\u001b[1;32m    497\u001b[0m       \u001b[0;32mwith\u001b[0m \u001b[0m_InterpolateFunctionError\u001b[0m\u001b[0;34m(\u001b[0m\u001b[0mself\u001b[0m\u001b[0;34m)\u001b[0m\u001b[0;34m:\u001b[0m\u001b[0;34m\u001b[0m\u001b[0;34m\u001b[0m\u001b[0m\n\u001b[1;32m    498\u001b[0m         \u001b[0;32mif\u001b[0m \u001b[0mcancellation_manager\u001b[0m \u001b[0;32mis\u001b[0m \u001b[0;32mNone\u001b[0m\u001b[0;34m:\u001b[0m\u001b[0;34m\u001b[0m\u001b[0;34m\u001b[0m\u001b[0m\n\u001b[0;32m--> 499\u001b[0;31m           outputs = execute.execute(\n\u001b[0m\u001b[1;32m    500\u001b[0m               \u001b[0mstr\u001b[0m\u001b[0;34m(\u001b[0m\u001b[0mself\u001b[0m\u001b[0;34m.\u001b[0m\u001b[0msignature\u001b[0m\u001b[0;34m.\u001b[0m\u001b[0mname\u001b[0m\u001b[0;34m)\u001b[0m\u001b[0;34m,\u001b[0m\u001b[0;34m\u001b[0m\u001b[0;34m\u001b[0m\u001b[0m\n\u001b[1;32m    501\u001b[0m               \u001b[0mnum_outputs\u001b[0m\u001b[0;34m=\u001b[0m\u001b[0mself\u001b[0m\u001b[0;34m.\u001b[0m\u001b[0m_num_outputs\u001b[0m\u001b[0;34m,\u001b[0m\u001b[0;34m\u001b[0m\u001b[0;34m\u001b[0m\u001b[0m\n",
      "\u001b[0;32m/usr/local/lib/python3.9/site-packages/tensorflow/python/eager/execute.py\u001b[0m in \u001b[0;36mquick_execute\u001b[0;34m(op_name, num_outputs, inputs, attrs, ctx, name)\u001b[0m\n\u001b[1;32m     52\u001b[0m   \u001b[0;32mtry\u001b[0m\u001b[0;34m:\u001b[0m\u001b[0;34m\u001b[0m\u001b[0;34m\u001b[0m\u001b[0m\n\u001b[1;32m     53\u001b[0m     \u001b[0mctx\u001b[0m\u001b[0;34m.\u001b[0m\u001b[0mensure_initialized\u001b[0m\u001b[0;34m(\u001b[0m\u001b[0;34m)\u001b[0m\u001b[0;34m\u001b[0m\u001b[0;34m\u001b[0m\u001b[0m\n\u001b[0;32m---> 54\u001b[0;31m     tensors = pywrap_tfe.TFE_Py_Execute(ctx._handle, device_name, op_name,\n\u001b[0m\u001b[1;32m     55\u001b[0m                                         inputs, attrs, num_outputs)\n\u001b[1;32m     56\u001b[0m   \u001b[0;32mexcept\u001b[0m \u001b[0mcore\u001b[0m\u001b[0;34m.\u001b[0m\u001b[0m_NotOkStatusException\u001b[0m \u001b[0;32mas\u001b[0m \u001b[0me\u001b[0m\u001b[0;34m:\u001b[0m\u001b[0;34m\u001b[0m\u001b[0;34m\u001b[0m\u001b[0m\n",
      "\u001b[0;31mKeyboardInterrupt\u001b[0m: "
     ]
    }
   ],
   "source": [
    "try:\n",
    "    model = tf.keras.models.load_model('model.hdf5')\n",
    "    print(\"Cargado modelo anterior\")\n",
    "except:\n",
    "    model = get_wavenet()\n",
    "    model.compile(tf.keras.optimizers.Adam(), loss='categorical_crossentropy', metrics=['accuracy'])\n",
    "    print(\"Creando nuevo modelo\")\n",
    "    \n",
    "# Para procesar los ficheros\n",
    "midi_hdlr = Midi_handler(sampling_rate=SAMPLING_RATE, dir_path=PATH, n_notes=N_NOTES)\n",
    "wav_hdlr = Wav_handler(sampling_rate=SAMPLING_RATE, dir_path=PATH)\n",
    "\n",
    "# Para aplicar el mu-law encoding\n",
    "mulaw_enc = Mu_law_encoder(mu=MU, n_bits=N_BITS, amps=AMPS)\n",
    "\n",
    "# Obtenemos el epoch actual\n",
    "current_epoch = min(df['epochs_trained'])\n",
    "\n",
    "print(f'Comenzando el entrenamiento del modelo (nº de epochs: {N_EPOCHS}, parámetros a entrenar: {np.sum([np.prod(v.get_shape()) for v in model.trainable_weights])})...')\n",
    "print('------------------------------------------------------------------------')\n",
    "\n",
    "while current_epoch < N_EPOCHS:\n",
    "\n",
    "    # Obtenemos los ficheros a entrenar en este epoch\n",
    "    train_df = df[(df['epochs_trained'] <= current_epoch) & \n",
    "                                    (df['split'] == 'train')]\n",
    "    \n",
    "    print(f'Comenzando epoch nº {current_epoch}...')\n",
    "    \n",
    "    # Para cada fichero entrenamos\n",
    "    for idx, split, midi in zip(train_df.index, train_df['split'], train_df['midi_filename']):\n",
    "        \n",
    "        print(f'Entrenando el fichero {midi[:-5]}...')\n",
    "\n",
    "        dataset = read_data('cache/' + train_df.loc[idx, 'split'] + '/' +\n",
    "                            train_df.loc[idx, 'midi_filename'][:-5])\n",
    "        dataset = dataset.map(lambda x: parse_sample(x))\n",
    "        dataset = dataset.map(lambda x: ({'lc': tf.expand_dims(x['lc'], 0),\n",
    "                                 'seq': tf.one_hot(x['seq'], depth=N_LEVELS)},\n",
    "                                 tf.one_hot(x['out'], depth=N_LEVELS)),\n",
    "                              num_parallel_calls = tf.data.experimental.AUTOTUNE)\n",
    "        dataset = dataset.batch(BATCH_SIZE)\n",
    "        dataset = dataset.prefetch(tf.data.AUTOTUNE)\n",
    "        \n",
    "        # Calculamos la longitud\n",
    "        length = int((LAST_ITEM - FIRST_ITEM) / BATCH_SIZE)\n",
    "\n",
    "        # Callbacks\n",
    "        train_acc_logger = tf.keras.callbacks.CSVLogger('training_accuracy.csv', separator=\",\", append=True)\n",
    "        best_checkpoint = tf.keras.callbacks.ModelCheckpoint(\"best.hdf5\", monitor='accuracy', \n",
    "                                                             save_best_only=True, mode='max')\n",
    "\n",
    "        # Entrenamos\n",
    "        model.fit(dataset, steps_per_epoch=length, epochs=1,\\\n",
    "                            callbacks=[train_acc_logger, best_checkpoint],\\\n",
    "                            use_multiprocessing=True)\n",
    "        \n",
    "        # Guardamos el modelo\n",
    "        model.save('model.hdf5')\n",
    "        \n",
    "        # Actualizamos el csv con el progreso del entrenamiento\n",
    "        df.loc[df['midi_filename'] == midi, 'epochs_trained'] = current_epoch + 1\n",
    "        set_dataframe(df, path='maestro-v3.0.0.csv')\n",
    "\n",
    "        # Manual garbage collection\n",
    "        del dataset\n",
    "\n",
    "    # Obtenemos los valores de cross validation\n",
    "    crossval_df = df[df['split'] == 'validation']\n",
    "\n",
    "    print('Calculando pérdida para el conjunto de cross validation...')\n",
    "    \n",
    "    # Para cada fichero medimos la cross validation score al final del epoch\n",
    "    for idx, split, midi in zip(crossval_df.index, crossval_df['split'], crossval_df['midi_filename']):\n",
    "        \n",
    "        print(f'Calculando pérdida para el fichero {midi[:-5]}...')\n",
    "        \n",
    "        dataset = read_data('cache/' + crossval_df.loc[idx, 'split'] + '/' +\n",
    "                         crossval_df.loc[idx, 'midi_filename'][:-5])\n",
    "        dataset = dataset.map(lambda x: parse_sample(x))\n",
    "        dataset = dataset.map(lambda x: ({'lc': tf.expand_dims(x['lc'], 0),\n",
    "                                 'seq': tf.one_hot(x['seq'], depth=N_LEVELS)},\n",
    "                                 tf.one_hot(x['out'], depth=N_LEVELS)),\n",
    "                              num_parallel_calls = tf.data.experimental.AUTOTUNE)\n",
    "        dataset = dataset.batch(BATCH_SIZE)\n",
    "        dataset = dataset.prefetch(tf.data.AUTOTUNE)\n",
    "        \n",
    "        # Calculamos la longitud\n",
    "        length = int((LAST_ITEM - FIRST_ITEM) / BATCH_SIZE)\n",
    "        \n",
    "        # Callbacks\n",
    "        cv_acc_logger = tf.keras.callbacks.CSVLogger('crossval_accuracy.csv', separator=\",\", append=True)\n",
    "\n",
    "        # Calculamos la pedida\n",
    "        model.evaluate(dataset, steps=length, use_multiprocessing=True,\\\n",
    "                                    callbacks=[cv_acc_logger])\n",
    "        \n",
    "        # Manual garbage collection\n",
    "        del dataset\n",
    "    \n",
    "    current_epoch += 1\n",
    "    \n",
    "print('------------------------------------------------------------------------')"
   ]
  },
  {
   "cell_type": "markdown",
   "id": "76a266c7",
   "metadata": {
    "id": "76a266c7"
   },
   "source": [
    "### Estadísticas del entrenamiento"
   ]
  },
  {
   "cell_type": "code",
   "execution_count": null,
   "id": "2d6f8330",
   "metadata": {
    "executionInfo": {
     "elapsed": 20,
     "status": "aborted",
     "timestamp": 1658472792280,
     "user": {
      "displayName": "Alvaro Lopez Garcia",
      "userId": "08444033500803305702"
     },
     "user_tz": -120
    },
    "id": "2d6f8330"
   },
   "outputs": [],
   "source": [
    "'''\n",
    "    Helper function to plot keras history.\n",
    "    https://machinelearningmastery.com/display-deep-learning-model-training-history-in-keras/\n",
    "'''\n",
    "def plot_history(history):\n",
    "    # Summarize history for accuracy\n",
    "    plt.plot(history.history['accuracy'])\n",
    "    plt.plot(history.history['val_accuracy'])\n",
    "    plt.title('Model accuracy')\n",
    "    plt.ylabel('Accuracy')\n",
    "    plt.xlabel('Epoch')\n",
    "    plt.legend(['Train', 'Cross Validation'], loc='upper left')\n",
    "    plt.show()\n",
    "    # Summarize history for loss\n",
    "    plt.plot(history.history['loss'])\n",
    "    plt.plot(history.history['val_loss'])\n",
    "    plt.title('Model loss')\n",
    "    plt.ylabel('Loss')\n",
    "    plt.xlabel('Epoch')\n",
    "    plt.legend(['Train', 'Cross Validation'], loc='upper left')\n",
    "    plt.show()"
   ]
  },
  {
   "cell_type": "code",
   "execution_count": null,
   "id": "ac7c7bae",
   "metadata": {
    "executionInfo": {
     "elapsed": 19,
     "status": "aborted",
     "timestamp": 1658472792280,
     "user": {
      "displayName": "Alvaro Lopez Garcia",
      "userId": "08444033500803305702"
     },
     "user_tz": -120
    },
    "id": "ac7c7bae",
    "scrolled": false
   },
   "outputs": [],
   "source": [
    "for h in histories:\n",
    "    plot_history(h)"
   ]
  },
  {
   "cell_type": "markdown",
   "id": "3e15f4dd",
   "metadata": {
    "id": "3e15f4dd"
   },
   "source": [
    "### Predicción"
   ]
  },
  {
   "cell_type": "code",
   "execution_count": null,
   "id": "74b4835d",
   "metadata": {
    "executionInfo": {
     "elapsed": 20,
     "status": "aborted",
     "timestamp": 1658472792281,
     "user": {
      "displayName": "Alvaro Lopez Garcia",
      "userId": "08444033500803305702"
     },
     "user_tz": -120
    },
    "id": "74b4835d",
    "scrolled": false
   },
   "outputs": [],
   "source": [
    "predictor = tf.keras.models.load_model('./best.hdf5')\n",
    "predictor.summary()"
   ]
  },
  {
   "cell_type": "code",
   "execution_count": null,
   "id": "33899f05",
   "metadata": {
    "executionInfo": {
     "elapsed": 20,
     "status": "aborted",
     "timestamp": 1658472792281,
     "user": {
      "displayName": "Alvaro Lopez Garcia",
      "userId": "08444033500803305702"
     },
     "user_tz": -120
    },
    "id": "33899f05"
   },
   "outputs": [],
   "source": [
    "'''\n",
    "    Foo\n",
    "'''\n",
    "def predict_wav(in_file, out_file, dir_path, predictor, sr=SAMPLING_RATE, inp_shape=INP_SHAPE, enc=mulaw_enc):\n",
    "    \n",
    "    # TO DO: Quitar comment\n",
    "    #pianoroll = vectorize_midis([dir_path + in_file], sampling_rate=sr, dir_path=dir_path)[0]\n",
    "    \n",
    "    # Listas empleadas para el input/output del preductor\n",
    "    in_arr = tf.random.uniform(inp_shape, minval=0, maxval=1, dtype=tf.dtypes.float32)\n",
    "    lc_arr = []\n",
    "    \n",
    "    # Lista empleada para el output al fichero .wav\n",
    "    wav_arr = tf.zeros([inp_shape[0]])\n",
    "    \n",
    "    # TO DO: Quitar [:]\n",
    "    for i in tqdm(range(len(pianoroll[0:20000]))):\n",
    "        \n",
    "        # Getting the local conditioninng value for this step\n",
    "        lc_arr = pianoroll[i]\n",
    "        \n",
    "        # Getting the value of the prediction\n",
    "        prediction = predictor.predict({\"seq\": tf.expand_dims(in_arr, 0), \\\n",
    "                                        \"lc\": tf.expand_dims(tf.expand_dims(lc_arr, 0), 0)})[-1]\n",
    "        prediction_idx = np.argmax(prediction[-1])\n",
    "        \n",
    "        # Figuring out the params for prediction in next step\n",
    "        in_arr = tf.concat([in_arr[1:], tf.expand_dims(tf.keras.utils.to_categorical(prediction_idx, num_classes=N_LEVELS), 0)], 0)\n",
    "        \n",
    "        # Storing predicted values in wav format\n",
    "        wav_arr = tf.concat([wav_arr, [enc.decode_sample(prediction_idx)]], 0)\n",
    "        \n",
    "    # Writting predicted series to file\n",
    "    sf.write(dir_path + out_file, wav_arr, sr, 'PCM_24')\n",
    "    \n",
    "    return wav_arr\n"
   ]
  },
  {
   "cell_type": "code",
   "execution_count": null,
   "id": "af0d2ccf",
   "metadata": {
    "executionInfo": {
     "elapsed": 19,
     "status": "aborted",
     "timestamp": 1658472792281,
     "user": {
      "displayName": "Alvaro Lopez Garcia",
      "userId": "08444033500803305702"
     },
     "user_tz": -120
    },
    "id": "af0d2ccf",
    "scrolled": false
   },
   "outputs": [],
   "source": [
    "midi_hdlr = Midi_handler(sampling_rate=SAMPLING_RATE, dir_path=PATH, n_notes=N_NOTES)\n",
    "in_file = train_df['midi_filename'][0]\n",
    "out_file = 'prediction.wav'\n",
    "dir_path = './i\\:o'"
   ]
  },
  {
   "cell_type": "code",
   "execution_count": null,
   "id": "6a509bbb",
   "metadata": {
    "executionInfo": {
     "elapsed": 20,
     "status": "aborted",
     "timestamp": 1658472792282,
     "user": {
      "displayName": "Alvaro Lopez Garcia",
      "userId": "08444033500803305702"
     },
     "user_tz": -120
    },
    "id": "6a509bbb",
    "scrolled": false
   },
   "outputs": [],
   "source": [
    "wav_arr = predict_wav(in_file, out_file, dir_path, model)"
   ]
  },
  {
   "cell_type": "code",
   "execution_count": null,
   "id": "a4c6aeca",
   "metadata": {
    "executionInfo": {
     "elapsed": 20,
     "status": "aborted",
     "timestamp": 1658472792282,
     "user": {
      "displayName": "Alvaro Lopez Garcia",
      "userId": "08444033500803305702"
     },
     "user_tz": -120
    },
    "id": "a4c6aeca"
   },
   "outputs": [],
   "source": [
    "pianoroll = (midi_hdlr.vectorize_midi(in_file) - MIDI_MIN) / (MIDI_MAX - MIDI_MIN)"
   ]
  },
  {
   "cell_type": "code",
   "execution_count": null,
   "id": "480455f4",
   "metadata": {
    "executionInfo": {
     "elapsed": 20,
     "status": "aborted",
     "timestamp": 1658472792283,
     "user": {
      "displayName": "Alvaro Lopez Garcia",
      "userId": "08444033500803305702"
     },
     "user_tz": -120
    },
    "id": "480455f4"
   },
   "outputs": [],
   "source": [
    "print(pianoroll[0])"
   ]
  },
  {
   "cell_type": "code",
   "execution_count": null,
   "id": "118e60c8",
   "metadata": {
    "executionInfo": {
     "elapsed": 20,
     "status": "aborted",
     "timestamp": 1658472792283,
     "user": {
      "displayName": "Alvaro Lopez Garcia",
      "userId": "08444033500803305702"
     },
     "user_tz": -120
    },
    "id": "118e60c8"
   },
   "outputs": [],
   "source": []
  },
  {
   "cell_type": "code",
   "execution_count": null,
   "id": "417bd990",
   "metadata": {
    "executionInfo": {
     "elapsed": 20,
     "status": "aborted",
     "timestamp": 1658472792283,
     "user": {
      "displayName": "Alvaro Lopez Garcia",
      "userId": "08444033500803305702"
     },
     "user_tz": -120
    },
    "id": "417bd990",
    "scrolled": true
   },
   "outputs": [],
   "source": []
  },
  {
   "cell_type": "code",
   "execution_count": null,
   "id": "6d71981d",
   "metadata": {
    "executionInfo": {
     "elapsed": 21,
     "status": "aborted",
     "timestamp": 1658472792284,
     "user": {
      "displayName": "Alvaro Lopez Garcia",
      "userId": "08444033500803305702"
     },
     "user_tz": -120
    },
    "id": "6d71981d"
   },
   "outputs": [],
   "source": []
  },
  {
   "cell_type": "code",
   "execution_count": null,
   "id": "4f17dea8",
   "metadata": {
    "executionInfo": {
     "elapsed": 20,
     "status": "aborted",
     "timestamp": 1658472792284,
     "user": {
      "displayName": "Alvaro Lopez Garcia",
      "userId": "08444033500803305702"
     },
     "user_tz": -120
    },
    "id": "4f17dea8"
   },
   "outputs": [],
   "source": [
    "dataset = tf.data.Dataset.from_generator(lambda : generate_data(train_df.iloc[idx]),\n",
    "                                                output_signature=({'lc': tf.TensorSpec(shape=LC_SHAPE, dtype=tf.float64),\n",
    "                                                 'seq': tf.TensorSpec(shape=INP_SHAPE, dtype=tf.float32)},\n",
    "                                         tf.TensorSpec(shape=OUT_SHAPE, dtype=tf.float32)))\n",
    "'''\n",
    "dataset = dataset.map(lambda i, j : (i, j), num_parallel_calls = tf.data.experimental.AUTOTUNE)'''\n",
    "dataset = dataset.batch(BATCH_SIZE)"
   ]
  },
  {
   "cell_type": "code",
   "execution_count": null,
   "id": "a5fb4e51",
   "metadata": {
    "executionInfo": {
     "elapsed": 20,
     "status": "aborted",
     "timestamp": 1658472792284,
     "user": {
      "displayName": "Alvaro Lopez Garcia",
      "userId": "08444033500803305702"
     },
     "user_tz": -120
    },
    "id": "a5fb4e51"
   },
   "outputs": [],
   "source": [
    "for i in dataset.take(1):\n",
    "    print(i)\n",
    "    break"
   ]
  },
  {
   "cell_type": "code",
   "execution_count": null,
   "id": "b1ae55d3",
   "metadata": {
    "executionInfo": {
     "elapsed": 20,
     "status": "aborted",
     "timestamp": 1658472792284,
     "user": {
      "displayName": "Alvaro Lopez Garcia",
      "userId": "08444033500803305702"
     },
     "user_tz": -120
    },
    "id": "b1ae55d3"
   },
   "outputs": [],
   "source": []
  },
  {
   "cell_type": "code",
   "execution_count": null,
   "id": "4f23c068",
   "metadata": {
    "executionInfo": {
     "elapsed": 21,
     "status": "aborted",
     "timestamp": 1658472792285,
     "user": {
      "displayName": "Alvaro Lopez Garcia",
      "userId": "08444033500803305702"
     },
     "user_tz": -120
    },
    "id": "4f23c068"
   },
   "outputs": [],
   "source": []
  },
  {
   "cell_type": "code",
   "execution_count": null,
   "id": "b4125d3f",
   "metadata": {
    "executionInfo": {
     "elapsed": 21,
     "status": "aborted",
     "timestamp": 1658472792285,
     "user": {
      "displayName": "Alvaro Lopez Garcia",
      "userId": "08444033500803305702"
     },
     "user_tz": -120
    },
    "id": "b4125d3f"
   },
   "outputs": [],
   "source": []
  },
  {
   "cell_type": "code",
   "execution_count": null,
   "id": "e465d8c1",
   "metadata": {
    "executionInfo": {
     "elapsed": 20,
     "status": "aborted",
     "timestamp": 1658472792285,
     "user": {
      "displayName": "Alvaro Lopez Garcia",
      "userId": "08444033500803305702"
     },
     "user_tz": -120
    },
    "id": "e465d8c1"
   },
   "outputs": [],
   "source": []
  },
  {
   "cell_type": "code",
   "execution_count": null,
   "id": "b8ec7b7f",
   "metadata": {
    "executionInfo": {
     "elapsed": 21,
     "status": "aborted",
     "timestamp": 1658472792286,
     "user": {
      "displayName": "Alvaro Lopez Garcia",
      "userId": "08444033500803305702"
     },
     "user_tz": -120
    },
    "id": "b8ec7b7f"
   },
   "outputs": [],
   "source": []
  }
 ],
 "metadata": {
  "accelerator": "GPU",
  "colab": {
   "collapsed_sections": [
    "d34e402f",
    "76a266c7",
    "3e15f4dd"
   ],
   "machine_shape": "hm",
   "name": "TFG.ipynb",
   "provenance": []
  },
  "gpuClass": "standard",
  "kernelspec": {
   "display_name": "Python 3 (ipykernel)",
   "language": "python",
   "name": "python3"
  },
  "language_info": {
   "codemirror_mode": {
    "name": "ipython",
    "version": 3
   },
   "file_extension": ".py",
   "mimetype": "text/x-python",
   "name": "python",
   "nbconvert_exporter": "python",
   "pygments_lexer": "ipython3",
   "version": "3.9.13"
  }
 },
 "nbformat": 4,
 "nbformat_minor": 5
}
