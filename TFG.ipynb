{
 "cells": [
  {
   "cell_type": "markdown",
   "id": "1c79e3bf",
   "metadata": {
    "id": "1c79e3bf"
   },
   "source": [
    "# Interpretación de música de piano usando técnicas de Deep Learning.\n",
    "## Trabajo de Fin de Grado.\n",
    "### Facultad de Ciencias - Universidad de Cantabria.\n",
    "**Autor:** Álvaro López García. <br>\n",
    "**Tutor:** Cristina Tirnauca."
   ]
  },
  {
   "cell_type": "code",
   "execution_count": 1,
   "id": "64c0a123",
   "metadata": {
    "colab": {
     "base_uri": "https://localhost:8080/"
    },
    "id": "64c0a123",
    "outputId": "a4b7832d-6d2f-49ff-be0b-1f34b895486a"
   },
   "outputs": [
    {
     "data": {
      "text/plain": [
       "\"# Colab-only\\nfrom google.colab import drive\\ndrive.mount('/content/drive')\\n!pip install mido\\n%cd drive/MyDrive/Colab\\\\ Notebooks/TFG/\""
      ]
     },
     "execution_count": 1,
     "metadata": {},
     "output_type": "execute_result"
    }
   ],
   "source": [
    "'''# Colab-only\n",
    "from google.colab import drive\n",
    "drive.mount('/content/drive')\n",
    "!pip install mido\n",
    "%cd drive/MyDrive/Colab\\ Notebooks/TFG/'''"
   ]
  },
  {
   "cell_type": "code",
   "execution_count": 2,
   "id": "e19ac735",
   "metadata": {
    "colab": {
     "base_uri": "https://localhost:8080/",
     "height": 17
    },
    "id": "e19ac735",
    "outputId": "f24c8611-18fc-420a-a76e-60635f4434d6"
   },
   "outputs": [
    {
     "data": {
      "text/html": [
       "<style>.container { width:70% !important; }</style>"
      ],
      "text/plain": [
       "<IPython.core.display.HTML object>"
      ]
     },
     "metadata": {},
     "output_type": "display_data"
    }
   ],
   "source": [
    "# Celda para importar librerías, costantes, etc.\n",
    "import tensorflow as tf\n",
    "import pandas as pd\n",
    "import numpy as np\n",
    "import soundfile as sf\n",
    "import librosa\n",
    "import mido\n",
    "import math\n",
    "import copy\n",
    "import gc\n",
    "import queue\n",
    "import threading\n",
    "import time\n",
    "\n",
    "from matplotlib import pyplot as plt\n",
    "from IPython import display\n",
    "from tqdm import tqdm\n",
    "\n",
    "from IPython.display import display, HTML\n",
    "display(HTML(\"<style>.container { width:70% !important; }</style>\"))\n",
    "\n",
    "# Para entrenarlo en mi equipor personal:\n",
    "PATH = '/Volumes/TheVault/Documentos Mac/Documentos Universidad/4o Curso/2o Cuatrimestre/Trabajo de Fin de Grado/maestro-v3.0.0/'\n",
    "#PATH = 'maestro-v3.0.0/'"
   ]
  },
  {
   "cell_type": "markdown",
   "id": "95b2a31c",
   "metadata": {
    "id": "95b2a31c"
   },
   "source": [
    "### Creación del dataframe"
   ]
  },
  {
   "cell_type": "code",
   "execution_count": 3,
   "id": "8a188a22",
   "metadata": {
    "id": "8a188a22"
   },
   "outputs": [],
   "source": [
    "def get_dataframe(path=PATH + 'maestro-v3.0.0.csv'):\n",
    "    return pd.read_csv(path)\n",
    "\n",
    "def set_dataframe(df, path=PATH + 'maestro-v3.0.0.csv'):\n",
    "    df.to_csv(path, index=False)"
   ]
  },
  {
   "cell_type": "code",
   "execution_count": 4,
   "id": "17447080",
   "metadata": {
    "colab": {
     "base_uri": "https://localhost:8080/",
     "height": 1000
    },
    "id": "17447080",
    "outputId": "c2f028b0-6267-45c2-a416-bf9fef5e7574"
   },
   "outputs": [
    {
     "data": {
      "text/html": [
       "<div>\n",
       "<style scoped>\n",
       "    .dataframe tbody tr th:only-of-type {\n",
       "        vertical-align: middle;\n",
       "    }\n",
       "\n",
       "    .dataframe tbody tr th {\n",
       "        vertical-align: top;\n",
       "    }\n",
       "\n",
       "    .dataframe thead th {\n",
       "        text-align: right;\n",
       "    }\n",
       "</style>\n",
       "<table border=\"1\" class=\"dataframe\">\n",
       "  <thead>\n",
       "    <tr style=\"text-align: right;\">\n",
       "      <th></th>\n",
       "      <th>canonical_composer</th>\n",
       "      <th>canonical_title</th>\n",
       "      <th>split</th>\n",
       "      <th>year</th>\n",
       "      <th>midi_filename</th>\n",
       "      <th>audio_filename</th>\n",
       "      <th>duration</th>\n",
       "      <th>data_cached</th>\n",
       "    </tr>\n",
       "  </thead>\n",
       "  <tbody>\n",
       "    <tr>\n",
       "      <th>0</th>\n",
       "      <td>Alban Berg</td>\n",
       "      <td>Sonata Op. 1</td>\n",
       "      <td>train</td>\n",
       "      <td>2018</td>\n",
       "      <td>2018/MIDI-Unprocessed_Chamber3_MID--AUDIO_10_R...</td>\n",
       "      <td>2018/MIDI-Unprocessed_Chamber3_MID--AUDIO_10_R...</td>\n",
       "      <td>698.661160</td>\n",
       "      <td>True</td>\n",
       "    </tr>\n",
       "    <tr>\n",
       "      <th>1</th>\n",
       "      <td>Alban Berg</td>\n",
       "      <td>Sonata Op. 1</td>\n",
       "      <td>train</td>\n",
       "      <td>2008</td>\n",
       "      <td>2008/MIDI-Unprocessed_03_R2_2008_01-03_ORIG_MI...</td>\n",
       "      <td>2008/MIDI-Unprocessed_03_R2_2008_01-03_ORIG_MI...</td>\n",
       "      <td>759.518471</td>\n",
       "      <td>True</td>\n",
       "    </tr>\n",
       "    <tr>\n",
       "      <th>2</th>\n",
       "      <td>Alban Berg</td>\n",
       "      <td>Sonata Op. 1</td>\n",
       "      <td>train</td>\n",
       "      <td>2017</td>\n",
       "      <td>2017/MIDI-Unprocessed_066_PIANO066_MID--AUDIO-...</td>\n",
       "      <td>2017/MIDI-Unprocessed_066_PIANO066_MID--AUDIO-...</td>\n",
       "      <td>464.649433</td>\n",
       "      <td>True</td>\n",
       "    </tr>\n",
       "    <tr>\n",
       "      <th>3</th>\n",
       "      <td>Alexander Scriabin</td>\n",
       "      <td>24 Preludes Op. 11, No. 13-24</td>\n",
       "      <td>train</td>\n",
       "      <td>2004</td>\n",
       "      <td>2004/MIDI-Unprocessed_XP_21_R1_2004_01_ORIG_MI...</td>\n",
       "      <td>2004/MIDI-Unprocessed_XP_21_R1_2004_01_ORIG_MI...</td>\n",
       "      <td>872.640588</td>\n",
       "      <td>True</td>\n",
       "    </tr>\n",
       "    <tr>\n",
       "      <th>4</th>\n",
       "      <td>Alexander Scriabin</td>\n",
       "      <td>3 Etudes, Op. 65</td>\n",
       "      <td>validation</td>\n",
       "      <td>2006</td>\n",
       "      <td>2006/MIDI-Unprocessed_17_R1_2006_01-06_ORIG_MI...</td>\n",
       "      <td>2006/MIDI-Unprocessed_17_R1_2006_01-06_ORIG_MI...</td>\n",
       "      <td>397.857508</td>\n",
       "      <td>True</td>\n",
       "    </tr>\n",
       "  </tbody>\n",
       "</table>\n",
       "</div>"
      ],
      "text/plain": [
       "   canonical_composer                canonical_title       split  year  \\\n",
       "0          Alban Berg                   Sonata Op. 1       train  2018   \n",
       "1          Alban Berg                   Sonata Op. 1       train  2008   \n",
       "2          Alban Berg                   Sonata Op. 1       train  2017   \n",
       "3  Alexander Scriabin  24 Preludes Op. 11, No. 13-24       train  2004   \n",
       "4  Alexander Scriabin               3 Etudes, Op. 65  validation  2006   \n",
       "\n",
       "                                       midi_filename  \\\n",
       "0  2018/MIDI-Unprocessed_Chamber3_MID--AUDIO_10_R...   \n",
       "1  2008/MIDI-Unprocessed_03_R2_2008_01-03_ORIG_MI...   \n",
       "2  2017/MIDI-Unprocessed_066_PIANO066_MID--AUDIO-...   \n",
       "3  2004/MIDI-Unprocessed_XP_21_R1_2004_01_ORIG_MI...   \n",
       "4  2006/MIDI-Unprocessed_17_R1_2006_01-06_ORIG_MI...   \n",
       "\n",
       "                                      audio_filename    duration  data_cached  \n",
       "0  2018/MIDI-Unprocessed_Chamber3_MID--AUDIO_10_R...  698.661160         True  \n",
       "1  2008/MIDI-Unprocessed_03_R2_2008_01-03_ORIG_MI...  759.518471         True  \n",
       "2  2017/MIDI-Unprocessed_066_PIANO066_MID--AUDIO-...  464.649433         True  \n",
       "3  2004/MIDI-Unprocessed_XP_21_R1_2004_01_ORIG_MI...  872.640588         True  \n",
       "4  2006/MIDI-Unprocessed_17_R1_2006_01-06_ORIG_MI...  397.857508         True  "
      ]
     },
     "execution_count": 4,
     "metadata": {},
     "output_type": "execute_result"
    }
   ],
   "source": [
    "df = get_dataframe('maestro-v3.0.0.csv')\n",
    "df.head()"
   ]
  },
  {
   "cell_type": "markdown",
   "id": "50449f7c",
   "metadata": {
    "id": "50449f7c"
   },
   "source": [
    "## Clases, métodos y constantes para el procesado del Dataset"
   ]
  },
  {
   "cell_type": "markdown",
   "id": "866c588f",
   "metadata": {
    "id": "866c588f"
   },
   "source": [
    "### Parámetros del procesado"
   ]
  },
  {
   "cell_type": "code",
   "execution_count": 5,
   "id": "b9ae8ddc",
   "metadata": {
    "id": "b9ae8ddc",
    "scrolled": true
   },
   "outputs": [],
   "source": [
    "#Parámetros de configuración de los archivos de audio\n",
    "SAMPLING_RATE = 16000\n",
    "N_NOTES = 88"
   ]
  },
  {
   "cell_type": "markdown",
   "id": "8df284f9",
   "metadata": {
    "id": "8df284f9"
   },
   "source": [
    "###  Código para el procesado de los datos relativos a los ficheros MIDI (`*.midi -> tf.Dataset`)"
   ]
  },
  {
   "cell_type": "code",
   "execution_count": 6,
   "id": "5b331006",
   "metadata": {
    "id": "5b331006"
   },
   "outputs": [],
   "source": [
    "# Constantes relativas al estádar MIDI\n",
    "DEFAULT_SR = 500000"
   ]
  },
  {
   "cell_type": "code",
   "execution_count": 7,
   "id": "4c6f6c1c",
   "metadata": {
    "id": "4c6f6c1c"
   },
   "outputs": [],
   "source": [
    "from utils.midi_handler import Midi_handler\n",
    "midi_hdlr = Midi_handler(sampling_rate=SAMPLING_RATE, dir_path=PATH, n_notes=N_NOTES)"
   ]
  },
  {
   "cell_type": "code",
   "execution_count": 8,
   "id": "5ffd981f",
   "metadata": {
    "colab": {
     "base_uri": "https://localhost:8080/",
     "height": 54
    },
    "id": "5ffd981f",
    "outputId": "cfbdf8eb-07a0-4f09-ea6a-dad105cfabd6",
    "scrolled": false
   },
   "outputs": [
    {
     "data": {
      "text/plain": [
       "\"# Ploteamos una sección de un pianoroll de ejemplo\\nmidi_hdlr.plot_pianoroll(midi_hdlr.vectorize_midi(df['midi_filename'][0])[0:640000], title=df['midi_filename'][0])\""
      ]
     },
     "execution_count": 8,
     "metadata": {},
     "output_type": "execute_result"
    }
   ],
   "source": [
    "'''# Ploteamos una sección de un pianoroll de ejemplo\n",
    "midi_hdlr.plot_pianoroll(midi_hdlr.vectorize_midi(df['midi_filename'][0])[0:640000], title=df['midi_filename'][0])'''"
   ]
  },
  {
   "cell_type": "markdown",
   "id": "0ea6772b",
   "metadata": {
    "id": "0ea6772b"
   },
   "source": [
    "Para los datos relativos a los ficheros `.midi` aplicaremos la normalización **MinMax** donde cada nuevo valor $x'$ para cada ejemplo $x$ vendrá dado por: $$ x' = \\frac{x - min}{max - min} ,$$ donde $max$ y $min$ son los valores máximos y mínimos de los valores de entrada. En este caso, dada la definición del estándar MIDI, sabemos que los valores de estas velocidades ya están parametrizados entre $0$ y $127$ por lo que no necesitamos iterar sobre los datos para conocer el máximo y el mínimo. Para ello definiremos las siguientes constantes:"
   ]
  },
  {
   "cell_type": "code",
   "execution_count": 9,
   "id": "0c320418",
   "metadata": {
    "id": "0c320418"
   },
   "outputs": [],
   "source": [
    "# Constates para aplicar la normalización a los ficheros MIDI\n",
    "MIDI_MAX = 127\n",
    "MIDI_MIN = 0"
   ]
  },
  {
   "cell_type": "markdown",
   "id": "d34e402f",
   "metadata": {
    "id": "d34e402f"
   },
   "source": [
    "### Código para el procesado de los datos relativos a los ficheros de audio (`*.wav -> tf.Dataset`)"
   ]
  },
  {
   "cell_type": "code",
   "execution_count": 10,
   "id": "3b3b5fc1",
   "metadata": {
    "id": "3b3b5fc1"
   },
   "outputs": [],
   "source": [
    "from utils.wav_handler import Wav_handler\n",
    "wav_hdlr = Wav_handler(sampling_rate=SAMPLING_RATE, dir_path=PATH)"
   ]
  },
  {
   "cell_type": "code",
   "execution_count": 11,
   "id": "b9211509",
   "metadata": {
    "colab": {
     "base_uri": "https://localhost:8080/",
     "height": 54
    },
    "id": "b9211509",
    "outputId": "e524646b-7070-4e34-d809-cf05d57fb733"
   },
   "outputs": [
    {
     "data": {
      "text/plain": [
       "\"# Ploteamos una sección de una onda\\nwav_hdlr.plot_wav(wav_hdlr.vectorize_wav(df['audio_filename'][0])[0:128000], title=df['audio_filename'][0])\""
      ]
     },
     "execution_count": 11,
     "metadata": {},
     "output_type": "execute_result"
    }
   ],
   "source": [
    "'''# Ploteamos una sección de una onda\n",
    "wav_hdlr.plot_wav(wav_hdlr.vectorize_wav(df['audio_filename'][0])[0:128000], title=df['audio_filename'][0])'''"
   ]
  },
  {
   "cell_type": "markdown",
   "id": "6028e359",
   "metadata": {
    "id": "6028e359"
   },
   "source": [
    "Para la compresión de la señal emplearemos una compresión basada en una $\\mu$-law."
   ]
  },
  {
   "cell_type": "code",
   "execution_count": 26,
   "id": "884befc9",
   "metadata": {
    "id": "884befc9"
   },
   "outputs": [],
   "source": [
    "# Constates relativas a la compresión con la mu-law\n",
    "N_BITS = 7\n",
    "N_LEVELS = 2 ** N_BITS\n",
    "MU = 256\n",
    "AMPS = (-1, 1)"
   ]
  },
  {
   "cell_type": "code",
   "execution_count": 27,
   "id": "18a7a8a2",
   "metadata": {
    "id": "18a7a8a2"
   },
   "outputs": [],
   "source": [
    "from utils.mu_law_encoder import Mu_law_encoder\n",
    "mulaw_enc = Mu_law_encoder(mu=MU, n_bits=N_BITS, amps=AMPS)"
   ]
  },
  {
   "attachments": {
    "WaveNet_residblock.png": {
     "image/png": "[encoded data removed]"
    }
   },
   "cell_type": "markdown",
   "id": "4425b36e",
   "metadata": {
    "id": "4425b36e"
   },
   "source": [
    "## Creación del modelo\n",
    "![WaveNet_residblock.png](attachment:WaveNet_residblock.png)"
   ]
  },
  {
   "cell_type": "code",
   "execution_count": 28,
   "id": "680154d7",
   "metadata": {
    "id": "680154d7"
   },
   "outputs": [],
   "source": [
    "def calculate_receptive_field(n_blocks, n_layers):\n",
    "    return sum([2 ** i for i in range(n_layers)] * n_blocks) - n_blocks + 1"
   ]
  },
  {
   "cell_type": "code",
   "execution_count": 29,
   "id": "3fed6829",
   "metadata": {
    "id": "3fed6829"
   },
   "outputs": [],
   "source": [
    "# Parámetros que definen la arquitectura del modelo a crear por defecto en las llamadas a get_wavenet()\n",
    "\n",
    "# Parámetros de la arquitectura interna de la red\n",
    "N_FILTERS = N_LEVELS\n",
    "FILTER_WIDTH = 2\n",
    "\n",
    "# Main wavenet\n",
    "N_BLOCKS = 3\n",
    "K_LAYERS = 10\n",
    "\n",
    "# Context stack\n",
    "CONTEXT_BLOCKS = 2\n",
    "CONTEXT_LAYERS = 6\n",
    "\n",
    "# Números y longitudes de ejemplos de entrada, salida y local conditioning\n",
    "INPUT_LEN = calculate_receptive_field(N_BLOCKS, K_LAYERS)\n",
    "N_IN_CHANNELS = N_LEVELS\n",
    "LC_LEN = 1\n",
    "N_LC_CHANNELS = N_NOTES\n",
    "\n",
    "# Dimensionalidad de input/output/local conditioning\n",
    "INP_SHAPE = (INPUT_LEN, N_IN_CHANNELS)\n",
    "OUT_SHAPE = INP_SHAPE\n",
    "LC_SHAPE = (LC_LEN, N_LC_CHANNELS)"
   ]
  },
  {
   "cell_type": "code",
   "execution_count": 30,
   "id": "03092472",
   "metadata": {
    "colab": {
     "base_uri": "https://localhost:8080/"
    },
    "id": "03092472",
    "outputId": "8e30ac14-a6d9-427e-9c81-743e269fea25",
    "scrolled": true
   },
   "outputs": [
    {
     "name": "stdout",
     "output_type": "stream",
     "text": [
      "Model: \"model_2\"\n",
      "__________________________________________________________________________________________________\n",
      " Layer (type)                   Output Shape         Param #     Connected to                     \n",
      "==================================================================================================\n",
      " lc (InputLayer)                [(None, 1, 88)]      0           []                               \n",
      "                                                                                                  \n",
      " conv1d_236 (Conv1D)            (None, 1, 128)       22656       ['lc[0][0]']                     \n",
      "                                                                                                  \n",
      " activation_228 (Activation)    (None, 1, 128)       0           ['conv1d_236[0][0]']             \n",
      "                                                                                                  \n",
      " activation_229 (Activation)    (None, 1, 128)       0           ['conv1d_236[0][0]']             \n",
      "                                                                                                  \n",
      " multiply_114 (Multiply)        (None, 1, 128)       0           ['activation_228[0][0]',         \n",
      "                                                                  'activation_229[0][0]']         \n",
      "                                                                                                  \n",
      " conv1d_238 (Conv1D)            (None, 1, 1)         129         ['multiply_114[0][0]']           \n",
      "                                                                                                  \n",
      " add_206 (Add)                  (None, 1, 128)       0           ['conv1d_236[0][0]',             \n",
      "                                                                  'conv1d_238[0][0]']             \n",
      "                                                                                                  \n",
      " activation_230 (Activation)    (None, 1, 128)       0           ['add_206[0][0]']                \n",
      "                                                                                                  \n",
      " activation_231 (Activation)    (None, 1, 128)       0           ['add_206[0][0]']                \n",
      "                                                                                                  \n",
      " multiply_115 (Multiply)        (None, 1, 128)       0           ['activation_230[0][0]',         \n",
      "                                                                  'activation_231[0][0]']         \n",
      "                                                                                                  \n",
      " conv1d_240 (Conv1D)            (None, 1, 1)         129         ['multiply_115[0][0]']           \n",
      "                                                                                                  \n",
      " add_207 (Add)                  (None, 1, 128)       0           ['add_206[0][0]',                \n",
      "                                                                  'conv1d_240[0][0]']             \n",
      "                                                                                                  \n",
      " activation_232 (Activation)    (None, 1, 128)       0           ['add_207[0][0]']                \n",
      "                                                                                                  \n",
      " activation_233 (Activation)    (None, 1, 128)       0           ['add_207[0][0]']                \n",
      "                                                                                                  \n",
      " multiply_116 (Multiply)        (None, 1, 128)       0           ['activation_232[0][0]',         \n",
      "                                                                  'activation_233[0][0]']         \n",
      "                                                                                                  \n",
      " conv1d_242 (Conv1D)            (None, 1, 1)         129         ['multiply_116[0][0]']           \n",
      "                                                                                                  \n",
      " add_208 (Add)                  (None, 1, 128)       0           ['add_207[0][0]',                \n",
      "                                                                  'conv1d_242[0][0]']             \n",
      "                                                                                                  \n",
      " activation_234 (Activation)    (None, 1, 128)       0           ['add_208[0][0]']                \n",
      "                                                                                                  \n",
      " activation_235 (Activation)    (None, 1, 128)       0           ['add_208[0][0]']                \n",
      "                                                                                                  \n",
      " multiply_117 (Multiply)        (None, 1, 128)       0           ['activation_234[0][0]',         \n",
      "                                                                  'activation_235[0][0]']         \n",
      "                                                                                                  \n",
      " conv1d_244 (Conv1D)            (None, 1, 1)         129         ['multiply_117[0][0]']           \n",
      "                                                                                                  \n",
      " add_209 (Add)                  (None, 1, 128)       0           ['add_208[0][0]',                \n",
      "                                                                  'conv1d_244[0][0]']             \n",
      "                                                                                                  \n",
      " activation_236 (Activation)    (None, 1, 128)       0           ['add_209[0][0]']                \n",
      "                                                                                                  \n",
      " activation_237 (Activation)    (None, 1, 128)       0           ['add_209[0][0]']                \n",
      "                                                                                                  \n",
      " multiply_118 (Multiply)        (None, 1, 128)       0           ['activation_236[0][0]',         \n",
      "                                                                  'activation_237[0][0]']         \n",
      "                                                                                                  \n",
      " conv1d_246 (Conv1D)            (None, 1, 1)         129         ['multiply_118[0][0]']           \n",
      "                                                                                                  \n",
      " add_210 (Add)                  (None, 1, 128)       0           ['add_209[0][0]',                \n",
      "                                                                  'conv1d_246[0][0]']             \n",
      "                                                                                                  \n",
      " activation_238 (Activation)    (None, 1, 128)       0           ['add_210[0][0]']                \n",
      "                                                                                                  \n",
      " activation_239 (Activation)    (None, 1, 128)       0           ['add_210[0][0]']                \n",
      "                                                                                                  \n",
      " multiply_119 (Multiply)        (None, 1, 128)       0           ['activation_238[0][0]',         \n",
      "                                                                  'activation_239[0][0]']         \n",
      "                                                                                                  \n",
      " conv1d_248 (Conv1D)            (None, 1, 1)         129         ['multiply_119[0][0]']           \n",
      "                                                                                                  \n",
      " add_211 (Add)                  (None, 1, 128)       0           ['add_210[0][0]',                \n",
      "                                                                  'conv1d_248[0][0]']             \n",
      "                                                                                                  \n",
      " activation_240 (Activation)    (None, 1, 128)       0           ['add_211[0][0]']                \n",
      "                                                                                                  \n",
      " activation_241 (Activation)    (None, 1, 128)       0           ['add_211[0][0]']                \n",
      "                                                                                                  \n"
     ]
    },
    {
     "name": "stdout",
     "output_type": "stream",
     "text": [
      " multiply_120 (Multiply)        (None, 1, 128)       0           ['activation_240[0][0]',         \n",
      "                                                                  'activation_241[0][0]']         \n",
      "                                                                                                  \n",
      " conv1d_250 (Conv1D)            (None, 1, 1)         129         ['multiply_120[0][0]']           \n",
      "                                                                                                  \n",
      " add_212 (Add)                  (None, 1, 128)       0           ['add_211[0][0]',                \n",
      "                                                                  'conv1d_250[0][0]']             \n",
      "                                                                                                  \n",
      " activation_242 (Activation)    (None, 1, 128)       0           ['add_212[0][0]']                \n",
      "                                                                                                  \n",
      " activation_243 (Activation)    (None, 1, 128)       0           ['add_212[0][0]']                \n",
      "                                                                                                  \n",
      " multiply_121 (Multiply)        (None, 1, 128)       0           ['activation_242[0][0]',         \n",
      "                                                                  'activation_243[0][0]']         \n",
      "                                                                                                  \n",
      " conv1d_252 (Conv1D)            (None, 1, 1)         129         ['multiply_121[0][0]']           \n",
      "                                                                                                  \n",
      " add_213 (Add)                  (None, 1, 128)       0           ['add_212[0][0]',                \n",
      "                                                                  'conv1d_252[0][0]']             \n",
      "                                                                                                  \n",
      " activation_244 (Activation)    (None, 1, 128)       0           ['add_213[0][0]']                \n",
      "                                                                                                  \n",
      " activation_245 (Activation)    (None, 1, 128)       0           ['add_213[0][0]']                \n",
      "                                                                                                  \n",
      " multiply_122 (Multiply)        (None, 1, 128)       0           ['activation_244[0][0]',         \n",
      "                                                                  'activation_245[0][0]']         \n",
      "                                                                                                  \n",
      " conv1d_254 (Conv1D)            (None, 1, 1)         129         ['multiply_122[0][0]']           \n",
      "                                                                                                  \n",
      " add_214 (Add)                  (None, 1, 128)       0           ['add_213[0][0]',                \n",
      "                                                                  'conv1d_254[0][0]']             \n",
      "                                                                                                  \n",
      " activation_246 (Activation)    (None, 1, 128)       0           ['add_214[0][0]']                \n",
      "                                                                                                  \n",
      " activation_247 (Activation)    (None, 1, 128)       0           ['add_214[0][0]']                \n",
      "                                                                                                  \n",
      " multiply_123 (Multiply)        (None, 1, 128)       0           ['activation_246[0][0]',         \n",
      "                                                                  'activation_247[0][0]']         \n",
      "                                                                                                  \n",
      " conv1d_256 (Conv1D)            (None, 1, 1)         129         ['multiply_123[0][0]']           \n",
      "                                                                                                  \n",
      " add_215 (Add)                  (None, 1, 128)       0           ['add_214[0][0]',                \n",
      "                                                                  'conv1d_256[0][0]']             \n",
      "                                                                                                  \n",
      " activation_248 (Activation)    (None, 1, 128)       0           ['add_215[0][0]']                \n",
      "                                                                                                  \n",
      " activation_249 (Activation)    (None, 1, 128)       0           ['add_215[0][0]']                \n",
      "                                                                                                  \n",
      " multiply_124 (Multiply)        (None, 1, 128)       0           ['activation_248[0][0]',         \n",
      "                                                                  'activation_249[0][0]']         \n",
      "                                                                                                  \n",
      " conv1d_258 (Conv1D)            (None, 1, 1)         129         ['multiply_124[0][0]']           \n",
      "                                                                                                  \n",
      " add_216 (Add)                  (None, 1, 128)       0           ['add_215[0][0]',                \n",
      "                                                                  'conv1d_258[0][0]']             \n",
      "                                                                                                  \n",
      " activation_250 (Activation)    (None, 1, 128)       0           ['add_216[0][0]']                \n",
      "                                                                                                  \n",
      " activation_251 (Activation)    (None, 1, 128)       0           ['add_216[0][0]']                \n",
      "                                                                                                  \n",
      " seq (InputLayer)               [(None, 3067, 128)]  0           []                               \n",
      "                                                                                                  \n",
      " multiply_125 (Multiply)        (None, 1, 128)       0           ['activation_250[0][0]',         \n",
      "                                                                  'activation_251[0][0]']         \n",
      "                                                                                                  \n",
      " conv1d_261 (Conv1D)            (None, 3067, 128)    32896       ['seq[0][0]']                    \n",
      "                                                                                                  \n",
      " conv1d_260 (Conv1D)            (None, 1, 1)         129         ['multiply_125[0][0]']           \n",
      "                                                                                                  \n",
      " conv1d_262 (Conv1D)            (None, 3067, 128)    32896       ['conv1d_261[0][0]']             \n",
      "                                                                                                  \n",
      " add_217 (Add)                  (None, 1, 128)       0           ['add_216[0][0]',                \n",
      "                                                                  'conv1d_260[0][0]']             \n",
      "                                                                                                  \n",
      " add_218 (Add)                  (None, 3067, 128)    0           ['conv1d_262[0][0]',             \n",
      "                                                                  'add_217[0][0]']                \n",
      "                                                                                                  \n",
      " activation_252 (Activation)    (None, 3067, 128)    0           ['add_218[0][0]']                \n",
      "                                                                                                  \n",
      " activation_253 (Activation)    (None, 3067, 128)    0           ['add_218[0][0]']                \n",
      "                                                                                                  \n",
      " multiply_126 (Multiply)        (None, 3067, 128)    0           ['activation_252[0][0]',         \n",
      "                                                                  'activation_253[0][0]']         \n"
     ]
    },
    {
     "name": "stdout",
     "output_type": "stream",
     "text": [
      "                                                                                                  \n",
      " conv1d_263 (Conv1D)            (None, 3067, 1)      129         ['multiply_126[0][0]']           \n",
      "                                                                                                  \n",
      " add_219 (Add)                  (None, 3067, 128)    0           ['conv1d_261[0][0]',             \n",
      "                                                                  'conv1d_263[0][0]']             \n",
      "                                                                                                  \n",
      " conv1d_264 (Conv1D)            (None, 3067, 128)    32896       ['add_219[0][0]']                \n",
      "                                                                                                  \n",
      " add_220 (Add)                  (None, 3067, 128)    0           ['conv1d_264[0][0]',             \n",
      "                                                                  'add_217[0][0]']                \n",
      "                                                                                                  \n",
      " activation_254 (Activation)    (None, 3067, 128)    0           ['add_220[0][0]']                \n",
      "                                                                                                  \n",
      " activation_255 (Activation)    (None, 3067, 128)    0           ['add_220[0][0]']                \n",
      "                                                                                                  \n",
      " multiply_127 (Multiply)        (None, 3067, 128)    0           ['activation_254[0][0]',         \n",
      "                                                                  'activation_255[0][0]']         \n",
      "                                                                                                  \n",
      " conv1d_265 (Conv1D)            (None, 3067, 1)      129         ['multiply_127[0][0]']           \n",
      "                                                                                                  \n",
      " add_221 (Add)                  (None, 3067, 128)    0           ['add_219[0][0]',                \n",
      "                                                                  'conv1d_265[0][0]']             \n",
      "                                                                                                  \n",
      " conv1d_266 (Conv1D)            (None, 3067, 128)    32896       ['add_221[0][0]']                \n",
      "                                                                                                  \n",
      " add_222 (Add)                  (None, 3067, 128)    0           ['conv1d_266[0][0]',             \n",
      "                                                                  'add_217[0][0]']                \n",
      "                                                                                                  \n",
      " activation_256 (Activation)    (None, 3067, 128)    0           ['add_222[0][0]']                \n",
      "                                                                                                  \n",
      " activation_257 (Activation)    (None, 3067, 128)    0           ['add_222[0][0]']                \n",
      "                                                                                                  \n",
      " multiply_128 (Multiply)        (None, 3067, 128)    0           ['activation_256[0][0]',         \n",
      "                                                                  'activation_257[0][0]']         \n",
      "                                                                                                  \n",
      " conv1d_267 (Conv1D)            (None, 3067, 1)      129         ['multiply_128[0][0]']           \n",
      "                                                                                                  \n",
      " add_223 (Add)                  (None, 3067, 128)    0           ['add_221[0][0]',                \n",
      "                                                                  'conv1d_267[0][0]']             \n",
      "                                                                                                  \n",
      " conv1d_268 (Conv1D)            (None, 3067, 128)    32896       ['add_223[0][0]']                \n",
      "                                                                                                  \n",
      " add_224 (Add)                  (None, 3067, 128)    0           ['conv1d_268[0][0]',             \n",
      "                                                                  'add_217[0][0]']                \n",
      "                                                                                                  \n",
      " activation_258 (Activation)    (None, 3067, 128)    0           ['add_224[0][0]']                \n",
      "                                                                                                  \n",
      " activation_259 (Activation)    (None, 3067, 128)    0           ['add_224[0][0]']                \n",
      "                                                                                                  \n",
      " multiply_129 (Multiply)        (None, 3067, 128)    0           ['activation_258[0][0]',         \n",
      "                                                                  'activation_259[0][0]']         \n",
      "                                                                                                  \n",
      " conv1d_269 (Conv1D)            (None, 3067, 1)      129         ['multiply_129[0][0]']           \n",
      "                                                                                                  \n",
      " add_225 (Add)                  (None, 3067, 128)    0           ['add_223[0][0]',                \n",
      "                                                                  'conv1d_269[0][0]']             \n",
      "                                                                                                  \n",
      " conv1d_270 (Conv1D)            (None, 3067, 128)    32896       ['add_225[0][0]']                \n",
      "                                                                                                  \n",
      " add_226 (Add)                  (None, 3067, 128)    0           ['conv1d_270[0][0]',             \n",
      "                                                                  'add_217[0][0]']                \n",
      "                                                                                                  \n",
      " activation_260 (Activation)    (None, 3067, 128)    0           ['add_226[0][0]']                \n",
      "                                                                                                  \n",
      " activation_261 (Activation)    (None, 3067, 128)    0           ['add_226[0][0]']                \n",
      "                                                                                                  \n",
      " multiply_130 (Multiply)        (None, 3067, 128)    0           ['activation_260[0][0]',         \n",
      "                                                                  'activation_261[0][0]']         \n",
      "                                                                                                  \n",
      " conv1d_271 (Conv1D)            (None, 3067, 1)      129         ['multiply_130[0][0]']           \n",
      "                                                                                                  \n",
      " add_227 (Add)                  (None, 3067, 128)    0           ['add_225[0][0]',                \n",
      "                                                                  'conv1d_271[0][0]']             \n",
      "                                                                                                  \n",
      " conv1d_272 (Conv1D)            (None, 3067, 128)    32896       ['add_227[0][0]']                \n",
      "                                                                                                  \n",
      " add_228 (Add)                  (None, 3067, 128)    0           ['conv1d_272[0][0]',             \n",
      "                                                                  'add_217[0][0]']                \n",
      "                                                                                                  \n",
      " activation_262 (Activation)    (None, 3067, 128)    0           ['add_228[0][0]']                \n",
      "                                                                                                  \n",
      " activation_263 (Activation)    (None, 3067, 128)    0           ['add_228[0][0]']                \n",
      "                                                                                                  \n"
     ]
    },
    {
     "name": "stdout",
     "output_type": "stream",
     "text": [
      " multiply_131 (Multiply)        (None, 3067, 128)    0           ['activation_262[0][0]',         \n",
      "                                                                  'activation_263[0][0]']         \n",
      "                                                                                                  \n",
      " conv1d_273 (Conv1D)            (None, 3067, 1)      129         ['multiply_131[0][0]']           \n",
      "                                                                                                  \n",
      " add_229 (Add)                  (None, 3067, 128)    0           ['add_227[0][0]',                \n",
      "                                                                  'conv1d_273[0][0]']             \n",
      "                                                                                                  \n",
      " conv1d_274 (Conv1D)            (None, 3067, 128)    32896       ['add_229[0][0]']                \n",
      "                                                                                                  \n",
      " add_230 (Add)                  (None, 3067, 128)    0           ['conv1d_274[0][0]',             \n",
      "                                                                  'add_217[0][0]']                \n",
      "                                                                                                  \n",
      " activation_264 (Activation)    (None, 3067, 128)    0           ['add_230[0][0]']                \n",
      "                                                                                                  \n",
      " activation_265 (Activation)    (None, 3067, 128)    0           ['add_230[0][0]']                \n",
      "                                                                                                  \n",
      " multiply_132 (Multiply)        (None, 3067, 128)    0           ['activation_264[0][0]',         \n",
      "                                                                  'activation_265[0][0]']         \n",
      "                                                                                                  \n",
      " conv1d_275 (Conv1D)            (None, 3067, 1)      129         ['multiply_132[0][0]']           \n",
      "                                                                                                  \n",
      " add_231 (Add)                  (None, 3067, 128)    0           ['add_229[0][0]',                \n",
      "                                                                  'conv1d_275[0][0]']             \n",
      "                                                                                                  \n",
      " conv1d_276 (Conv1D)            (None, 3067, 128)    32896       ['add_231[0][0]']                \n",
      "                                                                                                  \n",
      " add_232 (Add)                  (None, 3067, 128)    0           ['conv1d_276[0][0]',             \n",
      "                                                                  'add_217[0][0]']                \n",
      "                                                                                                  \n",
      " activation_266 (Activation)    (None, 3067, 128)    0           ['add_232[0][0]']                \n",
      "                                                                                                  \n",
      " activation_267 (Activation)    (None, 3067, 128)    0           ['add_232[0][0]']                \n",
      "                                                                                                  \n",
      " multiply_133 (Multiply)        (None, 3067, 128)    0           ['activation_266[0][0]',         \n",
      "                                                                  'activation_267[0][0]']         \n",
      "                                                                                                  \n",
      " conv1d_277 (Conv1D)            (None, 3067, 1)      129         ['multiply_133[0][0]']           \n",
      "                                                                                                  \n",
      " add_233 (Add)                  (None, 3067, 128)    0           ['add_231[0][0]',                \n",
      "                                                                  'conv1d_277[0][0]']             \n",
      "                                                                                                  \n",
      " conv1d_278 (Conv1D)            (None, 3067, 128)    32896       ['add_233[0][0]']                \n",
      "                                                                                                  \n",
      " add_234 (Add)                  (None, 3067, 128)    0           ['conv1d_278[0][0]',             \n",
      "                                                                  'add_217[0][0]']                \n",
      "                                                                                                  \n",
      " activation_268 (Activation)    (None, 3067, 128)    0           ['add_234[0][0]']                \n",
      "                                                                                                  \n",
      " activation_269 (Activation)    (None, 3067, 128)    0           ['add_234[0][0]']                \n",
      "                                                                                                  \n",
      " multiply_134 (Multiply)        (None, 3067, 128)    0           ['activation_268[0][0]',         \n",
      "                                                                  'activation_269[0][0]']         \n",
      "                                                                                                  \n",
      " conv1d_279 (Conv1D)            (None, 3067, 1)      129         ['multiply_134[0][0]']           \n",
      "                                                                                                  \n",
      " add_235 (Add)                  (None, 3067, 128)    0           ['add_233[0][0]',                \n",
      "                                                                  'conv1d_279[0][0]']             \n",
      "                                                                                                  \n",
      " conv1d_280 (Conv1D)            (None, 3067, 128)    32896       ['add_235[0][0]']                \n",
      "                                                                                                  \n",
      " add_236 (Add)                  (None, 3067, 128)    0           ['conv1d_280[0][0]',             \n",
      "                                                                  'add_217[0][0]']                \n",
      "                                                                                                  \n",
      " activation_270 (Activation)    (None, 3067, 128)    0           ['add_236[0][0]']                \n",
      "                                                                                                  \n",
      " activation_271 (Activation)    (None, 3067, 128)    0           ['add_236[0][0]']                \n",
      "                                                                                                  \n",
      " multiply_135 (Multiply)        (None, 3067, 128)    0           ['activation_270[0][0]',         \n",
      "                                                                  'activation_271[0][0]']         \n",
      "                                                                                                  \n",
      " conv1d_281 (Conv1D)            (None, 3067, 1)      129         ['multiply_135[0][0]']           \n",
      "                                                                                                  \n",
      " add_237 (Add)                  (None, 3067, 128)    0           ['add_235[0][0]',                \n",
      "                                                                  'conv1d_281[0][0]']             \n",
      "                                                                                                  \n",
      " conv1d_282 (Conv1D)            (None, 3067, 128)    32896       ['add_237[0][0]']                \n",
      "                                                                                                  \n",
      " add_238 (Add)                  (None, 3067, 128)    0           ['conv1d_282[0][0]',             \n",
      "                                                                  'add_217[0][0]']                \n",
      "                                                                                                  \n",
      " activation_272 (Activation)    (None, 3067, 128)    0           ['add_238[0][0]']                \n",
      "                                                                                                  \n"
     ]
    },
    {
     "name": "stdout",
     "output_type": "stream",
     "text": [
      " activation_273 (Activation)    (None, 3067, 128)    0           ['add_238[0][0]']                \n",
      "                                                                                                  \n",
      " multiply_136 (Multiply)        (None, 3067, 128)    0           ['activation_272[0][0]',         \n",
      "                                                                  'activation_273[0][0]']         \n",
      "                                                                                                  \n",
      " conv1d_283 (Conv1D)            (None, 3067, 1)      129         ['multiply_136[0][0]']           \n",
      "                                                                                                  \n",
      " add_239 (Add)                  (None, 3067, 128)    0           ['add_237[0][0]',                \n",
      "                                                                  'conv1d_283[0][0]']             \n",
      "                                                                                                  \n",
      " conv1d_284 (Conv1D)            (None, 3067, 128)    32896       ['add_239[0][0]']                \n",
      "                                                                                                  \n",
      " add_240 (Add)                  (None, 3067, 128)    0           ['conv1d_284[0][0]',             \n",
      "                                                                  'add_217[0][0]']                \n",
      "                                                                                                  \n",
      " activation_274 (Activation)    (None, 3067, 128)    0           ['add_240[0][0]']                \n",
      "                                                                                                  \n",
      " activation_275 (Activation)    (None, 3067, 128)    0           ['add_240[0][0]']                \n",
      "                                                                                                  \n",
      " multiply_137 (Multiply)        (None, 3067, 128)    0           ['activation_274[0][0]',         \n",
      "                                                                  'activation_275[0][0]']         \n",
      "                                                                                                  \n",
      " conv1d_285 (Conv1D)            (None, 3067, 1)      129         ['multiply_137[0][0]']           \n",
      "                                                                                                  \n",
      " add_241 (Add)                  (None, 3067, 128)    0           ['add_239[0][0]',                \n",
      "                                                                  'conv1d_285[0][0]']             \n",
      "                                                                                                  \n",
      " conv1d_286 (Conv1D)            (None, 3067, 128)    32896       ['add_241[0][0]']                \n",
      "                                                                                                  \n",
      " add_242 (Add)                  (None, 3067, 128)    0           ['conv1d_286[0][0]',             \n",
      "                                                                  'add_217[0][0]']                \n",
      "                                                                                                  \n",
      " activation_276 (Activation)    (None, 3067, 128)    0           ['add_242[0][0]']                \n",
      "                                                                                                  \n",
      " activation_277 (Activation)    (None, 3067, 128)    0           ['add_242[0][0]']                \n",
      "                                                                                                  \n",
      " multiply_138 (Multiply)        (None, 3067, 128)    0           ['activation_276[0][0]',         \n",
      "                                                                  'activation_277[0][0]']         \n",
      "                                                                                                  \n",
      " conv1d_287 (Conv1D)            (None, 3067, 1)      129         ['multiply_138[0][0]']           \n",
      "                                                                                                  \n",
      " add_243 (Add)                  (None, 3067, 128)    0           ['add_241[0][0]',                \n",
      "                                                                  'conv1d_287[0][0]']             \n",
      "                                                                                                  \n",
      " conv1d_288 (Conv1D)            (None, 3067, 128)    32896       ['add_243[0][0]']                \n",
      "                                                                                                  \n",
      " add_244 (Add)                  (None, 3067, 128)    0           ['conv1d_288[0][0]',             \n",
      "                                                                  'add_217[0][0]']                \n",
      "                                                                                                  \n",
      " activation_278 (Activation)    (None, 3067, 128)    0           ['add_244[0][0]']                \n",
      "                                                                                                  \n",
      " activation_279 (Activation)    (None, 3067, 128)    0           ['add_244[0][0]']                \n",
      "                                                                                                  \n",
      " multiply_139 (Multiply)        (None, 3067, 128)    0           ['activation_278[0][0]',         \n",
      "                                                                  'activation_279[0][0]']         \n",
      "                                                                                                  \n",
      " conv1d_289 (Conv1D)            (None, 3067, 1)      129         ['multiply_139[0][0]']           \n",
      "                                                                                                  \n",
      " add_245 (Add)                  (None, 3067, 128)    0           ['add_243[0][0]',                \n",
      "                                                                  'conv1d_289[0][0]']             \n",
      "                                                                                                  \n",
      " conv1d_290 (Conv1D)            (None, 3067, 128)    32896       ['add_245[0][0]']                \n",
      "                                                                                                  \n",
      " add_246 (Add)                  (None, 3067, 128)    0           ['conv1d_290[0][0]',             \n",
      "                                                                  'add_217[0][0]']                \n",
      "                                                                                                  \n",
      " activation_280 (Activation)    (None, 3067, 128)    0           ['add_246[0][0]']                \n",
      "                                                                                                  \n",
      " activation_281 (Activation)    (None, 3067, 128)    0           ['add_246[0][0]']                \n",
      "                                                                                                  \n",
      " multiply_140 (Multiply)        (None, 3067, 128)    0           ['activation_280[0][0]',         \n",
      "                                                                  'activation_281[0][0]']         \n",
      "                                                                                                  \n",
      " conv1d_291 (Conv1D)            (None, 3067, 1)      129         ['multiply_140[0][0]']           \n",
      "                                                                                                  \n",
      " add_247 (Add)                  (None, 3067, 128)    0           ['add_245[0][0]',                \n",
      "                                                                  'conv1d_291[0][0]']             \n",
      "                                                                                                  \n",
      " conv1d_292 (Conv1D)            (None, 3067, 128)    32896       ['add_247[0][0]']                \n",
      "                                                                                                  \n",
      " add_248 (Add)                  (None, 3067, 128)    0           ['conv1d_292[0][0]',             \n",
      "                                                                  'add_217[0][0]']                \n",
      "                                                                                                  \n"
     ]
    },
    {
     "name": "stdout",
     "output_type": "stream",
     "text": [
      " activation_282 (Activation)    (None, 3067, 128)    0           ['add_248[0][0]']                \n",
      "                                                                                                  \n",
      " activation_283 (Activation)    (None, 3067, 128)    0           ['add_248[0][0]']                \n",
      "                                                                                                  \n",
      " multiply_141 (Multiply)        (None, 3067, 128)    0           ['activation_282[0][0]',         \n",
      "                                                                  'activation_283[0][0]']         \n",
      "                                                                                                  \n",
      " conv1d_293 (Conv1D)            (None, 3067, 1)      129         ['multiply_141[0][0]']           \n",
      "                                                                                                  \n",
      " add_249 (Add)                  (None, 3067, 128)    0           ['add_247[0][0]',                \n",
      "                                                                  'conv1d_293[0][0]']             \n",
      "                                                                                                  \n",
      " conv1d_294 (Conv1D)            (None, 3067, 128)    32896       ['add_249[0][0]']                \n",
      "                                                                                                  \n",
      " add_250 (Add)                  (None, 3067, 128)    0           ['conv1d_294[0][0]',             \n",
      "                                                                  'add_217[0][0]']                \n",
      "                                                                                                  \n",
      " activation_284 (Activation)    (None, 3067, 128)    0           ['add_250[0][0]']                \n",
      "                                                                                                  \n",
      " activation_285 (Activation)    (None, 3067, 128)    0           ['add_250[0][0]']                \n",
      "                                                                                                  \n",
      " multiply_142 (Multiply)        (None, 3067, 128)    0           ['activation_284[0][0]',         \n",
      "                                                                  'activation_285[0][0]']         \n",
      "                                                                                                  \n",
      " conv1d_295 (Conv1D)            (None, 3067, 1)      129         ['multiply_142[0][0]']           \n",
      "                                                                                                  \n",
      " add_251 (Add)                  (None, 3067, 128)    0           ['add_249[0][0]',                \n",
      "                                                                  'conv1d_295[0][0]']             \n",
      "                                                                                                  \n",
      " conv1d_296 (Conv1D)            (None, 3067, 128)    32896       ['add_251[0][0]']                \n",
      "                                                                                                  \n",
      " add_252 (Add)                  (None, 3067, 128)    0           ['conv1d_296[0][0]',             \n",
      "                                                                  'add_217[0][0]']                \n",
      "                                                                                                  \n",
      " activation_286 (Activation)    (None, 3067, 128)    0           ['add_252[0][0]']                \n",
      "                                                                                                  \n",
      " activation_287 (Activation)    (None, 3067, 128)    0           ['add_252[0][0]']                \n",
      "                                                                                                  \n",
      " multiply_143 (Multiply)        (None, 3067, 128)    0           ['activation_286[0][0]',         \n",
      "                                                                  'activation_287[0][0]']         \n",
      "                                                                                                  \n",
      " conv1d_297 (Conv1D)            (None, 3067, 1)      129         ['multiply_143[0][0]']           \n",
      "                                                                                                  \n",
      " add_253 (Add)                  (None, 3067, 128)    0           ['add_251[0][0]',                \n",
      "                                                                  'conv1d_297[0][0]']             \n",
      "                                                                                                  \n",
      " conv1d_298 (Conv1D)            (None, 3067, 128)    32896       ['add_253[0][0]']                \n",
      "                                                                                                  \n",
      " add_254 (Add)                  (None, 3067, 128)    0           ['conv1d_298[0][0]',             \n",
      "                                                                  'add_217[0][0]']                \n",
      "                                                                                                  \n",
      " activation_288 (Activation)    (None, 3067, 128)    0           ['add_254[0][0]']                \n",
      "                                                                                                  \n",
      " activation_289 (Activation)    (None, 3067, 128)    0           ['add_254[0][0]']                \n",
      "                                                                                                  \n",
      " multiply_144 (Multiply)        (None, 3067, 128)    0           ['activation_288[0][0]',         \n",
      "                                                                  'activation_289[0][0]']         \n",
      "                                                                                                  \n",
      " conv1d_299 (Conv1D)            (None, 3067, 1)      129         ['multiply_144[0][0]']           \n",
      "                                                                                                  \n",
      " add_255 (Add)                  (None, 3067, 128)    0           ['add_253[0][0]',                \n",
      "                                                                  'conv1d_299[0][0]']             \n",
      "                                                                                                  \n",
      " conv1d_300 (Conv1D)            (None, 3067, 128)    32896       ['add_255[0][0]']                \n",
      "                                                                                                  \n",
      " add_256 (Add)                  (None, 3067, 128)    0           ['conv1d_300[0][0]',             \n",
      "                                                                  'add_217[0][0]']                \n",
      "                                                                                                  \n",
      " activation_290 (Activation)    (None, 3067, 128)    0           ['add_256[0][0]']                \n",
      "                                                                                                  \n",
      " activation_291 (Activation)    (None, 3067, 128)    0           ['add_256[0][0]']                \n",
      "                                                                                                  \n",
      " multiply_145 (Multiply)        (None, 3067, 128)    0           ['activation_290[0][0]',         \n",
      "                                                                  'activation_291[0][0]']         \n",
      "                                                                                                  \n",
      " conv1d_301 (Conv1D)            (None, 3067, 1)      129         ['multiply_145[0][0]']           \n",
      "                                                                                                  \n",
      " add_257 (Add)                  (None, 3067, 128)    0           ['add_255[0][0]',                \n",
      "                                                                  'conv1d_301[0][0]']             \n",
      "                                                                                                  \n",
      " conv1d_302 (Conv1D)            (None, 3067, 128)    32896       ['add_257[0][0]']                \n",
      "                                                                                                  \n",
      " add_258 (Add)                  (None, 3067, 128)    0           ['conv1d_302[0][0]',             \n"
     ]
    },
    {
     "name": "stdout",
     "output_type": "stream",
     "text": [
      "                                                                  'add_217[0][0]']                \n",
      "                                                                                                  \n",
      " activation_292 (Activation)    (None, 3067, 128)    0           ['add_258[0][0]']                \n",
      "                                                                                                  \n",
      " activation_293 (Activation)    (None, 3067, 128)    0           ['add_258[0][0]']                \n",
      "                                                                                                  \n",
      " multiply_146 (Multiply)        (None, 3067, 128)    0           ['activation_292[0][0]',         \n",
      "                                                                  'activation_293[0][0]']         \n",
      "                                                                                                  \n",
      " conv1d_303 (Conv1D)            (None, 3067, 1)      129         ['multiply_146[0][0]']           \n",
      "                                                                                                  \n",
      " add_259 (Add)                  (None, 3067, 128)    0           ['add_257[0][0]',                \n",
      "                                                                  'conv1d_303[0][0]']             \n",
      "                                                                                                  \n",
      " conv1d_304 (Conv1D)            (None, 3067, 128)    32896       ['add_259[0][0]']                \n",
      "                                                                                                  \n",
      " add_260 (Add)                  (None, 3067, 128)    0           ['conv1d_304[0][0]',             \n",
      "                                                                  'add_217[0][0]']                \n",
      "                                                                                                  \n",
      " activation_294 (Activation)    (None, 3067, 128)    0           ['add_260[0][0]']                \n",
      "                                                                                                  \n",
      " activation_295 (Activation)    (None, 3067, 128)    0           ['add_260[0][0]']                \n",
      "                                                                                                  \n",
      " multiply_147 (Multiply)        (None, 3067, 128)    0           ['activation_294[0][0]',         \n",
      "                                                                  'activation_295[0][0]']         \n",
      "                                                                                                  \n",
      " conv1d_305 (Conv1D)            (None, 3067, 1)      129         ['multiply_147[0][0]']           \n",
      "                                                                                                  \n",
      " add_261 (Add)                  (None, 3067, 128)    0           ['add_259[0][0]',                \n",
      "                                                                  'conv1d_305[0][0]']             \n",
      "                                                                                                  \n",
      " conv1d_306 (Conv1D)            (None, 3067, 128)    32896       ['add_261[0][0]']                \n",
      "                                                                                                  \n",
      " add_262 (Add)                  (None, 3067, 128)    0           ['conv1d_306[0][0]',             \n",
      "                                                                  'add_217[0][0]']                \n",
      "                                                                                                  \n",
      " activation_296 (Activation)    (None, 3067, 128)    0           ['add_262[0][0]']                \n",
      "                                                                                                  \n",
      " activation_297 (Activation)    (None, 3067, 128)    0           ['add_262[0][0]']                \n",
      "                                                                                                  \n",
      " multiply_148 (Multiply)        (None, 3067, 128)    0           ['activation_296[0][0]',         \n",
      "                                                                  'activation_297[0][0]']         \n",
      "                                                                                                  \n",
      " conv1d_307 (Conv1D)            (None, 3067, 1)      129         ['multiply_148[0][0]']           \n",
      "                                                                                                  \n",
      " add_263 (Add)                  (None, 3067, 128)    0           ['add_261[0][0]',                \n",
      "                                                                  'conv1d_307[0][0]']             \n",
      "                                                                                                  \n",
      " conv1d_308 (Conv1D)            (None, 3067, 128)    32896       ['add_263[0][0]']                \n",
      "                                                                                                  \n",
      " add_264 (Add)                  (None, 3067, 128)    0           ['conv1d_308[0][0]',             \n",
      "                                                                  'add_217[0][0]']                \n",
      "                                                                                                  \n",
      " activation_298 (Activation)    (None, 3067, 128)    0           ['add_264[0][0]']                \n",
      "                                                                                                  \n",
      " activation_299 (Activation)    (None, 3067, 128)    0           ['add_264[0][0]']                \n",
      "                                                                                                  \n",
      " multiply_149 (Multiply)        (None, 3067, 128)    0           ['activation_298[0][0]',         \n",
      "                                                                  'activation_299[0][0]']         \n",
      "                                                                                                  \n",
      " conv1d_309 (Conv1D)            (None, 3067, 1)      129         ['multiply_149[0][0]']           \n",
      "                                                                                                  \n",
      " add_265 (Add)                  (None, 3067, 128)    0           ['add_263[0][0]',                \n",
      "                                                                  'conv1d_309[0][0]']             \n",
      "                                                                                                  \n",
      " conv1d_310 (Conv1D)            (None, 3067, 128)    32896       ['add_265[0][0]']                \n",
      "                                                                                                  \n",
      " add_266 (Add)                  (None, 3067, 128)    0           ['conv1d_310[0][0]',             \n",
      "                                                                  'add_217[0][0]']                \n",
      "                                                                                                  \n",
      " activation_300 (Activation)    (None, 3067, 128)    0           ['add_266[0][0]']                \n",
      "                                                                                                  \n",
      " activation_301 (Activation)    (None, 3067, 128)    0           ['add_266[0][0]']                \n",
      "                                                                                                  \n",
      " multiply_150 (Multiply)        (None, 3067, 128)    0           ['activation_300[0][0]',         \n",
      "                                                                  'activation_301[0][0]']         \n",
      "                                                                                                  \n",
      " conv1d_311 (Conv1D)            (None, 3067, 1)      129         ['multiply_150[0][0]']           \n",
      "                                                                                                  \n",
      " add_267 (Add)                  (None, 3067, 128)    0           ['add_265[0][0]',                \n",
      "                                                                  'conv1d_311[0][0]']             \n",
      "                                                                                                  \n",
      " conv1d_312 (Conv1D)            (None, 3067, 128)    32896       ['add_267[0][0]']                \n"
     ]
    },
    {
     "name": "stdout",
     "output_type": "stream",
     "text": [
      "                                                                                                  \n",
      " add_268 (Add)                  (None, 3067, 128)    0           ['conv1d_312[0][0]',             \n",
      "                                                                  'add_217[0][0]']                \n",
      "                                                                                                  \n",
      " activation_302 (Activation)    (None, 3067, 128)    0           ['add_268[0][0]']                \n",
      "                                                                                                  \n",
      " activation_303 (Activation)    (None, 3067, 128)    0           ['add_268[0][0]']                \n",
      "                                                                                                  \n",
      " multiply_151 (Multiply)        (None, 3067, 128)    0           ['activation_302[0][0]',         \n",
      "                                                                  'activation_303[0][0]']         \n",
      "                                                                                                  \n",
      " conv1d_313 (Conv1D)            (None, 3067, 1)      129         ['multiply_151[0][0]']           \n",
      "                                                                                                  \n",
      " add_269 (Add)                  (None, 3067, 128)    0           ['add_267[0][0]',                \n",
      "                                                                  'conv1d_313[0][0]']             \n",
      "                                                                                                  \n",
      " conv1d_314 (Conv1D)            (None, 3067, 128)    32896       ['add_269[0][0]']                \n",
      "                                                                                                  \n",
      " add_270 (Add)                  (None, 3067, 128)    0           ['conv1d_314[0][0]',             \n",
      "                                                                  'add_217[0][0]']                \n",
      "                                                                                                  \n",
      " activation_304 (Activation)    (None, 3067, 128)    0           ['add_270[0][0]']                \n",
      "                                                                                                  \n",
      " activation_305 (Activation)    (None, 3067, 128)    0           ['add_270[0][0]']                \n",
      "                                                                                                  \n",
      " multiply_152 (Multiply)        (None, 3067, 128)    0           ['activation_304[0][0]',         \n",
      "                                                                  'activation_305[0][0]']         \n",
      "                                                                                                  \n",
      " conv1d_315 (Conv1D)            (None, 3067, 1)      129         ['multiply_152[0][0]']           \n",
      "                                                                                                  \n",
      " add_271 (Add)                  (None, 3067, 128)    0           ['add_269[0][0]',                \n",
      "                                                                  'conv1d_315[0][0]']             \n",
      "                                                                                                  \n",
      " conv1d_316 (Conv1D)            (None, 3067, 128)    32896       ['add_271[0][0]']                \n",
      "                                                                                                  \n",
      " add_272 (Add)                  (None, 3067, 128)    0           ['conv1d_316[0][0]',             \n",
      "                                                                  'add_217[0][0]']                \n",
      "                                                                                                  \n",
      " activation_306 (Activation)    (None, 3067, 128)    0           ['add_272[0][0]']                \n",
      "                                                                                                  \n",
      " activation_307 (Activation)    (None, 3067, 128)    0           ['add_272[0][0]']                \n",
      "                                                                                                  \n",
      " multiply_153 (Multiply)        (None, 3067, 128)    0           ['activation_306[0][0]',         \n",
      "                                                                  'activation_307[0][0]']         \n",
      "                                                                                                  \n",
      " conv1d_317 (Conv1D)            (None, 3067, 1)      129         ['multiply_153[0][0]']           \n",
      "                                                                                                  \n",
      " add_273 (Add)                  (None, 3067, 128)    0           ['add_271[0][0]',                \n",
      "                                                                  'conv1d_317[0][0]']             \n",
      "                                                                                                  \n",
      " conv1d_318 (Conv1D)            (None, 3067, 128)    32896       ['add_273[0][0]']                \n",
      "                                                                                                  \n",
      " add_274 (Add)                  (None, 3067, 128)    0           ['conv1d_318[0][0]',             \n",
      "                                                                  'add_217[0][0]']                \n",
      "                                                                                                  \n",
      " activation_308 (Activation)    (None, 3067, 128)    0           ['add_274[0][0]']                \n",
      "                                                                                                  \n",
      " activation_309 (Activation)    (None, 3067, 128)    0           ['add_274[0][0]']                \n",
      "                                                                                                  \n",
      " multiply_154 (Multiply)        (None, 3067, 128)    0           ['activation_308[0][0]',         \n",
      "                                                                  'activation_309[0][0]']         \n",
      "                                                                                                  \n",
      " conv1d_319 (Conv1D)            (None, 3067, 1)      129         ['multiply_154[0][0]']           \n",
      "                                                                                                  \n",
      " add_275 (Add)                  (None, 3067, 128)    0           ['add_273[0][0]',                \n",
      "                                                                  'conv1d_319[0][0]']             \n",
      "                                                                                                  \n",
      " conv1d_320 (Conv1D)            (None, 3067, 128)    32896       ['add_275[0][0]']                \n",
      "                                                                                                  \n",
      " add_276 (Add)                  (None, 3067, 128)    0           ['conv1d_320[0][0]',             \n",
      "                                                                  'add_217[0][0]']                \n",
      "                                                                                                  \n",
      " activation_310 (Activation)    (None, 3067, 128)    0           ['add_276[0][0]']                \n",
      "                                                                                                  \n",
      " activation_311 (Activation)    (None, 3067, 128)    0           ['add_276[0][0]']                \n",
      "                                                                                                  \n",
      " multiply_155 (Multiply)        (None, 3067, 128)    0           ['activation_310[0][0]',         \n",
      "                                                                  'activation_311[0][0]']         \n",
      "                                                                                                  \n",
      " conv1d_321 (Conv1D)            (None, 3067, 1)      129         ['multiply_155[0][0]']           \n",
      "                                                                                                  \n",
      " add_278 (Add)                  (None, 3067, 1)      0           ['conv1d_263[0][0]',             \n",
      "                                                                  'conv1d_265[0][0]',             \n"
     ]
    },
    {
     "name": "stdout",
     "output_type": "stream",
     "text": [
      "                                                                  'conv1d_267[0][0]',             \n",
      "                                                                  'conv1d_269[0][0]',             \n",
      "                                                                  'conv1d_271[0][0]',             \n",
      "                                                                  'conv1d_273[0][0]',             \n",
      "                                                                  'conv1d_275[0][0]',             \n",
      "                                                                  'conv1d_277[0][0]',             \n",
      "                                                                  'conv1d_279[0][0]',             \n",
      "                                                                  'conv1d_281[0][0]',             \n",
      "                                                                  'conv1d_283[0][0]',             \n",
      "                                                                  'conv1d_285[0][0]',             \n",
      "                                                                  'conv1d_287[0][0]',             \n",
      "                                                                  'conv1d_289[0][0]',             \n",
      "                                                                  'conv1d_291[0][0]',             \n",
      "                                                                  'conv1d_293[0][0]',             \n",
      "                                                                  'conv1d_295[0][0]',             \n",
      "                                                                  'conv1d_297[0][0]',             \n",
      "                                                                  'conv1d_299[0][0]',             \n",
      "                                                                  'conv1d_301[0][0]',             \n",
      "                                                                  'conv1d_303[0][0]',             \n",
      "                                                                  'conv1d_305[0][0]',             \n",
      "                                                                  'conv1d_307[0][0]',             \n",
      "                                                                  'conv1d_309[0][0]',             \n",
      "                                                                  'conv1d_311[0][0]',             \n",
      "                                                                  'conv1d_313[0][0]',             \n",
      "                                                                  'conv1d_315[0][0]',             \n",
      "                                                                  'conv1d_317[0][0]',             \n",
      "                                                                  'conv1d_319[0][0]',             \n",
      "                                                                  'conv1d_321[0][0]']             \n",
      "                                                                                                  \n",
      " re_lu_4 (ReLU)                 (None, 3067, 1)      0           ['add_278[0][0]']                \n",
      "                                                                                                  \n",
      " conv1d_322 (Conv1D)            (None, 3067, 1)      2           ['re_lu_4[0][0]']                \n",
      "                                                                                                  \n",
      " re_lu_5 (ReLU)                 (None, 3067, 1)      0           ['conv1d_322[0][0]']             \n",
      "                                                                                                  \n",
      " conv1d_323 (Conv1D)            (None, 3067, 128)    256         ['re_lu_5[0][0]']                \n",
      "                                                                                                  \n",
      " softmax_2 (Softmax)            (None, 3067, 128)    0           ['conv1d_323[0][0]']             \n",
      "                                                                                                  \n",
      "==================================================================================================\n",
      "Total params: 1,048,108\n",
      "Trainable params: 1,048,108\n",
      "Non-trainable params: 0\n",
      "__________________________________________________________________________________________________\n"
     ]
    }
   ],
   "source": [
    "'''\n",
    "    Método que devuelve el modelo de una WaveNet implementada en tensorflow. Dicha red se construye \n",
    "    de acuerdo a los parámetros de entrada.\n",
    "'''\n",
    "def get_wavenet(inp_shape=INP_SHAPE, out_shape=OUT_SHAPE, lc_shape=LC_SHAPE, n_filters=N_FILTERS,\n",
    "                filter_width=FILTER_WIDTH, k_layers=K_LAYERS, n_blocks=N_BLOCKS, \n",
    "                context_layers=CONTEXT_LAYERS, context_blocks=CONTEXT_BLOCKS):\n",
    "    \n",
    "    # Skip connections\n",
    "    skips = []\n",
    "    \n",
    "    # Dilation rates\n",
    "    dilations_per_block = [2 ** i for i in range(k_layers)] * n_blocks\n",
    "    dilations_per_ctx_block = [2 ** i for i in range(context_layers)] * context_blocks\n",
    "    \n",
    "    # Local Conditioning\n",
    "    Input_lc = tf.keras.layers.Input(shape=lc_shape, dtype='float32', name='lc')\n",
    "    lc = tf.keras.layers.Conv1D(n_filters, filter_width, padding='causal')(Input_lc)\n",
    "    \n",
    "    # Context stack\n",
    "    for dilation_rate in dilations_per_ctx_block:\n",
    "        \n",
    "        # Convolución y gated activation\n",
    "        lc_conv = tf.keras.layers.Conv1D(n_filters, filter_width, padding='causal',\n",
    "                                        dilation_rate=dilation_rate)(lc)\n",
    "        gated_act = tf.keras.layers.Multiply()([tf.keras.layers.Activation('tanh')(lc),\n",
    "                                        tf.keras.layers.Activation('sigmoid')(lc)])\n",
    "        gated_act = tf.keras.layers.Conv1D(1, 1, padding='same')(gated_act)\n",
    "        \n",
    "        # Residual connection\n",
    "        lc = tf.keras.layers.Add()([lc, gated_act])\n",
    "    \n",
    "    # Input\n",
    "    Input_seq = tf.keras.layers.Input(shape=inp_shape, dtype='float32', name='seq')\n",
    "    seq = tf.keras.layers.Conv1D(n_filters, filter_width, padding='causal')(Input_seq) \n",
    "\n",
    "    for dilation_rate in dilations_per_block:\n",
    "\n",
    "        # Sumamos la información del local conditioning a la convolución de los valores de audio\n",
    "        seq_conv = tf.keras.layers.Conv1D(n_filters, filter_width, padding='causal',\n",
    "                                        dilation_rate=dilation_rate)(seq)\n",
    "        tmp = tf.keras.layers.Add()([seq_conv, lc])\n",
    "        \n",
    "        # Gated activation\n",
    "        gated_act = tf.keras.layers.Multiply()([tf.keras.layers.Activation('tanh')(tmp),\n",
    "                                        tf.keras.layers.Activation('sigmoid')(tmp)])\n",
    "\n",
    "        gated_act = tf.keras.layers.Conv1D(1, 1, padding='same')(gated_act)\n",
    "\n",
    "        # Residual connection\n",
    "        seq = tf.keras.layers.Add()([seq, gated_act])    \n",
    "\n",
    "        # Vamos añadiendo las 'Skip conections'\n",
    "        skips.append(gated_act)\n",
    "\n",
    "    # Sumamos todas las skip connections y computamos el resto de funciones\n",
    "    out = tf.keras.layers.Add()(skips)\n",
    "    out = tf.keras.layers.ReLU()(out)\n",
    "    out = tf.keras.layers.Conv1D(1, 1, padding='same')(out)\n",
    "    out = tf.keras.layers.ReLU()(out)\n",
    "    out = tf.keras.layers.Conv1D(out_shape[1], 1, padding='same')(out)\n",
    "    out = tf.keras.layers.Softmax()(out)\n",
    "    return tf.keras.models.Model(inputs=[Input_seq, Input_lc], outputs=out)\n",
    "\n",
    "model = get_wavenet()\n",
    "model.compile(tf.keras.optimizers.Adam(), loss='categorical_crossentropy', metrics=['accuracy'])\n",
    "model.summary()"
   ]
  },
  {
   "cell_type": "markdown",
   "id": "8666ab05",
   "metadata": {
    "id": "8666ab05"
   },
   "source": [
    "### Obtenemos los datos y los transformamos los datos a los que acepta el modelo"
   ]
  },
  {
   "cell_type": "code",
   "execution_count": 31,
   "id": "4f8c77d5",
   "metadata": {
    "id": "4f8c77d5"
   },
   "outputs": [],
   "source": [
    "# Parametros de preprocesado\n",
    "MULTITHREAD = False\n",
    "\n",
    "# Parámetros de entrenamiento\n",
    "N_EPOCHS = 5\n",
    "BATCH_SIZE = 160"
   ]
  },
  {
   "cell_type": "code",
   "execution_count": 101,
   "id": "facf785a",
   "metadata": {
    "id": "facf785a",
    "pycharm": {
     "name": "#%%\n"
    }
   },
   "outputs": [],
   "source": [
    "feature_description = {\n",
    "    \"lc\": tf.io.FixedLenFeature(shape=[*LC_SHAPE], dtype=tf.float32),\n",
    "    \"seq\": tf.io.FixedLenFeature(shape=[*INP_SHAPE], dtype=tf.int64),\n",
    "    \"out\": tf.io.FixedLenFeature(shape=[*OUT_SHAPE], dtype=tf.int64)}\n",
    "\n",
    "def parse_sample(sample):\n",
    "    return tf.io.parse_single_example(sample, features=feature_description)\n",
    "\n",
    "def midi_feature(value):\n",
    "    return tf.train.Feature(float_list=tf.train.FloatList(value=value.flatten()))\n",
    "\n",
    "def wav_feature(value, mulaw_enc):\n",
    "    return tf.train.Feature(int64_list=tf.train.Int64List(value=value))\n",
    "\n",
    "def generate_data(df):\n",
    "    \n",
    "    # Para procesar los ficheros\n",
    "    midi_hdlr = Midi_handler(sampling_rate=SAMPLING_RATE, dir_path=PATH, n_notes=N_NOTES)\n",
    "    wav_hdlr = Wav_handler(sampling_rate=SAMPLING_RATE, dir_path=PATH)\n",
    "\n",
    "    # Para aplicar el mu-law encoding\n",
    "    mulaw_enc = Mu_law_encoder(mu=MU, n_bits=N_BITS, amps=AMPS)\n",
    "\n",
    "    # Datos del local conditioning\n",
    "    midi_data = midi_hdlr.vectorize_midi(df['midi_filename'])\n",
    "    \n",
    "    # Datos de la serie de tiempo\n",
    "    wav_data = mulaw_enc.encode_series(wav_hdlr.vectorize_wav(df['audio_filename']))\n",
    "    seq_data = tf.keras.utils.timeseries_dataset_from_array(wav_data[0:-1], None, sequence_length=INPUT_LEN, batch_size=None)\n",
    "    out_data = tf.keras.utils.timeseries_dataset_from_array(wav_data[1:], None, sequence_length=INPUT_LEN, batch_size=None)\n",
    "\n",
    "    for idx, (midi_, seq_, out_) in enumerate(zip(midi_data, seq_data, out_data)):\n",
    "        yield {\"lc\": tf.expand_dims(tf.expand_dims(midi_, 0), 0), \n",
    "               \"seq\": tf.expand_dims(tf.one_hot(seq_, depth=N_LEVELS), 0)}, tf.expand_dims(tf.one_hot(out_, depth=N_LEVELS), 0)\n",
    "\n",
    "def write_data(df, max_files=None, max_samples=None, file='out'):\n",
    "\n",
    "    assert(file is not None)\n",
    "    assert(max_samples is None or max_samples > INPUT_LEN)\n",
    "    assert(max_files is None or max_files > 0)\n",
    "\n",
    "    # Calculamos el número máximo de ficheros y ejemplos por fichero\n",
    "    num_files = -1 if max_files is None else max_files\n",
    "    num_samples = -1 if max_samples is None else max_samples\n",
    "    \n",
    "    serialized_features_dataset = tf.data.Dataset.from_generator(lambda : generate_data(df),\n",
    "                    output_types=tf.string, output_shapes=())\n",
    "        \n",
    "    tf.data.experimental.save(serialized_features_dataset, file, compression='GZIP', shard_func=None)\n",
    "\n",
    "def read_data(filename):\n",
    "    assert(filename is not None)\n",
    "    return  tf.data.experimental.load(filename, compression='GZIP')"
   ]
  },
  {
   "cell_type": "markdown",
   "id": "b8dd6a5b",
   "metadata": {
    "id": "b8dd6a5b"
   },
   "source": [
    "#### Empleamos multithreading para cachear los datos en ficheros"
   ]
  },
  {
   "cell_type": "code",
   "execution_count": 19,
   "id": "906a1088",
   "metadata": {
    "id": "906a1088"
   },
   "outputs": [],
   "source": [
    "if MULTITHREAD:\n",
    "\n",
    "    class myThread(threading.Thread):\n",
    "\n",
    "        def __init__(self, threadID, name, q):\n",
    "            threading.Thread.__init__(self)\n",
    "            self.threadID = threadID\n",
    "            self.name = name\n",
    "            self.q = q\n",
    "\n",
    "        def run(self):\n",
    "            print(f\"Levantando {self.name}...\")\n",
    "            process_data(self.name, self.q)\n",
    "            print(f\"... terminando {self.name}\")\n",
    "\n",
    "    def process_data(threadName, q):\n",
    "        while not exitFlag:\n",
    "            queueLock.acquire()\n",
    "            if not workQueue.empty():\n",
    "                data = q.get()\n",
    "                queueLock.release()\n",
    "                print(f\"{threadName} processing {data}\\n\")\n",
    "                idx, split, midi, wav = data\n",
    "                cache_file = 'cache/' + split + '/' + midi[:-5]\n",
    "                write_data(df.iloc[idx], file=cache_file)\n",
    "                dfLock.acquire()\n",
    "                print(f\"{threadName} actualiza dataframe\\n\")\n",
    "                df.loc[idx, 'data_cached'] = True\n",
    "                set_dataframe(df, 'maestro-v3.0.0.csv')\n",
    "                dfLock.release()\n",
    "            else:\n",
    "                queueLock.release()\n",
    "                time.sleep(1)\n",
    "\n",
    "    N_THREADS = 3\n",
    "\n",
    "    exitFlag = False\n",
    "    queueLock = threading.Lock()\n",
    "    dfLock = threading.Lock()\n",
    "    workQueue = queue.Queue(len(df))\n",
    "\n",
    "    threads = []\n",
    "\n",
    "    # Create new threads\n",
    "    for i in range(N_THREADS):\n",
    "        thread = myThread(i, f\"Thread {i}\", workQueue)\n",
    "        thread.start()\n",
    "        threads.append(thread)\n",
    "\n",
    "    # Fill the queue\n",
    "    queueLock.acquire()\n",
    "    for idx, (split, midi, wav, cached) in enumerate(zip(df['split'], df['midi_filename'], \n",
    "                                                     df['audio_filename'], df['data_cached'])):\n",
    "        if not cached:\n",
    "            workQueue.put((idx, split, midi, wav))\n",
    "    queueLock.release()\n",
    "\n",
    "    # Wait for queue to empty\n",
    "    while not workQueue.empty():\n",
    "        time.sleep(10)\n",
    "\n",
    "    # Notify threads it's time to exit\n",
    "    exitFlag = True\n",
    "\n",
    "    # Wait for all threads to complete\n",
    "    for t in threads:\n",
    "        t.join()\n",
    "    print(\"Exiting Main Thread\")"
   ]
  },
  {
   "cell_type": "markdown",
   "id": "0b1e47d1",
   "metadata": {
    "id": "0b1e47d1"
   },
   "source": [
    "#### Para ejecutarlo en single-thread:"
   ]
  },
  {
   "cell_type": "code",
   "execution_count": null,
   "id": "e1dd456b",
   "metadata": {
    "id": "e1dd456b",
    "scrolled": true
   },
   "outputs": [
    {
     "name": "stdout",
     "output_type": "stream",
     "text": [
      "Thread 123145621569536 escribiendo\n"
     ]
    }
   ],
   "source": [
    "if not MULTITHREAD:\n",
    "\n",
    "    # Creamos un fichero con los datos cacheados para cada uno de los archivos del dataset\n",
    "    for idx, (split, midi, wav, cached) in enumerate(zip(df['split'], df['midi_filename'], \n",
    "                                                         df['audio_filename'], df['data_cached'])):\n",
    "        if not cached:\n",
    "            cache_file = 'cache/' + split + '/' + midi[:-5]\n",
    "            write_data(df.iloc[idx], file=cache_file)\n",
    "            df.loc[idx, 'data_cached'] = True\n",
    "            set_dataframe(df, 'maestro-v3.0.0.csv')"
   ]
  },
  {
   "cell_type": "markdown",
   "id": "b4ed8291",
   "metadata": {
    "id": "b4ed8291"
   },
   "source": [
    "### Preparamos el entrenamiento"
   ]
  },
  {
   "cell_type": "code",
   "execution_count": 93,
   "id": "3b1cc039",
   "metadata": {
    "colab": {
     "base_uri": "https://localhost:8080/",
     "height": 353
    },
    "id": "3b1cc039",
    "outputId": "d8096135-53df-483e-ac18-d68e87ae4b0c"
   },
   "outputs": [
    {
     "data": {
      "text/html": [
       "<div>\n",
       "<style scoped>\n",
       "    .dataframe tbody tr th:only-of-type {\n",
       "        vertical-align: middle;\n",
       "    }\n",
       "\n",
       "    .dataframe tbody tr th {\n",
       "        vertical-align: top;\n",
       "    }\n",
       "\n",
       "    .dataframe thead th {\n",
       "        text-align: right;\n",
       "    }\n",
       "</style>\n",
       "<table border=\"1\" class=\"dataframe\">\n",
       "  <thead>\n",
       "    <tr style=\"text-align: right;\">\n",
       "      <th></th>\n",
       "      <th>canonical_composer</th>\n",
       "      <th>canonical_title</th>\n",
       "      <th>split</th>\n",
       "      <th>year</th>\n",
       "      <th>midi_filename</th>\n",
       "      <th>audio_filename</th>\n",
       "      <th>duration</th>\n",
       "      <th>data_cached</th>\n",
       "      <th>epochs_trained</th>\n",
       "    </tr>\n",
       "  </thead>\n",
       "  <tbody>\n",
       "    <tr>\n",
       "      <th>0</th>\n",
       "      <td>Alban Berg</td>\n",
       "      <td>Sonata Op. 1</td>\n",
       "      <td>train</td>\n",
       "      <td>2018</td>\n",
       "      <td>2018/MIDI-Unprocessed_Chamber3_MID--AUDIO_10_R...</td>\n",
       "      <td>2018/MIDI-Unprocessed_Chamber3_MID--AUDIO_10_R...</td>\n",
       "      <td>698.661160</td>\n",
       "      <td>False</td>\n",
       "      <td>0</td>\n",
       "    </tr>\n",
       "    <tr>\n",
       "      <th>1</th>\n",
       "      <td>Alban Berg</td>\n",
       "      <td>Sonata Op. 1</td>\n",
       "      <td>train</td>\n",
       "      <td>2008</td>\n",
       "      <td>2008/MIDI-Unprocessed_03_R2_2008_01-03_ORIG_MI...</td>\n",
       "      <td>2008/MIDI-Unprocessed_03_R2_2008_01-03_ORIG_MI...</td>\n",
       "      <td>759.518471</td>\n",
       "      <td>False</td>\n",
       "      <td>0</td>\n",
       "    </tr>\n",
       "    <tr>\n",
       "      <th>2</th>\n",
       "      <td>Alban Berg</td>\n",
       "      <td>Sonata Op. 1</td>\n",
       "      <td>train</td>\n",
       "      <td>2017</td>\n",
       "      <td>2017/MIDI-Unprocessed_066_PIANO066_MID--AUDIO-...</td>\n",
       "      <td>2017/MIDI-Unprocessed_066_PIANO066_MID--AUDIO-...</td>\n",
       "      <td>464.649433</td>\n",
       "      <td>False</td>\n",
       "      <td>0</td>\n",
       "    </tr>\n",
       "    <tr>\n",
       "      <th>3</th>\n",
       "      <td>Alexander Scriabin</td>\n",
       "      <td>24 Preludes Op. 11, No. 13-24</td>\n",
       "      <td>train</td>\n",
       "      <td>2004</td>\n",
       "      <td>2004/MIDI-Unprocessed_XP_21_R1_2004_01_ORIG_MI...</td>\n",
       "      <td>2004/MIDI-Unprocessed_XP_21_R1_2004_01_ORIG_MI...</td>\n",
       "      <td>872.640588</td>\n",
       "      <td>False</td>\n",
       "      <td>0</td>\n",
       "    </tr>\n",
       "    <tr>\n",
       "      <th>4</th>\n",
       "      <td>Alexander Scriabin</td>\n",
       "      <td>3 Etudes, Op. 65</td>\n",
       "      <td>validation</td>\n",
       "      <td>2006</td>\n",
       "      <td>2006/MIDI-Unprocessed_17_R1_2006_01-06_ORIG_MI...</td>\n",
       "      <td>2006/MIDI-Unprocessed_17_R1_2006_01-06_ORIG_MI...</td>\n",
       "      <td>397.857508</td>\n",
       "      <td>False</td>\n",
       "      <td>0</td>\n",
       "    </tr>\n",
       "  </tbody>\n",
       "</table>\n",
       "</div>"
      ],
      "text/plain": [
       "   canonical_composer                canonical_title       split  year  \\\n",
       "0          Alban Berg                   Sonata Op. 1       train  2018   \n",
       "1          Alban Berg                   Sonata Op. 1       train  2008   \n",
       "2          Alban Berg                   Sonata Op. 1       train  2017   \n",
       "3  Alexander Scriabin  24 Preludes Op. 11, No. 13-24       train  2004   \n",
       "4  Alexander Scriabin               3 Etudes, Op. 65  validation  2006   \n",
       "\n",
       "                                       midi_filename  \\\n",
       "0  2018/MIDI-Unprocessed_Chamber3_MID--AUDIO_10_R...   \n",
       "1  2008/MIDI-Unprocessed_03_R2_2008_01-03_ORIG_MI...   \n",
       "2  2017/MIDI-Unprocessed_066_PIANO066_MID--AUDIO-...   \n",
       "3  2004/MIDI-Unprocessed_XP_21_R1_2004_01_ORIG_MI...   \n",
       "4  2006/MIDI-Unprocessed_17_R1_2006_01-06_ORIG_MI...   \n",
       "\n",
       "                                      audio_filename    duration  data_cached  \\\n",
       "0  2018/MIDI-Unprocessed_Chamber3_MID--AUDIO_10_R...  698.661160        False   \n",
       "1  2008/MIDI-Unprocessed_03_R2_2008_01-03_ORIG_MI...  759.518471        False   \n",
       "2  2017/MIDI-Unprocessed_066_PIANO066_MID--AUDIO-...  464.649433        False   \n",
       "3  2004/MIDI-Unprocessed_XP_21_R1_2004_01_ORIG_MI...  872.640588        False   \n",
       "4  2006/MIDI-Unprocessed_17_R1_2006_01-06_ORIG_MI...  397.857508        False   \n",
       "\n",
       "   epochs_trained  \n",
       "0               0  \n",
       "1               0  \n",
       "2               0  \n",
       "3               0  \n",
       "4               0  "
      ]
     },
     "execution_count": 93,
     "metadata": {},
     "output_type": "execute_result"
    }
   ],
   "source": [
    "training_progress_df = get_dataframe('traning_progress.csv')\n",
    "training_progress_df.head()"
   ]
  },
  {
   "cell_type": "markdown",
   "id": "a40bbd10",
   "metadata": {
    "id": "a40bbd10"
   },
   "source": [
    "### Loop de entrenamiento"
   ]
  },
  {
   "cell_type": "code",
   "execution_count": 102,
   "id": "510f6483",
   "metadata": {
    "colab": {
     "base_uri": "https://localhost:8080/"
    },
    "id": "510f6483",
    "outputId": "0dcb2551-0491-4e4f-ed4b-84797d0924ed"
   },
   "outputs": [
    {
     "name": "stdout",
     "output_type": "stream",
     "text": [
      "Creando nuevo modelo\n",
      "Comenzando el entrenamiento del modelo (nº de epochs: 5, parámetros a entrenar: 1048108)...\n",
      "------------------------------------------------------------------------\n",
      "Comenzando epoch nº 0...\n",
      "Entrenando el fichero 2018/MIDI-Unprocessed_Chamber3_MID--AUDIO_10_R3_2018_wav--1...\n",
      "    2463/11178578 [..............................] - ETA: 1113:50:17 - loss: 3.4123 - accuracy: 0.1136"
     ]
    },
    {
     "ename": "KeyboardInterrupt",
     "evalue": "",
     "output_type": "error",
     "traceback": [
      "\u001b[0;31m---------------------------------------------------------------------------\u001b[0m",
      "\u001b[0;31mKeyboardInterrupt\u001b[0m                         Traceback (most recent call last)",
      "\u001b[0;32m/var/folders/_4/cwq25c4x07gf7wtb_qpfg_mw0000gn/T/ipykernel_5408/632362773.py\u001b[0m in \u001b[0;36m<module>\u001b[0;34m\u001b[0m\n\u001b[1;32m     46\u001b[0m \u001b[0;34m\u001b[0m\u001b[0m\n\u001b[1;32m     47\u001b[0m         \u001b[0;31m# Entrenamos\u001b[0m\u001b[0;34m\u001b[0m\u001b[0;34m\u001b[0m\u001b[0m\n\u001b[0;32m---> 48\u001b[0;31m         history = model.fit(generate_data(train_df.iloc[idx]), steps_per_epoch=length, epochs=1,\\\n\u001b[0m\u001b[1;32m     49\u001b[0m                             callbacks=[train_acc_logger, best_checkpoint])\n\u001b[1;32m     50\u001b[0m \u001b[0;34m\u001b[0m\u001b[0m\n",
      "\u001b[0;32m/usr/local/lib/python3.9/site-packages/keras/utils/traceback_utils.py\u001b[0m in \u001b[0;36merror_handler\u001b[0;34m(*args, **kwargs)\u001b[0m\n\u001b[1;32m     62\u001b[0m     \u001b[0mfiltered_tb\u001b[0m \u001b[0;34m=\u001b[0m \u001b[0;32mNone\u001b[0m\u001b[0;34m\u001b[0m\u001b[0;34m\u001b[0m\u001b[0m\n\u001b[1;32m     63\u001b[0m     \u001b[0;32mtry\u001b[0m\u001b[0;34m:\u001b[0m\u001b[0;34m\u001b[0m\u001b[0;34m\u001b[0m\u001b[0m\n\u001b[0;32m---> 64\u001b[0;31m       \u001b[0;32mreturn\u001b[0m \u001b[0mfn\u001b[0m\u001b[0;34m(\u001b[0m\u001b[0;34m*\u001b[0m\u001b[0margs\u001b[0m\u001b[0;34m,\u001b[0m \u001b[0;34m**\u001b[0m\u001b[0mkwargs\u001b[0m\u001b[0;34m)\u001b[0m\u001b[0;34m\u001b[0m\u001b[0;34m\u001b[0m\u001b[0m\n\u001b[0m\u001b[1;32m     65\u001b[0m     \u001b[0;32mexcept\u001b[0m \u001b[0mException\u001b[0m \u001b[0;32mas\u001b[0m \u001b[0me\u001b[0m\u001b[0;34m:\u001b[0m  \u001b[0;31m# pylint: disable=broad-except\u001b[0m\u001b[0;34m\u001b[0m\u001b[0;34m\u001b[0m\u001b[0m\n\u001b[1;32m     66\u001b[0m       \u001b[0mfiltered_tb\u001b[0m \u001b[0;34m=\u001b[0m \u001b[0m_process_traceback_frames\u001b[0m\u001b[0;34m(\u001b[0m\u001b[0me\u001b[0m\u001b[0;34m.\u001b[0m\u001b[0m__traceback__\u001b[0m\u001b[0;34m)\u001b[0m\u001b[0;34m\u001b[0m\u001b[0;34m\u001b[0m\u001b[0m\n",
      "\u001b[0;32m/usr/local/lib/python3.9/site-packages/keras/engine/training.py\u001b[0m in \u001b[0;36mfit\u001b[0;34m(self, x, y, batch_size, epochs, verbose, callbacks, validation_split, validation_data, shuffle, class_weight, sample_weight, initial_epoch, steps_per_epoch, validation_steps, validation_batch_size, validation_freq, max_queue_size, workers, use_multiprocessing)\u001b[0m\n\u001b[1;32m   1382\u001b[0m                 _r=1):\n\u001b[1;32m   1383\u001b[0m               \u001b[0mcallbacks\u001b[0m\u001b[0;34m.\u001b[0m\u001b[0mon_train_batch_begin\u001b[0m\u001b[0;34m(\u001b[0m\u001b[0mstep\u001b[0m\u001b[0;34m)\u001b[0m\u001b[0;34m\u001b[0m\u001b[0;34m\u001b[0m\u001b[0m\n\u001b[0;32m-> 1384\u001b[0;31m               \u001b[0mtmp_logs\u001b[0m \u001b[0;34m=\u001b[0m \u001b[0mself\u001b[0m\u001b[0;34m.\u001b[0m\u001b[0mtrain_function\u001b[0m\u001b[0;34m(\u001b[0m\u001b[0miterator\u001b[0m\u001b[0;34m)\u001b[0m\u001b[0;34m\u001b[0m\u001b[0;34m\u001b[0m\u001b[0m\n\u001b[0m\u001b[1;32m   1385\u001b[0m               \u001b[0;32mif\u001b[0m \u001b[0mdata_handler\u001b[0m\u001b[0;34m.\u001b[0m\u001b[0mshould_sync\u001b[0m\u001b[0;34m:\u001b[0m\u001b[0;34m\u001b[0m\u001b[0;34m\u001b[0m\u001b[0m\n\u001b[1;32m   1386\u001b[0m                 \u001b[0mcontext\u001b[0m\u001b[0;34m.\u001b[0m\u001b[0masync_wait\u001b[0m\u001b[0;34m(\u001b[0m\u001b[0;34m)\u001b[0m\u001b[0;34m\u001b[0m\u001b[0;34m\u001b[0m\u001b[0m\n",
      "\u001b[0;32m/usr/local/lib/python3.9/site-packages/tensorflow/python/util/traceback_utils.py\u001b[0m in \u001b[0;36merror_handler\u001b[0;34m(*args, **kwargs)\u001b[0m\n\u001b[1;32m    148\u001b[0m     \u001b[0mfiltered_tb\u001b[0m \u001b[0;34m=\u001b[0m \u001b[0;32mNone\u001b[0m\u001b[0;34m\u001b[0m\u001b[0;34m\u001b[0m\u001b[0m\n\u001b[1;32m    149\u001b[0m     \u001b[0;32mtry\u001b[0m\u001b[0;34m:\u001b[0m\u001b[0;34m\u001b[0m\u001b[0;34m\u001b[0m\u001b[0m\n\u001b[0;32m--> 150\u001b[0;31m       \u001b[0;32mreturn\u001b[0m \u001b[0mfn\u001b[0m\u001b[0;34m(\u001b[0m\u001b[0;34m*\u001b[0m\u001b[0margs\u001b[0m\u001b[0;34m,\u001b[0m \u001b[0;34m**\u001b[0m\u001b[0mkwargs\u001b[0m\u001b[0;34m)\u001b[0m\u001b[0;34m\u001b[0m\u001b[0;34m\u001b[0m\u001b[0m\n\u001b[0m\u001b[1;32m    151\u001b[0m     \u001b[0;32mexcept\u001b[0m \u001b[0mException\u001b[0m \u001b[0;32mas\u001b[0m \u001b[0me\u001b[0m\u001b[0;34m:\u001b[0m\u001b[0;34m\u001b[0m\u001b[0;34m\u001b[0m\u001b[0m\n\u001b[1;32m    152\u001b[0m       \u001b[0mfiltered_tb\u001b[0m \u001b[0;34m=\u001b[0m \u001b[0m_process_traceback_frames\u001b[0m\u001b[0;34m(\u001b[0m\u001b[0me\u001b[0m\u001b[0;34m.\u001b[0m\u001b[0m__traceback__\u001b[0m\u001b[0;34m)\u001b[0m\u001b[0;34m\u001b[0m\u001b[0;34m\u001b[0m\u001b[0m\n",
      "\u001b[0;32m/usr/local/lib/python3.9/site-packages/tensorflow/python/eager/def_function.py\u001b[0m in \u001b[0;36m__call__\u001b[0;34m(self, *args, **kwds)\u001b[0m\n\u001b[1;32m    913\u001b[0m \u001b[0;34m\u001b[0m\u001b[0m\n\u001b[1;32m    914\u001b[0m       \u001b[0;32mwith\u001b[0m \u001b[0mOptionalXlaContext\u001b[0m\u001b[0;34m(\u001b[0m\u001b[0mself\u001b[0m\u001b[0;34m.\u001b[0m\u001b[0m_jit_compile\u001b[0m\u001b[0;34m)\u001b[0m\u001b[0;34m:\u001b[0m\u001b[0;34m\u001b[0m\u001b[0;34m\u001b[0m\u001b[0m\n\u001b[0;32m--> 915\u001b[0;31m         \u001b[0mresult\u001b[0m \u001b[0;34m=\u001b[0m \u001b[0mself\u001b[0m\u001b[0;34m.\u001b[0m\u001b[0m_call\u001b[0m\u001b[0;34m(\u001b[0m\u001b[0;34m*\u001b[0m\u001b[0margs\u001b[0m\u001b[0;34m,\u001b[0m \u001b[0;34m**\u001b[0m\u001b[0mkwds\u001b[0m\u001b[0;34m)\u001b[0m\u001b[0;34m\u001b[0m\u001b[0;34m\u001b[0m\u001b[0m\n\u001b[0m\u001b[1;32m    916\u001b[0m \u001b[0;34m\u001b[0m\u001b[0m\n\u001b[1;32m    917\u001b[0m       \u001b[0mnew_tracing_count\u001b[0m \u001b[0;34m=\u001b[0m \u001b[0mself\u001b[0m\u001b[0;34m.\u001b[0m\u001b[0mexperimental_get_tracing_count\u001b[0m\u001b[0;34m(\u001b[0m\u001b[0;34m)\u001b[0m\u001b[0;34m\u001b[0m\u001b[0;34m\u001b[0m\u001b[0m\n",
      "\u001b[0;32m/usr/local/lib/python3.9/site-packages/tensorflow/python/eager/def_function.py\u001b[0m in \u001b[0;36m_call\u001b[0;34m(self, *args, **kwds)\u001b[0m\n\u001b[1;32m    945\u001b[0m       \u001b[0;31m# In this case we have created variables on the first call, so we run the\u001b[0m\u001b[0;34m\u001b[0m\u001b[0;34m\u001b[0m\u001b[0m\n\u001b[1;32m    946\u001b[0m       \u001b[0;31m# defunned version which is guaranteed to never create variables.\u001b[0m\u001b[0;34m\u001b[0m\u001b[0;34m\u001b[0m\u001b[0m\n\u001b[0;32m--> 947\u001b[0;31m       \u001b[0;32mreturn\u001b[0m \u001b[0mself\u001b[0m\u001b[0;34m.\u001b[0m\u001b[0m_stateless_fn\u001b[0m\u001b[0;34m(\u001b[0m\u001b[0;34m*\u001b[0m\u001b[0margs\u001b[0m\u001b[0;34m,\u001b[0m \u001b[0;34m**\u001b[0m\u001b[0mkwds\u001b[0m\u001b[0;34m)\u001b[0m  \u001b[0;31m# pylint: disable=not-callable\u001b[0m\u001b[0;34m\u001b[0m\u001b[0;34m\u001b[0m\u001b[0m\n\u001b[0m\u001b[1;32m    948\u001b[0m     \u001b[0;32melif\u001b[0m \u001b[0mself\u001b[0m\u001b[0;34m.\u001b[0m\u001b[0m_stateful_fn\u001b[0m \u001b[0;32mis\u001b[0m \u001b[0;32mnot\u001b[0m \u001b[0;32mNone\u001b[0m\u001b[0;34m:\u001b[0m\u001b[0;34m\u001b[0m\u001b[0;34m\u001b[0m\u001b[0m\n\u001b[1;32m    949\u001b[0m       \u001b[0;31m# Release the lock early so that multiple threads can perform the call\u001b[0m\u001b[0;34m\u001b[0m\u001b[0;34m\u001b[0m\u001b[0m\n",
      "\u001b[0;32m/usr/local/lib/python3.9/site-packages/tensorflow/python/eager/function.py\u001b[0m in \u001b[0;36m__call__\u001b[0;34m(self, *args, **kwargs)\u001b[0m\n\u001b[1;32m   2954\u001b[0m       (graph_function,\n\u001b[1;32m   2955\u001b[0m        filtered_flat_args) = self._maybe_define_function(args, kwargs)\n\u001b[0;32m-> 2956\u001b[0;31m     return graph_function._call_flat(\n\u001b[0m\u001b[1;32m   2957\u001b[0m         filtered_flat_args, captured_inputs=graph_function.captured_inputs)  # pylint: disable=protected-access\n\u001b[1;32m   2958\u001b[0m \u001b[0;34m\u001b[0m\u001b[0m\n",
      "\u001b[0;32m/usr/local/lib/python3.9/site-packages/tensorflow/python/eager/function.py\u001b[0m in \u001b[0;36m_call_flat\u001b[0;34m(self, args, captured_inputs, cancellation_manager)\u001b[0m\n\u001b[1;32m   1851\u001b[0m         and executing_eagerly):\n\u001b[1;32m   1852\u001b[0m       \u001b[0;31m# No tape is watching; skip to running the function.\u001b[0m\u001b[0;34m\u001b[0m\u001b[0;34m\u001b[0m\u001b[0m\n\u001b[0;32m-> 1853\u001b[0;31m       return self._build_call_outputs(self._inference_function.call(\n\u001b[0m\u001b[1;32m   1854\u001b[0m           ctx, args, cancellation_manager=cancellation_manager))\n\u001b[1;32m   1855\u001b[0m     forward_backward = self._select_forward_and_backward_functions(\n",
      "\u001b[0;32m/usr/local/lib/python3.9/site-packages/tensorflow/python/eager/function.py\u001b[0m in \u001b[0;36mcall\u001b[0;34m(self, ctx, args, cancellation_manager)\u001b[0m\n\u001b[1;32m    497\u001b[0m       \u001b[0;32mwith\u001b[0m \u001b[0m_InterpolateFunctionError\u001b[0m\u001b[0;34m(\u001b[0m\u001b[0mself\u001b[0m\u001b[0;34m)\u001b[0m\u001b[0;34m:\u001b[0m\u001b[0;34m\u001b[0m\u001b[0;34m\u001b[0m\u001b[0m\n\u001b[1;32m    498\u001b[0m         \u001b[0;32mif\u001b[0m \u001b[0mcancellation_manager\u001b[0m \u001b[0;32mis\u001b[0m \u001b[0;32mNone\u001b[0m\u001b[0;34m:\u001b[0m\u001b[0;34m\u001b[0m\u001b[0;34m\u001b[0m\u001b[0m\n\u001b[0;32m--> 499\u001b[0;31m           outputs = execute.execute(\n\u001b[0m\u001b[1;32m    500\u001b[0m               \u001b[0mstr\u001b[0m\u001b[0;34m(\u001b[0m\u001b[0mself\u001b[0m\u001b[0;34m.\u001b[0m\u001b[0msignature\u001b[0m\u001b[0;34m.\u001b[0m\u001b[0mname\u001b[0m\u001b[0;34m)\u001b[0m\u001b[0;34m,\u001b[0m\u001b[0;34m\u001b[0m\u001b[0;34m\u001b[0m\u001b[0m\n\u001b[1;32m    501\u001b[0m               \u001b[0mnum_outputs\u001b[0m\u001b[0;34m=\u001b[0m\u001b[0mself\u001b[0m\u001b[0;34m.\u001b[0m\u001b[0m_num_outputs\u001b[0m\u001b[0;34m,\u001b[0m\u001b[0;34m\u001b[0m\u001b[0;34m\u001b[0m\u001b[0m\n",
      "\u001b[0;32m/usr/local/lib/python3.9/site-packages/tensorflow/python/eager/execute.py\u001b[0m in \u001b[0;36mquick_execute\u001b[0;34m(op_name, num_outputs, inputs, attrs, ctx, name)\u001b[0m\n\u001b[1;32m     52\u001b[0m   \u001b[0;32mtry\u001b[0m\u001b[0;34m:\u001b[0m\u001b[0;34m\u001b[0m\u001b[0;34m\u001b[0m\u001b[0m\n\u001b[1;32m     53\u001b[0m     \u001b[0mctx\u001b[0m\u001b[0;34m.\u001b[0m\u001b[0mensure_initialized\u001b[0m\u001b[0;34m(\u001b[0m\u001b[0;34m)\u001b[0m\u001b[0;34m\u001b[0m\u001b[0;34m\u001b[0m\u001b[0m\n\u001b[0;32m---> 54\u001b[0;31m     tensors = pywrap_tfe.TFE_Py_Execute(ctx._handle, device_name, op_name,\n\u001b[0m\u001b[1;32m     55\u001b[0m                                         inputs, attrs, num_outputs)\n\u001b[1;32m     56\u001b[0m   \u001b[0;32mexcept\u001b[0m \u001b[0mcore\u001b[0m\u001b[0;34m.\u001b[0m\u001b[0m_NotOkStatusException\u001b[0m \u001b[0;32mas\u001b[0m \u001b[0me\u001b[0m\u001b[0;34m:\u001b[0m\u001b[0;34m\u001b[0m\u001b[0;34m\u001b[0m\u001b[0m\n",
      "\u001b[0;31mKeyboardInterrupt\u001b[0m: "
     ]
    }
   ],
   "source": [
    "try:\n",
    "    model = tf.keras.models.load_model('model.hdf5')\n",
    "    print(\"Cargado modelo anterior\")\n",
    "except:\n",
    "    model = get_wavenet()\n",
    "    model.compile(tf.keras.optimizers.Adam(), loss='categorical_crossentropy', metrics=['accuracy'])\n",
    "    print(\"Creando nuevo modelo\")\n",
    "\n",
    "# Obtenemos el epoch actual\n",
    "current_epoch = min(training_progress_df['epochs_trained'])\n",
    "\n",
    "print(f'Comenzando el entrenamiento del modelo (nº de epochs: {N_EPOCHS}, parámetros a entrenar: {np.sum([np.prod(v.get_shape()) for v in model.trainable_weights])})...')\n",
    "print('------------------------------------------------------------------------')\n",
    "\n",
    "while current_epoch < N_EPOCHS:\n",
    "\n",
    "    # Obtenemos los ficheros a entrenar en este epoch\n",
    "    train_df = training_progress_df[(training_progress_df['epochs_trained'] <= current_epoch) & \n",
    "                                    (training_progress_df['split'] == 'train')]\n",
    "    \n",
    "    print(f'Comenzando epoch nº {current_epoch}...')\n",
    "    \n",
    "    # Para cada fichero entrenamos\n",
    "    for idx, (split, midi) in enumerate(zip(train_df['split'], train_df['midi_filename'])):\n",
    "        \n",
    "        print(f'Entrenando el fichero {midi[:-5]}...')\n",
    "        \n",
    "        '''# Leemos los datos y los preparamos\n",
    "        train_dataset = read_data(f'cache/{split}/{midi[:-5]}')\n",
    "        train_dataset = train_dataset.cache()\n",
    "        train_dataset = train_dataset.map(parse_sample)\n",
    "        train_dataset = train_dataset.map((lambda i: ({\"lc\": tf.expand_dims(i[\"lc\"], 0), \n",
    "                                              \"seq\":  tf.one_hot(i[\"seq\"], depth=N_LEVELS)}, \n",
    "                                             tf.one_hot(i[\"out\"], depth=N_LEVELS))),\n",
    "                                  num_parallel_calls = tf.data.experimental.AUTOTUNE)\n",
    "        train_dataset = train_dataset.batch(BATCH_SIZE)\n",
    "        train_dataset = train_dataset.prefetch(tf.data.AUTOTUNE)\n",
    "        '''\n",
    "        # Calculamos la longitud\n",
    "        length = int(train_df.iloc[idx]['duration'] * SAMPLING_RATE)\n",
    "        \n",
    "        # Callbacks\n",
    "        train_acc_logger = tf.keras.callbacks.CSVLogger('training_accuracy.csv')\n",
    "        best_checkpoint = tf.keras.callbacks.ModelCheckpoint(\"best.hdf5\", monitor='accuracy', \n",
    "                                                             save_best_only=True, mode='max')\n",
    "        \n",
    "        # Entrenamos\n",
    "        history = model.fit(generate_data(train_df.iloc[idx]), steps_per_epoch=length, epochs=1,\\\n",
    "                            callbacks=[train_acc_logger, best_checkpoint])\n",
    "        \n",
    "        # Guardamos el modelo\n",
    "        model.save('model.hdf5')\n",
    "        \n",
    "        # Actualizamos todas las variables y actualizamos el csv con el progreso del entrenamiento\n",
    "        training_progress_df.loc[df['midi_filename'] == midi, 'epochs_trained'] = current_epoch + 1\n",
    "        set_dataframe(training_progress_df, 'traning_progress.csv')\n",
    "        \n",
    "    # Obtenemos los valores de cross validation\n",
    "    crossval_df = training_progress_df[(training_progress_df['epochs_trained'] <= current_epoch) & \n",
    "                                    (training_progress_df['split'] == 'validation')]\n",
    "    \n",
    "    crossval_scores = []\n",
    "\n",
    "    print('Calculando pérdida para el conjunto de cross validation...')\n",
    "    \n",
    "    # Para cada fichero medimos la cross validation score al final del epoch\n",
    "    for idx, (split, midi) in enumerate(zip(crossval_df['split'], crossval_df['midi_filename'])):\n",
    "        \n",
    "        print(f'Calculando pérdida para el fichero {midi[:-5]}...')\n",
    "        \n",
    "        '''crossval_dataset = read_data(f'cache/{split}/{midi[:-5]}')\n",
    "        crossval_dataset = crossval_dataset.cache()\n",
    "        crossval_dataset = crossval_dataset.map(parse_sample)\n",
    "        crossval_dataset = crossval_dataset.map((lambda i: ({\"lc\": tf.expand_dims(i[\"lc\"], 0), \n",
    "                                              \"seq\":  tf.one_hot(i[\"seq\"], depth=N_LEVELS)}, \n",
    "                                             tf.one_hot(i[\"out\"], depth=N_LEVELS))),\n",
    "                                  num_parallel_calls = tf.data.experimental.AUTOTUNE)\n",
    "        crossval_dataset = crossval_dataset.batch(BATCH_SIZE)\n",
    "        crossval_dataset = crossval_dataset.prefetch(tf.data.AUTOTUNE)'''\n",
    "        \n",
    "        # Calculamos la longitud\n",
    "        length = int(crossval_df.iloc[idx]['duration'] * SAMPLING_RATE)\n",
    "\n",
    "        # Calculamos la pedida\n",
    "        statistics = model.evaluate(generate_data(crossval_df.iloc[idx]))\n",
    "        crossval_scores.append(statistics)\n",
    "        \n",
    "    with open(\"crossval_accuracy.csv\", \"a\") as file:\n",
    "        file.write(f\"{np.mean([i[0] for i in crossval_scores])},{np.mean([i[1] for i in crossval_scores])}\\n\")\n",
    "\n",
    "    break\n",
    "    \n",
    "    current_epoch += 1\n",
    "    \n",
    "    print('------------------------------------------------------------------------')"
   ]
  },
  {
   "cell_type": "code",
   "execution_count": null,
   "id": "510729ae",
   "metadata": {
    "id": "510729ae"
   },
   "outputs": [],
   "source": []
  },
  {
   "cell_type": "code",
   "execution_count": null,
   "id": "a8d666e4",
   "metadata": {
    "id": "a8d666e4"
   },
   "outputs": [],
   "source": []
  },
  {
   "cell_type": "code",
   "execution_count": null,
   "id": "1e05656b",
   "metadata": {},
   "outputs": [],
   "source": []
  },
  {
   "cell_type": "code",
   "execution_count": null,
   "id": "17bf655d",
   "metadata": {},
   "outputs": [],
   "source": []
  },
  {
   "cell_type": "code",
   "execution_count": null,
   "id": "21cb9a32",
   "metadata": {},
   "outputs": [],
   "source": []
  },
  {
   "cell_type": "code",
   "execution_count": null,
   "id": "c7aa51d8",
   "metadata": {},
   "outputs": [],
   "source": []
  },
  {
   "cell_type": "code",
   "execution_count": null,
   "id": "67583f40",
   "metadata": {},
   "outputs": [],
   "source": []
  },
  {
   "cell_type": "markdown",
   "id": "76a266c7",
   "metadata": {
    "id": "76a266c7"
   },
   "source": [
    "### Estadísticas del entrenamiento"
   ]
  },
  {
   "cell_type": "code",
   "execution_count": null,
   "id": "2d6f8330",
   "metadata": {
    "id": "2d6f8330"
   },
   "outputs": [],
   "source": [
    "'''\n",
    "    Helper function to plot keras history.\n",
    "    https://machinelearningmastery.com/display-deep-learning-model-training-history-in-keras/\n",
    "'''\n",
    "def plot_history(history):\n",
    "    # Summarize history for accuracy\n",
    "    plt.plot(history.history['accuracy'])\n",
    "    plt.plot(history.history['val_accuracy'])\n",
    "    plt.title('Model accuracy')\n",
    "    plt.ylabel('Accuracy')\n",
    "    plt.xlabel('Epoch')\n",
    "    plt.legend(['Train', 'Cross Validation'], loc='upper left')\n",
    "    plt.show()\n",
    "    # Summarize history for loss\n",
    "    plt.plot(history.history['loss'])\n",
    "    plt.plot(history.history['val_loss'])\n",
    "    plt.title('Model loss')\n",
    "    plt.ylabel('Loss')\n",
    "    plt.xlabel('Epoch')\n",
    "    plt.legend(['Train', 'Cross Validation'], loc='upper left')\n",
    "    plt.show()"
   ]
  },
  {
   "cell_type": "code",
   "execution_count": null,
   "id": "ac7c7bae",
   "metadata": {
    "id": "ac7c7bae",
    "scrolled": false
   },
   "outputs": [],
   "source": [
    "for h in histories:\n",
    "    plot_history(h)"
   ]
  },
  {
   "cell_type": "markdown",
   "id": "3e15f4dd",
   "metadata": {
    "id": "3e15f4dd"
   },
   "source": [
    "### Predicción"
   ]
  },
  {
   "cell_type": "code",
   "execution_count": null,
   "id": "74b4835d",
   "metadata": {
    "id": "74b4835d",
    "scrolled": false
   },
   "outputs": [],
   "source": [
    "predictor = tf.keras.models.load_model('./best.hdf5')\n",
    "predictor.summary()"
   ]
  },
  {
   "cell_type": "code",
   "execution_count": null,
   "id": "33899f05",
   "metadata": {
    "id": "33899f05"
   },
   "outputs": [],
   "source": [
    "'''\n",
    "    Foo\n",
    "'''\n",
    "def predict_wav(in_file, out_file, dir_path, predictor, sr=SAMPLING_RATE, inp_shape=INP_SHAPE, enc=mulaw_enc):\n",
    "    \n",
    "    # TO DO: Quitar comment\n",
    "    #pianoroll = vectorize_midis([dir_path + in_file], sampling_rate=sr, dir_path=dir_path)[0]\n",
    "    \n",
    "    # Listas empleadas para el input/output del preductor\n",
    "    in_arr = tf.random.uniform(inp_shape, minval=0, maxval=1, dtype=tf.dtypes.float32)\n",
    "    lc_arr = []\n",
    "    \n",
    "    # Lista empleada para el output al fichero .wav\n",
    "    wav_arr = tf.zeros([inp_shape[0]])\n",
    "    \n",
    "    # TO DO: Quitar [:]\n",
    "    for i in tqdm(range(len(pianoroll[0:20000]))):\n",
    "        \n",
    "        # Getting the local conditioninng value for this step\n",
    "        lc_arr = pianoroll[i]\n",
    "        \n",
    "        # Getting the value of the prediction\n",
    "        prediction = predictor.predict({\"seq\": tf.expand_dims(in_arr, 0), \\\n",
    "                                        \"lc\": tf.expand_dims(tf.expand_dims(lc_arr, 0), 0)})[-1]\n",
    "        prediction_idx = np.argmax(prediction[-1])\n",
    "        \n",
    "        # Figuring out the params for prediction in next step\n",
    "        in_arr = tf.concat([in_arr[1:], tf.expand_dims(tf.keras.utils.to_categorical(prediction_idx, num_classes=N_LEVELS), 0)], 0)\n",
    "        \n",
    "        # Storing predicted values in wav format\n",
    "        wav_arr = tf.concat([wav_arr, [enc.decode_sample(prediction_idx)]], 0)\n",
    "        \n",
    "    # Writting predicted series to file\n",
    "    sf.write(dir_path + out_file, wav_arr, sr, 'PCM_24')\n",
    "    \n",
    "    return wav_arr\n"
   ]
  },
  {
   "cell_type": "code",
   "execution_count": null,
   "id": "af0d2ccf",
   "metadata": {
    "id": "af0d2ccf",
    "scrolled": false
   },
   "outputs": [],
   "source": [
    "midi_hdlr = Midi_handler(sampling_rate=SAMPLING_RATE, dir_path=PATH, n_notes=N_NOTES)\n",
    "in_file = train_df['midi_filename'][0]\n",
    "out_file = 'prediction.wav'\n",
    "dir_path = './i\\:o'"
   ]
  },
  {
   "cell_type": "code",
   "execution_count": null,
   "id": "6a509bbb",
   "metadata": {
    "id": "6a509bbb",
    "scrolled": false
   },
   "outputs": [],
   "source": [
    "wav_arr = predict_wav(in_file, out_file, dir_path, model)"
   ]
  },
  {
   "cell_type": "code",
   "execution_count": null,
   "id": "a4c6aeca",
   "metadata": {
    "id": "a4c6aeca"
   },
   "outputs": [],
   "source": [
    "pianoroll = (midi_hdlr.vectorize_midi(in_file) - MIDI_MIN) / (MIDI_MAX - MIDI_MIN)"
   ]
  },
  {
   "cell_type": "code",
   "execution_count": null,
   "id": "480455f4",
   "metadata": {
    "id": "480455f4"
   },
   "outputs": [],
   "source": [
    "print(pianoroll[0])"
   ]
  },
  {
   "cell_type": "code",
   "execution_count": null,
   "id": "118e60c8",
   "metadata": {
    "id": "118e60c8"
   },
   "outputs": [],
   "source": []
  },
  {
   "cell_type": "code",
   "execution_count": null,
   "id": "417bd990",
   "metadata": {
    "id": "417bd990",
    "scrolled": true
   },
   "outputs": [],
   "source": []
  },
  {
   "cell_type": "code",
   "execution_count": null,
   "id": "6d71981d",
   "metadata": {
    "id": "6d71981d"
   },
   "outputs": [],
   "source": []
  },
  {
   "cell_type": "code",
   "execution_count": null,
   "id": "4f17dea8",
   "metadata": {},
   "outputs": [],
   "source": []
  },
  {
   "cell_type": "code",
   "execution_count": null,
   "id": "a5fb4e51",
   "metadata": {
    "id": "a5fb4e51"
   },
   "outputs": [],
   "source": []
  },
  {
   "cell_type": "code",
   "execution_count": null,
   "id": "b1ae55d3",
   "metadata": {
    "id": "b1ae55d3"
   },
   "outputs": [],
   "source": []
  },
  {
   "cell_type": "code",
   "execution_count": null,
   "id": "4f23c068",
   "metadata": {
    "id": "4f23c068"
   },
   "outputs": [],
   "source": []
  },
  {
   "cell_type": "code",
   "execution_count": null,
   "id": "b4125d3f",
   "metadata": {
    "id": "b4125d3f"
   },
   "outputs": [],
   "source": []
  },
  {
   "cell_type": "code",
   "execution_count": null,
   "id": "e465d8c1",
   "metadata": {
    "id": "e465d8c1"
   },
   "outputs": [],
   "source": []
  },
  {
   "cell_type": "code",
   "execution_count": null,
   "id": "b8ec7b7f",
   "metadata": {
    "id": "b8ec7b7f"
   },
   "outputs": [],
   "source": []
  }
 ],
 "metadata": {
  "accelerator": "TPU",
  "colab": {
   "machine_shape": "hm",
   "name": "TFG.ipynb",
   "provenance": []
  },
  "gpuClass": "standard",
  "kernelspec": {
   "display_name": "Python 3 (ipykernel)",
   "language": "python",
   "name": "python3"
  },
  "language_info": {
   "codemirror_mode": {
    "name": "ipython",
    "version": 3
   },
   "file_extension": ".py",
   "mimetype": "text/x-python",
   "name": "python",
   "nbconvert_exporter": "python",
   "pygments_lexer": "ipython3",
   "version": "3.9.13"
  }
 },
 "nbformat": 4,
 "nbformat_minor": 5
}
